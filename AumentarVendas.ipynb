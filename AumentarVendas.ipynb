{
 "cells": [
  {
   "cell_type": "markdown",
   "metadata": {},
   "source": [
    "#  1.0 Insurance All"
   ]
  },
  {
   "cell_type": "markdown",
   "metadata": {},
   "source": [
    "Disclaimer: O Contexto a seguir, é completamente fictício, a empresa, o contexto, o CEO, as perguntas de negócio existem somente na cabeça do [Meigarom](https://www.instagram.com/meigarom.datascience/), criador da Comunidade DS, idealizador do blog [Seja um Data Scientist](https://sejaumdatascientist.com/). "
   ]
  },
  {
   "cell_type": "markdown",
   "metadata": {},
   "source": [
    "A Insurance All é uma empresa que fornece seguro de saúde para seus clientes e o time de produtos está analisando a possibilidade de oferecer aos assegurados, um novo produto: Um seguro de automóveis.\n",
    "\n",
    "Assim como o seguro de saúde, os clientes desse novo plano de seguro de automóveis precisam pagar um valor anualmente à Insurance All para obter um valor assegurado pela empresa, destinado aos custos de um eventual acidente ou dano ao veículo.\n",
    "\n",
    "A Insurance All fez uma pesquisa com cerca de 380 mil clientes sobre o interesse em aderir a um novo produto de seguro de automóveis, no ano passado. Todos os clientes demonstraram interesse ou não em adquirir o seguro de automóvel e essas respostas ficaram salvas em um banco de dados junto com outros atributos dos clientes.\n",
    "\n",
    "O time de produtos selecionou 127 mil novos clientes que não responderam a pesquisa para participar de uma campanha, no qual receberão a oferta do novo produto de seguro de automóveis. A oferta será feita pelo time de vendas através de ligações telefônicas.\n",
    "\n",
    "Contudo, o time de vendas tem uma capacidade de realizar 20 mil ligações dentro do período da campanha."
   ]
  },
  {
   "cell_type": "markdown",
   "metadata": {},
   "source": [
    "# 2.0 O Desafio"
   ]
  },
  {
   "cell_type": "markdown",
   "metadata": {},
   "source": [
    "Construir um modelo que prediz se o cliente estaria ou não interessado no seguro de automóvel. \n",
    "\n",
    "O time de vendas espera conseguir priorizar as pessoas com maior interesse no novo produto e assim, otimizar a campanha realizando apenas contatos aos clientes mais propensos a realizar a compra.\n",
    "\n",
    "Entregar um relatório contendo algumas análises e respostas às seguintes perguntas:\n",
    "\n",
    "- Principais Insights sobre os atributos mais relevantes de clientes interessados em adquirir um seguro de automóvel.\n",
    "- Qual a porcentagem de clientes interessados em adquirir um seguro de automóvel, o time de vendas conseguirá contatar fazendo 20.000 ligações?\n",
    "- E se a capacidade do time de vendas aumentar para 40.000 ligações, qual a porcentagem de clientes interessados em adquirir um seguro de automóvel o time de vendas conseguirá contatar?\n",
    "- Quantas ligações o time de vendas precisa fazer para contatar 80% dos clientes interessados em adquirir um seguro de automóvel?"
   ]
  },
  {
   "cell_type": "markdown",
   "metadata": {},
   "source": [
    "# 3.0 Os Dados"
   ]
  },
  {
   "cell_type": "markdown",
   "metadata": {},
   "source": [
    "O conjunto de dados está disponível na plataforma do Kaggle, através desse link: https://www.kaggle.com/anmolkumar/health-insurance-cross-sell-prediction \n",
    "\n",
    "Cada linha representa um cliente e cada coluna contém alguns atributos que descrevem esse cliente, além da sua resposta à pesquisa, na qual ela mencionou interesse ou não ao novo produto de seguros. \n",
    "\n",
    "O conjunto de dados inclui as seguintes informações:\n",
    "\n",
    "- Id: identificador único do cliente.\n",
    "- Gender: gênero do cliente.\n",
    "- Age: idade do cliente.\n",
    "- Driving License: 0, o cliente não tem permissão para dirigir e 1, o cliente tem para dirigir ( CNH – Carteira Nacional de Habilitação )\n",
    "- Region Code: código da região do cliente.\n",
    "- Previously Insured: 0, o cliente não tem seguro de automóvel e 1, o cliente já tem seguro de automóvel.\n",
    "- Vehicle Age: idade do veículo.\n",
    "- Vehicle Damage: 0, cliente nunca teve seu veículo danificado no passado e 1, cliente já teve seu veículo danificado no passado.\n",
    "- Anual Premium: quantidade que o cliente pagou à empresa pelo seguro de saúde anual.\n",
    "- Policy sales channel: código anônimo para o canal de contato com o cliente.\n",
    "- Vintage: número de dias que o cliente se associou à empresa através da compra do seguro de saúde.\n",
    "- Response: 0, o cliente não tem interesse e 1, o cliente tem interesse."
   ]
  },
  {
   "cell_type": "markdown",
   "metadata": {},
   "source": [
    "# 4.0 Funções Auxiliares"
   ]
  },
  {
   "cell_type": "code",
   "execution_count": 1,
   "metadata": {},
   "outputs": [],
   "source": [
    "# tabela de proporção entre duas variáveis\n",
    "def cross_prop_tab(data, var1, var2):\n",
    "    return round(100 * pd.crosstab(data[var1], data[var2]).apply(lambda x: x/sum(x), axis = 1), 2)\n",
    "\n",
    "# plot confusion matrix\n",
    "def con_mtx(clf, clf_name, x, y):\n",
    "    plot_confusion_matrix(clf, x, y)\n",
    "    plt.title(clf_name)\n",
    "    plt.show()\n",
    "\n",
    "# treinamento com cross validation e plot dos resultados\n",
    "def model_choice(models, x_train, x_test, y_train, y_test):\n",
    "    \n",
    "    # lista para gravar os resultados\n",
    "    #results    = []\n",
    "    #model_name = []\n",
    "    #avg_ds     = []\n",
    "    \n",
    "    # separação do dataset e k-folds (cross-validation)\n",
    "    #kfold = KFold(n_splits = 5, shuffle = True, random_state = 123)\n",
    "    \n",
    "    # treinamento do modelo e gravação dos resultados no dataframe\n",
    "    for name, model in models:\n",
    "        clf  = model.fit(x_train, y_train)\n",
    "        pred = clf.predict(x_test) \n",
    "        print('\\n{} - Classification Report:\\n'.format(name))\n",
    "        print(classification_report(y_test, pred))\n",
    "        #acc = cross_val_score(model, predictors, target, cv = kfold, scoring = 'accuracy', n_jobs = -1)\n",
    "        #results.append(acc)\n",
    "        #model_name.append(name)\n",
    "        #print('{}: {} ({})'.format(name, round(acc.mean(), 4), round(acc.std(), 6)))\n",
    "    \n",
    "    # calcular a média das acurácias dos algortimos treinados\n",
    "    #for i in range(0, len(results)):\n",
    "        #avg = sum(results[i])/len(results[i])\n",
    "        #avg_ds.append(avg)\n",
    "    \n",
    "    #print('\\nAccuracy Average: ',  round((100 * sum(avg_ds)/len(avg_ds)), 2))\n",
    "    #print('Standard deviation of accuracy:', round(np.std(avg_ds), 3))\n",
    "    \n",
    "    # boxplot para comparar os algoritmos\n",
    "    #fig = plt.figure(figsize = (12,6))\n",
    "    #fig.suptitle('Algorithms')\n",
    "    #ax  = fig.add_subplot(111)\n",
    "    #plt.boxplot(results)\n",
    "    #ax.set_xticklabels(model_name)\n",
    "    #plt.show()\n",
    "    \n",
    "# plot da AUC\n",
    "def roc_auc_plot(clf, clf_name, x, y):\n",
    "    fpr, tpr, _ = roc_curve(y, clf.predict_proba(x)[:, 1])\n",
    "    roc_auc     = round(auc(fpr, tpr), 5)\n",
    "    \n",
    "    plt.title('{} - AUC = {}'.format(clf_name, roc_auc))\n",
    "    plt.plot(fpr, tpr, 'b')\n",
    "    plt.plot([0,1], [0,1], 'r--')\n",
    "    plt.show()"
   ]
  },
  {
   "cell_type": "markdown",
   "metadata": {},
   "source": [
    "# 5.0 Explorando os Dados"
   ]
  },
  {
   "cell_type": "markdown",
   "metadata": {},
   "source": [
    "## 5.1 Imports"
   ]
  },
  {
   "cell_type": "code",
   "execution_count": 2,
   "metadata": {},
   "outputs": [],
   "source": [
    "import pandas as pd\n",
    "import numpy  as np\n",
    "\n",
    "from scipy import stats\n",
    "\n",
    "import matplotlib.pyplot as plt\n",
    "import seaborn           as sns\n",
    "import squarify\n",
    "\n",
    "from sklearn.preprocessing import StandardScaler\n",
    "\n",
    "from sklearn.model_selection import cross_val_score\n",
    "from sklearn.model_selection import KFold\n",
    "from sklearn.model_selection import train_test_split\n",
    "from sklearn.model_selection import RandomizedSearchCV\n",
    "\n",
    "from sklearn.ensemble     import RandomForestClassifier\n",
    "from sklearn.linear_model import LogisticRegression\n",
    "from sklearn.neighbors    import KNeighborsClassifier\n",
    "from sklearn.svm          import SVC\n",
    "from xgboost              import XGBClassifier\n",
    "\n",
    "from sklearn.metrics import accuracy_score\n",
    "from sklearn.metrics import roc_auc_score\n",
    "from sklearn.metrics import roc_curve\n",
    "from sklearn.metrics import auc\n",
    "from sklearn.metrics import confusion_matrix, plot_confusion_matrix\n",
    "from sklearn.metrics import classification_report\n",
    "from sklearn.metrics import recall_score\n",
    "\n",
    "from imblearn.under_sampling import RandomUnderSampler\n",
    "from imblearn.over_sampling  import SMOTE\n",
    "\n",
    "import pickle\n",
    "\n",
    "import warnings\n",
    "\n",
    "warnings.filterwarnings('ignore')\n",
    "pd.options.display.float_format = '{:.2f}'.format"
   ]
  },
  {
   "cell_type": "markdown",
   "metadata": {},
   "source": [
    "## 5.2 Os Dados"
   ]
  },
  {
   "cell_type": "code",
   "execution_count": 3,
   "metadata": {},
   "outputs": [],
   "source": [
    "# importando os dados de treino\n",
    "data = pd.read_csv('train.csv')\n",
    "\n",
    "# dados de test\n",
    "test = pd.read_csv('test.csv')"
   ]
  },
  {
   "cell_type": "code",
   "execution_count": 4,
   "metadata": {},
   "outputs": [
    {
     "data": {
      "text/html": [
       "<div>\n",
       "<style scoped>\n",
       "    .dataframe tbody tr th:only-of-type {\n",
       "        vertical-align: middle;\n",
       "    }\n",
       "\n",
       "    .dataframe tbody tr th {\n",
       "        vertical-align: top;\n",
       "    }\n",
       "\n",
       "    .dataframe thead th {\n",
       "        text-align: right;\n",
       "    }\n",
       "</style>\n",
       "<table border=\"1\" class=\"dataframe\">\n",
       "  <thead>\n",
       "    <tr style=\"text-align: right;\">\n",
       "      <th></th>\n",
       "      <th>id</th>\n",
       "      <th>Gender</th>\n",
       "      <th>Age</th>\n",
       "      <th>Driving_License</th>\n",
       "      <th>Region_Code</th>\n",
       "      <th>Previously_Insured</th>\n",
       "      <th>Vehicle_Age</th>\n",
       "      <th>Vehicle_Damage</th>\n",
       "      <th>Annual_Premium</th>\n",
       "      <th>Policy_Sales_Channel</th>\n",
       "      <th>Vintage</th>\n",
       "      <th>Response</th>\n",
       "    </tr>\n",
       "  </thead>\n",
       "  <tbody>\n",
       "    <tr>\n",
       "      <th>0</th>\n",
       "      <td>1</td>\n",
       "      <td>Male</td>\n",
       "      <td>44</td>\n",
       "      <td>1</td>\n",
       "      <td>28.00</td>\n",
       "      <td>0</td>\n",
       "      <td>&gt; 2 Years</td>\n",
       "      <td>Yes</td>\n",
       "      <td>40454.00</td>\n",
       "      <td>26.00</td>\n",
       "      <td>217</td>\n",
       "      <td>1</td>\n",
       "    </tr>\n",
       "    <tr>\n",
       "      <th>1</th>\n",
       "      <td>2</td>\n",
       "      <td>Male</td>\n",
       "      <td>76</td>\n",
       "      <td>1</td>\n",
       "      <td>3.00</td>\n",
       "      <td>0</td>\n",
       "      <td>1-2 Year</td>\n",
       "      <td>No</td>\n",
       "      <td>33536.00</td>\n",
       "      <td>26.00</td>\n",
       "      <td>183</td>\n",
       "      <td>0</td>\n",
       "    </tr>\n",
       "    <tr>\n",
       "      <th>2</th>\n",
       "      <td>3</td>\n",
       "      <td>Male</td>\n",
       "      <td>47</td>\n",
       "      <td>1</td>\n",
       "      <td>28.00</td>\n",
       "      <td>0</td>\n",
       "      <td>&gt; 2 Years</td>\n",
       "      <td>Yes</td>\n",
       "      <td>38294.00</td>\n",
       "      <td>26.00</td>\n",
       "      <td>27</td>\n",
       "      <td>1</td>\n",
       "    </tr>\n",
       "    <tr>\n",
       "      <th>3</th>\n",
       "      <td>4</td>\n",
       "      <td>Male</td>\n",
       "      <td>21</td>\n",
       "      <td>1</td>\n",
       "      <td>11.00</td>\n",
       "      <td>1</td>\n",
       "      <td>&lt; 1 Year</td>\n",
       "      <td>No</td>\n",
       "      <td>28619.00</td>\n",
       "      <td>152.00</td>\n",
       "      <td>203</td>\n",
       "      <td>0</td>\n",
       "    </tr>\n",
       "    <tr>\n",
       "      <th>4</th>\n",
       "      <td>5</td>\n",
       "      <td>Female</td>\n",
       "      <td>29</td>\n",
       "      <td>1</td>\n",
       "      <td>41.00</td>\n",
       "      <td>1</td>\n",
       "      <td>&lt; 1 Year</td>\n",
       "      <td>No</td>\n",
       "      <td>27496.00</td>\n",
       "      <td>152.00</td>\n",
       "      <td>39</td>\n",
       "      <td>0</td>\n",
       "    </tr>\n",
       "  </tbody>\n",
       "</table>\n",
       "</div>"
      ],
      "text/plain": [
       "   id  Gender  Age  Driving_License  Region_Code  Previously_Insured  \\\n",
       "0   1    Male   44                1        28.00                   0   \n",
       "1   2    Male   76                1         3.00                   0   \n",
       "2   3    Male   47                1        28.00                   0   \n",
       "3   4    Male   21                1        11.00                   1   \n",
       "4   5  Female   29                1        41.00                   1   \n",
       "\n",
       "  Vehicle_Age Vehicle_Damage  Annual_Premium  Policy_Sales_Channel  Vintage  \\\n",
       "0   > 2 Years            Yes        40454.00                 26.00      217   \n",
       "1    1-2 Year             No        33536.00                 26.00      183   \n",
       "2   > 2 Years            Yes        38294.00                 26.00       27   \n",
       "3    < 1 Year             No        28619.00                152.00      203   \n",
       "4    < 1 Year             No        27496.00                152.00       39   \n",
       "\n",
       "   Response  \n",
       "0         1  \n",
       "1         0  \n",
       "2         1  \n",
       "3         0  \n",
       "4         0  "
      ]
     },
     "execution_count": 4,
     "metadata": {},
     "output_type": "execute_result"
    }
   ],
   "source": [
    "# dados\n",
    "data.head()"
   ]
  },
  {
   "cell_type": "code",
   "execution_count": 5,
   "metadata": {},
   "outputs": [
    {
     "name": "stdout",
     "output_type": "stream",
     "text": [
      "<class 'pandas.core.frame.DataFrame'>\n",
      "RangeIndex: 381109 entries, 0 to 381108\n",
      "Data columns (total 12 columns):\n",
      " #   Column                Non-Null Count   Dtype  \n",
      "---  ------                --------------   -----  \n",
      " 0   id                    381109 non-null  int64  \n",
      " 1   Gender                381109 non-null  object \n",
      " 2   Age                   381109 non-null  int64  \n",
      " 3   Driving_License       381109 non-null  int64  \n",
      " 4   Region_Code           381109 non-null  float64\n",
      " 5   Previously_Insured    381109 non-null  int64  \n",
      " 6   Vehicle_Age           381109 non-null  object \n",
      " 7   Vehicle_Damage        381109 non-null  object \n",
      " 8   Annual_Premium        381109 non-null  float64\n",
      " 9   Policy_Sales_Channel  381109 non-null  float64\n",
      " 10  Vintage               381109 non-null  int64  \n",
      " 11  Response              381109 non-null  int64  \n",
      "dtypes: float64(3), int64(6), object(3)\n",
      "memory usage: 34.9+ MB\n"
     ]
    }
   ],
   "source": [
    "# informações sobre os dados\n",
    "data.info()"
   ]
  },
  {
   "cell_type": "code",
   "execution_count": 6,
   "metadata": {},
   "outputs": [
    {
     "data": {
      "text/plain": [
       "id                      False\n",
       "Gender                  False\n",
       "Age                     False\n",
       "Driving_License         False\n",
       "Region_Code             False\n",
       "Previously_Insured      False\n",
       "Vehicle_Age             False\n",
       "Vehicle_Damage          False\n",
       "Annual_Premium          False\n",
       "Policy_Sales_Channel    False\n",
       "Vintage                 False\n",
       "Response                False\n",
       "dtype: bool"
      ]
     },
     "execution_count": 6,
     "metadata": {},
     "output_type": "execute_result"
    }
   ],
   "source": [
    "# missing values\n",
    "data.isna().any()"
   ]
  },
  {
   "cell_type": "code",
   "execution_count": 7,
   "metadata": {},
   "outputs": [
    {
     "data": {
      "text/plain": [
       "(381109, 12)"
      ]
     },
     "execution_count": 7,
     "metadata": {},
     "output_type": "execute_result"
    }
   ],
   "source": [
    "# shape dos dados\n",
    "data.shape"
   ]
  },
  {
   "cell_type": "markdown",
   "metadata": {},
   "source": [
    "- Não temos valores nulos/ausentes para os nossos dados.\n",
    "\n",
    "- Os tipos de dados presentes no nossa dataset estão entre: int, float e object.\n",
    "\n",
    "- Temos 381.109 linhas e 12 colunas, sendo que uma dessas colunas contém a variável alvo (Response)."
   ]
  },
  {
   "cell_type": "code",
   "execution_count": 8,
   "metadata": {},
   "outputs": [
    {
     "data": {
      "text/html": [
       "<div>\n",
       "<style scoped>\n",
       "    .dataframe tbody tr th:only-of-type {\n",
       "        vertical-align: middle;\n",
       "    }\n",
       "\n",
       "    .dataframe tbody tr th {\n",
       "        vertical-align: top;\n",
       "    }\n",
       "\n",
       "    .dataframe thead th {\n",
       "        text-align: right;\n",
       "    }\n",
       "</style>\n",
       "<table border=\"1\" class=\"dataframe\">\n",
       "  <thead>\n",
       "    <tr style=\"text-align: right;\">\n",
       "      <th></th>\n",
       "      <th>id</th>\n",
       "      <th>Age</th>\n",
       "      <th>Driving_License</th>\n",
       "      <th>Region_Code</th>\n",
       "      <th>Previously_Insured</th>\n",
       "      <th>Annual_Premium</th>\n",
       "      <th>Policy_Sales_Channel</th>\n",
       "      <th>Vintage</th>\n",
       "      <th>Response</th>\n",
       "    </tr>\n",
       "  </thead>\n",
       "  <tbody>\n",
       "    <tr>\n",
       "      <th>count</th>\n",
       "      <td>381109.00</td>\n",
       "      <td>381109.00</td>\n",
       "      <td>381109.00</td>\n",
       "      <td>381109.00</td>\n",
       "      <td>381109.00</td>\n",
       "      <td>381109.00</td>\n",
       "      <td>381109.00</td>\n",
       "      <td>381109.00</td>\n",
       "      <td>381109.00</td>\n",
       "    </tr>\n",
       "    <tr>\n",
       "      <th>mean</th>\n",
       "      <td>190555.00</td>\n",
       "      <td>38.82</td>\n",
       "      <td>1.00</td>\n",
       "      <td>26.39</td>\n",
       "      <td>0.46</td>\n",
       "      <td>30564.39</td>\n",
       "      <td>112.03</td>\n",
       "      <td>154.35</td>\n",
       "      <td>0.12</td>\n",
       "    </tr>\n",
       "    <tr>\n",
       "      <th>std</th>\n",
       "      <td>110016.84</td>\n",
       "      <td>15.51</td>\n",
       "      <td>0.05</td>\n",
       "      <td>13.23</td>\n",
       "      <td>0.50</td>\n",
       "      <td>17213.16</td>\n",
       "      <td>54.20</td>\n",
       "      <td>83.67</td>\n",
       "      <td>0.33</td>\n",
       "    </tr>\n",
       "    <tr>\n",
       "      <th>min</th>\n",
       "      <td>1.00</td>\n",
       "      <td>20.00</td>\n",
       "      <td>0.00</td>\n",
       "      <td>0.00</td>\n",
       "      <td>0.00</td>\n",
       "      <td>2630.00</td>\n",
       "      <td>1.00</td>\n",
       "      <td>10.00</td>\n",
       "      <td>0.00</td>\n",
       "    </tr>\n",
       "    <tr>\n",
       "      <th>25%</th>\n",
       "      <td>95278.00</td>\n",
       "      <td>25.00</td>\n",
       "      <td>1.00</td>\n",
       "      <td>15.00</td>\n",
       "      <td>0.00</td>\n",
       "      <td>24405.00</td>\n",
       "      <td>29.00</td>\n",
       "      <td>82.00</td>\n",
       "      <td>0.00</td>\n",
       "    </tr>\n",
       "    <tr>\n",
       "      <th>50%</th>\n",
       "      <td>190555.00</td>\n",
       "      <td>36.00</td>\n",
       "      <td>1.00</td>\n",
       "      <td>28.00</td>\n",
       "      <td>0.00</td>\n",
       "      <td>31669.00</td>\n",
       "      <td>133.00</td>\n",
       "      <td>154.00</td>\n",
       "      <td>0.00</td>\n",
       "    </tr>\n",
       "    <tr>\n",
       "      <th>75%</th>\n",
       "      <td>285832.00</td>\n",
       "      <td>49.00</td>\n",
       "      <td>1.00</td>\n",
       "      <td>35.00</td>\n",
       "      <td>1.00</td>\n",
       "      <td>39400.00</td>\n",
       "      <td>152.00</td>\n",
       "      <td>227.00</td>\n",
       "      <td>0.00</td>\n",
       "    </tr>\n",
       "    <tr>\n",
       "      <th>max</th>\n",
       "      <td>381109.00</td>\n",
       "      <td>85.00</td>\n",
       "      <td>1.00</td>\n",
       "      <td>52.00</td>\n",
       "      <td>1.00</td>\n",
       "      <td>540165.00</td>\n",
       "      <td>163.00</td>\n",
       "      <td>299.00</td>\n",
       "      <td>1.00</td>\n",
       "    </tr>\n",
       "  </tbody>\n",
       "</table>\n",
       "</div>"
      ],
      "text/plain": [
       "             id       Age  Driving_License  Region_Code  Previously_Insured  \\\n",
       "count 381109.00 381109.00        381109.00    381109.00           381109.00   \n",
       "mean  190555.00     38.82             1.00        26.39                0.46   \n",
       "std   110016.84     15.51             0.05        13.23                0.50   \n",
       "min        1.00     20.00             0.00         0.00                0.00   \n",
       "25%    95278.00     25.00             1.00        15.00                0.00   \n",
       "50%   190555.00     36.00             1.00        28.00                0.00   \n",
       "75%   285832.00     49.00             1.00        35.00                1.00   \n",
       "max   381109.00     85.00             1.00        52.00                1.00   \n",
       "\n",
       "       Annual_Premium  Policy_Sales_Channel   Vintage  Response  \n",
       "count       381109.00             381109.00 381109.00 381109.00  \n",
       "mean         30564.39                112.03    154.35      0.12  \n",
       "std          17213.16                 54.20     83.67      0.33  \n",
       "min           2630.00                  1.00     10.00      0.00  \n",
       "25%          24405.00                 29.00     82.00      0.00  \n",
       "50%          31669.00                133.00    154.00      0.00  \n",
       "75%          39400.00                152.00    227.00      0.00  \n",
       "max         540165.00                163.00    299.00      1.00  "
      ]
     },
     "execution_count": 8,
     "metadata": {},
     "output_type": "execute_result"
    }
   ],
   "source": [
    "# resumo estatístico\n",
    "data.describe()"
   ]
  },
  {
   "cell_type": "markdown",
   "metadata": {},
   "source": [
    "- O range de idade vai de 0 a 85 anos, sendo que 75% dos clientes tem entre 20 e 49 anos.\n",
    "- 45,8% dos clientes já possuem seguro para o seu automóvel.\n",
    "- Apenas 12,25% dos clientes possuem interesse em um seguro para o seu automóvel."
   ]
  },
  {
   "cell_type": "markdown",
   "metadata": {},
   "source": [
    "## 5.3 Explorando os Dados"
   ]
  },
  {
   "cell_type": "markdown",
   "metadata": {},
   "source": [
    "### 5.3.1 Gender"
   ]
  },
  {
   "cell_type": "markdown",
   "metadata": {},
   "source": [
    "#### 4.3.1.1 Hipótese"
   ]
  },
  {
   "cell_type": "markdown",
   "metadata": {},
   "source": [
    "Vamos avaliar se há uma associação entre o sexo do cliente e o interesse dele possuir ou não no seguro de automóvel.\n",
    "\n",
    "Para isso, utilizaremos o *Chi-square Test of Independence*. Sendo que:\n",
    "\n",
    "- Hipótese nula: não existe associação significativa entre as variáveis.\n",
    "- Hipótese alternativa: existe associação significativa entre as variáveis."
   ]
  },
  {
   "cell_type": "code",
   "execution_count": 9,
   "metadata": {},
   "outputs": [
    {
     "data": {
      "text/plain": [
       "(1048.0286199243903, 2.651409115700363e-228, 2)"
      ]
     },
     "execution_count": 9,
     "metadata": {},
     "output_type": "execute_result"
    }
   ],
   "source": [
    "# tabela de frequências\n",
    "crosstable = pd.crosstab(data.Gender, data.Response, margins = True)\n",
    "\n",
    "# gravando os valores em um array\n",
    "obs        = np.array([crosstable.iloc[0].values, crosstable.iloc[1].values])\n",
    "\n",
    "# teste de X²\n",
    "chi2       = stats.chi2_contingency(obs)\n",
    "\n",
    "# resultados\n",
    "chi2[:3]"
   ]
  },
  {
   "cell_type": "markdown",
   "metadata": {},
   "source": [
    "O primeiro valor representa o resultado para o chi-squared, e o segundo é o p-value.\n",
    "\n",
    "Como temos um p-value < 0.05, isso significa que podemos rejeitar a hipótese nula, ou seja, existe associação significativa entre as variáveis Gender e Response. **O que não significa que há causalidade.**"
   ]
  },
  {
   "cell_type": "code",
   "execution_count": 10,
   "metadata": {},
   "outputs": [
    {
     "name": "stdout",
     "output_type": "stream",
     "text": [
      "Frequencies Table:\n",
      "\n",
      "Response       0      1     All\n",
      "Gender                         \n",
      "Female    156835  18185  175020\n",
      "Male      177564  28525  206089\n",
      "All       334399  46710  381109\n",
      "\n",
      "\n",
      "Expected Frequencies Table:\n",
      "\n",
      "[[153568.9605336  21451.0394664 175020.       ]\n",
      " [180830.0394664  25258.9605336 206089.       ]]\n"
     ]
    }
   ],
   "source": [
    "# tabela de frequências\n",
    "print('Frequencies Table:\\n')\n",
    "print(crosstable)\n",
    "\n",
    "# tabela de frequências esperada\n",
    "print('\\n\\nExpected Frequencies Table:\\n')\n",
    "print(chi2[3])"
   ]
  },
  {
   "cell_type": "markdown",
   "metadata": {},
   "source": [
    "#### 4.3.1.2 Proporção de Clientes Masculinos e Femininos"
   ]
  },
  {
   "cell_type": "markdown",
   "metadata": {},
   "source": [
    "No total, para o dataset em questão, há mais clientes homens do que clientes mulheres."
   ]
  },
  {
   "cell_type": "code",
   "execution_count": 11,
   "metadata": {},
   "outputs": [
    {
     "data": {
      "image/png": "[encoded data removed]",
      "text/plain": [
       "<Figure size 432x288 with 1 Axes>"
      ]
     },
     "metadata": {},
     "output_type": "display_data"
    }
   ],
   "source": [
    "# plot com a contagem dos clientes homens e mulheres\n",
    "sns.set_style('whitegrid')\n",
    "sns.countplot(x = 'Gender', data = data)\n",
    "sns.despine()"
   ]
  },
  {
   "cell_type": "code",
   "execution_count": 12,
   "metadata": {},
   "outputs": [
    {
     "data": {
      "text/plain": [
       "Male     54.08\n",
       "Female   45.92\n",
       "Name: Gender, dtype: float64"
      ]
     },
     "execution_count": 12,
     "metadata": {},
     "output_type": "execute_result"
    }
   ],
   "source": [
    "# proporção em porcentagem para o plot anterior\n",
    "data.Gender.value_counts().apply(lambda x: x/data.Gender.value_counts().sum()) * 100"
   ]
  },
  {
   "cell_type": "markdown",
   "metadata": {},
   "source": [
    "#### 4.3.1.3 Interesse em Seguro de Automóvel por Gênero"
   ]
  },
  {
   "cell_type": "markdown",
   "metadata": {},
   "source": [
    "Existem mais homens interessados (13,84% dentre todos os homens), proporcionalmente, no seguro de automóvel do que mulheres (10,39% dentre todas as mulheres). Mas isso não representa muita coisa, uma vez que não investigamos quantos, dentre os clientes, já possuem ou não um seguro ativo."
   ]
  },
  {
   "cell_type": "code",
   "execution_count": 13,
   "metadata": {},
   "outputs": [
    {
     "data": {
      "text/html": [
       "<div>\n",
       "<style scoped>\n",
       "    .dataframe tbody tr th:only-of-type {\n",
       "        vertical-align: middle;\n",
       "    }\n",
       "\n",
       "    .dataframe tbody tr th {\n",
       "        vertical-align: top;\n",
       "    }\n",
       "\n",
       "    .dataframe thead th {\n",
       "        text-align: right;\n",
       "    }\n",
       "</style>\n",
       "<table border=\"1\" class=\"dataframe\">\n",
       "  <thead>\n",
       "    <tr style=\"text-align: right;\">\n",
       "      <th>Response</th>\n",
       "      <th>0</th>\n",
       "      <th>1</th>\n",
       "    </tr>\n",
       "    <tr>\n",
       "      <th>Gender</th>\n",
       "      <th></th>\n",
       "      <th></th>\n",
       "    </tr>\n",
       "  </thead>\n",
       "  <tbody>\n",
       "    <tr>\n",
       "      <th>Female</th>\n",
       "      <td>89.61</td>\n",
       "      <td>10.39</td>\n",
       "    </tr>\n",
       "    <tr>\n",
       "      <th>Male</th>\n",
       "      <td>86.16</td>\n",
       "      <td>13.84</td>\n",
       "    </tr>\n",
       "  </tbody>\n",
       "</table>\n",
       "</div>"
      ],
      "text/plain": [
       "Response     0     1\n",
       "Gender              \n",
       "Female   89.61 10.39\n",
       "Male     86.16 13.84"
      ]
     },
     "execution_count": 13,
     "metadata": {},
     "output_type": "execute_result"
    }
   ],
   "source": [
    "# proporção de clientes homens e mulheres que estão ou não interessado no seguro de automóvel\n",
    "prop_client_response = cross_prop_tab(data = data, var1 = 'Gender', var2 = 'Response')\n",
    "prop_client_response"
   ]
  },
  {
   "cell_type": "code",
   "execution_count": 14,
   "metadata": {},
   "outputs": [
    {
     "data": {
      "image/png": "[encoded data removed]",
      "text/plain": [
       "<Figure size 432x288 with 1 Axes>"
      ]
     },
     "metadata": {},
     "output_type": "display_data"
    }
   ],
   "source": [
    "# plot\n",
    "prop_client_response.plot(kind = 'bar')\n",
    "plt.xticks(rotation = 0)\n",
    "plt.legend(['No', 'Yes'])\n",
    "plt.show()"
   ]
  },
  {
   "cell_type": "markdown",
   "metadata": {},
   "source": [
    "#### 4.3.1.4 Seguro Ativo de Automóvel por Gênero"
   ]
  },
  {
   "cell_type": "markdown",
   "metadata": {},
   "source": [
    "Proporcinalmente, há mais mulheres que possuem seguro ativo do que homens."
   ]
  },
  {
   "cell_type": "code",
   "execution_count": 15,
   "metadata": {},
   "outputs": [
    {
     "data": {
      "text/html": [
       "<div>\n",
       "<style scoped>\n",
       "    .dataframe tbody tr th:only-of-type {\n",
       "        vertical-align: middle;\n",
       "    }\n",
       "\n",
       "    .dataframe tbody tr th {\n",
       "        vertical-align: top;\n",
       "    }\n",
       "\n",
       "    .dataframe thead th {\n",
       "        text-align: right;\n",
       "    }\n",
       "</style>\n",
       "<table border=\"1\" class=\"dataframe\">\n",
       "  <thead>\n",
       "    <tr style=\"text-align: right;\">\n",
       "      <th>Previously_Insured</th>\n",
       "      <th>0</th>\n",
       "      <th>1</th>\n",
       "    </tr>\n",
       "    <tr>\n",
       "      <th>Gender</th>\n",
       "      <th></th>\n",
       "      <th></th>\n",
       "    </tr>\n",
       "  </thead>\n",
       "  <tbody>\n",
       "    <tr>\n",
       "      <th>Female</th>\n",
       "      <td>49.75</td>\n",
       "      <td>50.25</td>\n",
       "    </tr>\n",
       "    <tr>\n",
       "      <th>Male</th>\n",
       "      <td>57.94</td>\n",
       "      <td>42.06</td>\n",
       "    </tr>\n",
       "  </tbody>\n",
       "</table>\n",
       "</div>"
      ],
      "text/plain": [
       "Previously_Insured     0     1\n",
       "Gender                        \n",
       "Female             49.75 50.25\n",
       "Male               57.94 42.06"
      ]
     },
     "execution_count": 15,
     "metadata": {},
     "output_type": "execute_result"
    }
   ],
   "source": [
    "# proporção de clientes homens e mulheres que possuem o seguro de automóvel\n",
    "prop_client_insu = cross_prop_tab(data = data, var1 = 'Gender', var2 = 'Previously_Insured')\n",
    "prop_client_insu"
   ]
  },
  {
   "cell_type": "code",
   "execution_count": 16,
   "metadata": {},
   "outputs": [
    {
     "data": {
      "image/png": "[encoded data removed]",
      "text/plain": [
       "<Figure size 576x360 with 1 Axes>"
      ]
     },
     "metadata": {},
     "output_type": "display_data"
    }
   ],
   "source": [
    "# plot\n",
    "prop_client_insu.plot(kind = 'bar', figsize = (8,5))\n",
    "plt.xticks(rotation = 0)\n",
    "plt.legend(['No','Yes'])\n",
    "plt.show()"
   ]
  },
  {
   "cell_type": "markdown",
   "metadata": {},
   "source": [
    "#### 4.3.1.5 Tempo de Contrato do Seguro Saúde por Gênero"
   ]
  },
  {
   "cell_type": "markdown",
   "metadata": {},
   "source": [
    "Em média, não há diferença do tempo de contratação do seguro entre homens e mulheres."
   ]
  },
  {
   "cell_type": "code",
   "execution_count": 17,
   "metadata": {},
   "outputs": [
    {
     "data": {
      "text/html": [
       "<div>\n",
       "<style scoped>\n",
       "    .dataframe tbody tr th:only-of-type {\n",
       "        vertical-align: middle;\n",
       "    }\n",
       "\n",
       "    .dataframe tbody tr th {\n",
       "        vertical-align: top;\n",
       "    }\n",
       "\n",
       "    .dataframe thead th {\n",
       "        text-align: right;\n",
       "    }\n",
       "</style>\n",
       "<table border=\"1\" class=\"dataframe\">\n",
       "  <thead>\n",
       "    <tr style=\"text-align: right;\">\n",
       "      <th></th>\n",
       "      <th>Vintage</th>\n",
       "    </tr>\n",
       "    <tr>\n",
       "      <th>Gender</th>\n",
       "      <th></th>\n",
       "    </tr>\n",
       "  </thead>\n",
       "  <tbody>\n",
       "    <tr>\n",
       "      <th>Female</th>\n",
       "      <td>154.58</td>\n",
       "    </tr>\n",
       "    <tr>\n",
       "      <th>Male</th>\n",
       "      <td>154.15</td>\n",
       "    </tr>\n",
       "  </tbody>\n",
       "</table>\n",
       "</div>"
      ],
      "text/plain": [
       "        Vintage\n",
       "Gender         \n",
       "Female   154.58\n",
       "Male     154.15"
      ]
     },
     "execution_count": 17,
     "metadata": {},
     "output_type": "execute_result"
    }
   ],
   "source": [
    "# gênero que está a mais tempo com o seguro\n",
    "data[['Gender', 'Vintage']].groupby(['Gender']).mean()"
   ]
  },
  {
   "cell_type": "markdown",
   "metadata": {},
   "source": [
    "#### 4.3.1.6 Proporção de Interesse em Seguro de Automóvel para Quem Já Possui ou Não Seguro Ativo por Gênero"
   ]
  },
  {
   "cell_type": "markdown",
   "metadata": {},
   "source": [
    "Das clientes do sexo feminino que não possuem seguro de automóvel, 20,81% possui interesse em adquirir o seguro. Já para as clientes que já possuem um seguro de automóvel ativo, praticamente todas **não** possuem interesse em um novo seguro."
   ]
  },
  {
   "cell_type": "code",
   "execution_count": 18,
   "metadata": {},
   "outputs": [
    {
     "data": {
      "text/html": [
       "<div>\n",
       "<style scoped>\n",
       "    .dataframe tbody tr th:only-of-type {\n",
       "        vertical-align: middle;\n",
       "    }\n",
       "\n",
       "    .dataframe tbody tr th {\n",
       "        vertical-align: top;\n",
       "    }\n",
       "\n",
       "    .dataframe thead th {\n",
       "        text-align: right;\n",
       "    }\n",
       "</style>\n",
       "<table border=\"1\" class=\"dataframe\">\n",
       "  <thead>\n",
       "    <tr style=\"text-align: right;\">\n",
       "      <th>Response</th>\n",
       "      <th>0</th>\n",
       "      <th>1</th>\n",
       "    </tr>\n",
       "    <tr>\n",
       "      <th>Previously_Insured</th>\n",
       "      <th></th>\n",
       "      <th></th>\n",
       "    </tr>\n",
       "  </thead>\n",
       "  <tbody>\n",
       "    <tr>\n",
       "      <th>0</th>\n",
       "      <td>79.19</td>\n",
       "      <td>20.81</td>\n",
       "    </tr>\n",
       "    <tr>\n",
       "      <th>1</th>\n",
       "      <td>99.93</td>\n",
       "      <td>0.07</td>\n",
       "    </tr>\n",
       "  </tbody>\n",
       "</table>\n",
       "</div>"
      ],
      "text/plain": [
       "Response               0     1\n",
       "Previously_Insured            \n",
       "0                  79.19 20.81\n",
       "1                  99.93  0.07"
      ]
     },
     "execution_count": 18,
     "metadata": {},
     "output_type": "execute_result"
    }
   ],
   "source": [
    "# clientes mulheres\n",
    "data_f      = data[data.Gender == 'Female']\n",
    "data_f_inte = cross_prop_tab(data = data_f, var1 = 'Previously_Insured', var2 = 'Response')\n",
    "data_f_inte"
   ]
  },
  {
   "cell_type": "code",
   "execution_count": 19,
   "metadata": {},
   "outputs": [
    {
     "data": {
      "image/png": "[encoded data removed]",
      "text/plain": [
       "<Figure size 576x360 with 1 Axes>"
      ]
     },
     "metadata": {},
     "output_type": "display_data"
    }
   ],
   "source": [
    "data_f_inte.index = ['No', 'Yes']\n",
    "data_f_inte.index.names = ['Previously_Insured']\n",
    "data_f_inte.plot(kind = 'bar', figsize = (8, 5))\n",
    "plt.xticks(rotation = 0)\n",
    "plt.legend(['No', 'Yes'], title = 'Interest')\n",
    "plt.show()"
   ]
  },
  {
   "cell_type": "markdown",
   "metadata": {},
   "source": [
    "Semelhante ao que aconteceu com as clientes mulheres, aconteceu com os clientes homens.\n",
    "\n",
    "Entre os que não possuem um seguro, 23,81% possui interrese em adquirir. Para os que já possuem, praticamente todos **não** possuem interesse em um novo."
   ]
  },
  {
   "cell_type": "code",
   "execution_count": 20,
   "metadata": {},
   "outputs": [],
   "source": [
    "# clientes homens\n",
    "data_m      = data[data.Gender == 'Male']\n",
    "data_m_inte = cross_prop_tab(data = data_m, var1 = 'Previously_Insured', var2 = 'Response')"
   ]
  },
  {
   "cell_type": "code",
   "execution_count": 21,
   "metadata": {},
   "outputs": [
    {
     "data": {
      "image/png": "[encoded data removed]",
      "text/plain": [
       "<Figure size 576x360 with 1 Axes>"
      ]
     },
     "metadata": {},
     "output_type": "display_data"
    }
   ],
   "source": [
    "data_m_inte.index = ['No', 'Yes']\n",
    "data_m_inte.index.names = ['Previously_Insured']\n",
    "data_m_inte.plot(kind = 'bar', figsize = (8, 5))\n",
    "plt.xticks(rotation = 0)\n",
    "plt.legend(['No', 'Yes'], title = 'Interest')\n",
    "plt.show()"
   ]
  },
  {
   "cell_type": "markdown",
   "metadata": {},
   "source": [
    "- Em média, os homens que não possui seguro de automóvel ativo tem um leve interesse maior em possuir um seguro do que as mulheres."
   ]
  },
  {
   "cell_type": "markdown",
   "metadata": {},
   "source": [
    "#### 4.3.1.7 Gastos Médio com Seguro de Saúde por Gênero"
   ]
  },
  {
   "cell_type": "code",
   "execution_count": 22,
   "metadata": {},
   "outputs": [
    {
     "data": {
      "text/html": [
       "<div>\n",
       "<style scoped>\n",
       "    .dataframe tbody tr th:only-of-type {\n",
       "        vertical-align: middle;\n",
       "    }\n",
       "\n",
       "    .dataframe tbody tr th {\n",
       "        vertical-align: top;\n",
       "    }\n",
       "\n",
       "    .dataframe thead th {\n",
       "        text-align: right;\n",
       "    }\n",
       "</style>\n",
       "<table border=\"1\" class=\"dataframe\">\n",
       "  <thead>\n",
       "    <tr style=\"text-align: right;\">\n",
       "      <th></th>\n",
       "      <th>Male</th>\n",
       "      <th>Female</th>\n",
       "    </tr>\n",
       "  </thead>\n",
       "  <tbody>\n",
       "    <tr>\n",
       "      <th>count</th>\n",
       "      <td>206089.00</td>\n",
       "      <td>175020.00</td>\n",
       "    </tr>\n",
       "    <tr>\n",
       "      <th>mean</th>\n",
       "      <td>30622.65</td>\n",
       "      <td>30495.79</td>\n",
       "    </tr>\n",
       "    <tr>\n",
       "      <th>std</th>\n",
       "      <td>17472.00</td>\n",
       "      <td>16903.07</td>\n",
       "    </tr>\n",
       "    <tr>\n",
       "      <th>min</th>\n",
       "      <td>2630.00</td>\n",
       "      <td>2630.00</td>\n",
       "    </tr>\n",
       "    <tr>\n",
       "      <th>25%</th>\n",
       "      <td>24354.00</td>\n",
       "      <td>24445.00</td>\n",
       "    </tr>\n",
       "    <tr>\n",
       "      <th>50%</th>\n",
       "      <td>31986.00</td>\n",
       "      <td>31322.00</td>\n",
       "    </tr>\n",
       "    <tr>\n",
       "      <th>75%</th>\n",
       "      <td>39810.00</td>\n",
       "      <td>38909.25</td>\n",
       "    </tr>\n",
       "    <tr>\n",
       "      <th>max</th>\n",
       "      <td>540165.00</td>\n",
       "      <td>540165.00</td>\n",
       "    </tr>\n",
       "  </tbody>\n",
       "</table>\n",
       "</div>"
      ],
      "text/plain": [
       "           Male    Female\n",
       "count 206089.00 175020.00\n",
       "mean   30622.65  30495.79\n",
       "std    17472.00  16903.07\n",
       "min     2630.00   2630.00\n",
       "25%    24354.00  24445.00\n",
       "50%    31986.00  31322.00\n",
       "75%    39810.00  38909.25\n",
       "max   540165.00 540165.00"
      ]
     },
     "execution_count": 22,
     "metadata": {},
     "output_type": "execute_result"
    }
   ],
   "source": [
    "# estatísticas\n",
    "stats_male   = pd.DataFrame(data[data.Gender == 'Male']['Annual_Premium'].describe())\n",
    "stats_female = pd.DataFrame(data[data.Gender == 'Female']['Annual_Premium'].describe())\n",
    "\n",
    "# juntando as estatísticas\n",
    "stats_gender         = pd.concat([stats_male, stats_female], axis = 1)\n",
    "stats_gender.columns = ['Male', 'Female']\n",
    "\n",
    "# imprimindo o resultado\n",
    "stats_gender"
   ]
  },
  {
   "cell_type": "markdown",
   "metadata": {},
   "source": [
    "### 4.3.2 Age"
   ]
  },
  {
   "cell_type": "markdown",
   "metadata": {},
   "source": [
    "#### 4.3.2.1 Faixa Etária por Gênero"
   ]
  },
  {
   "cell_type": "markdown",
   "metadata": {},
   "source": [
    "A faixa etária, tanto para homens quanto para mulheres, que mais possuem seguro de saúde está entre os 20 e 30 anos."
   ]
  },
  {
   "cell_type": "code",
   "execution_count": 23,
   "metadata": {},
   "outputs": [
    {
     "data": {
      "image/png": "[encoded data removed]",
      "text/plain": [
       "<Figure size 501.375x432 with 1 Axes>"
      ]
     },
     "metadata": {},
     "output_type": "display_data"
    }
   ],
   "source": [
    "sns.displot(x = 'Age', hue = 'Gender', kind = 'kde', fill = True, data = data, height = 6)\n",
    "plt.show()"
   ]
  },
  {
   "cell_type": "markdown",
   "metadata": {},
   "source": [
    "#### 4.3.2.2 Faixa Etária e Seguro de Automóvel Ativo por Gênero"
   ]
  },
  {
   "cell_type": "code",
   "execution_count": 24,
   "metadata": {},
   "outputs": [
    {
     "data": {
      "text/plain": [
       "0      (36.25, 52.5]\n",
       "1      (68.75, 85.0]\n",
       "2      (36.25, 52.5]\n",
       "3    (19.999, 36.25]\n",
       "4    (19.999, 36.25]\n",
       "Name: Age_Range, dtype: category\n",
       "Categories (4, interval[float64]): [(19.999, 36.25] < (36.25, 52.5] < (52.5, 68.75] < (68.75, 85.0]]"
      ]
     },
     "execution_count": 24,
     "metadata": {},
     "output_type": "execute_result"
    }
   ],
   "source": [
    "# criando uma nova coluna para transformar os dados numéricos da variável 'age' em variável categórica\n",
    "bins                  = np.linspace(min(data.Age), max(data.Age), 5)\n",
    "data_age              = data.copy()\n",
    "data_age['Age_Range'] = pd.cut(data_age.Age, bins, include_lowest = True)\n",
    "data_age.Age_Range.head()"
   ]
  },
  {
   "cell_type": "code",
   "execution_count": 25,
   "metadata": {},
   "outputs": [
    {
     "data": {
      "image/png": "[encoded data removed]",
      "text/plain": [
       "<Figure size 576x360 with 1 Axes>"
      ]
     },
     "metadata": {},
     "output_type": "display_data"
    }
   ],
   "source": [
    "# plot\n",
    "plt.figure(figsize = (8,5))\n",
    "sns.barplot(x = 'Age_Range', y = 'Previously_Insured', hue = 'Gender', data = data_age)\n",
    "plt.show()"
   ]
  },
  {
   "cell_type": "markdown",
   "metadata": {},
   "source": [
    "- Para todas as faixas etárias, exceto a última, existem mais mulheres, proporcionalmente, que possuem seguro ativo de automóvel do que os homens.\n",
    "- A faixa etária que mais possui, proporcionalmente, seguro ativo de automóvel é a entre 20 e 36 anos.\n",
    "- A faixa etária que menos possui, proporcionalmente, seguro ativo de automóvel é entre 36 e 52 anos."
   ]
  },
  {
   "cell_type": "markdown",
   "metadata": {},
   "source": [
    "#### 4.3.2.2 Faixa Etária por Interesse em Seguro de Automóvel e Gênero"
   ]
  },
  {
   "cell_type": "code",
   "execution_count": 26,
   "metadata": {},
   "outputs": [
    {
     "data": {
      "image/png": "[encoded data removed]",
      "text/plain": [
       "<Figure size 576x360 with 1 Axes>"
      ]
     },
     "metadata": {},
     "output_type": "display_data"
    }
   ],
   "source": [
    "# plot\n",
    "plt.figure(figsize = (8,5))\n",
    "sns.barplot(x = 'Age_Range', y = 'Response', hue = 'Gender', data = data_age)\n",
    "plt.show()"
   ]
  },
  {
   "cell_type": "markdown",
   "metadata": {},
   "source": [
    "- Proporcionalmente, homens, em todas as faixas etárias, possuem em média mais interesse em adiquirir um seguro de automóveis. Isso **pode** ser explicado pelo fato de existirem mais mulheres que já possui o serviço.\n",
    "- A faixa etária com meior interesse é a de 36 a 52 anos.\n",
    "- Esse gráfico pode não ser muito interessante pois, este gráfico consta dados dos cliente que já possuem um seguro ativo e o também os que não possuem."
   ]
  },
  {
   "cell_type": "markdown",
   "metadata": {},
   "source": [
    "#### 4.3.2.3 Gasto Médio com Seguro Saúde por Faixa Etária"
   ]
  },
  {
   "cell_type": "code",
   "execution_count": 27,
   "metadata": {},
   "outputs": [
    {
     "data": {
      "image/png": "[encoded data removed]",
      "text/plain": [
       "<Figure size 432x360 with 1 Axes>"
      ]
     },
     "metadata": {},
     "output_type": "display_data"
    }
   ],
   "source": [
    "# agrupando as faixas estárias pelas médias\n",
    "ap_age_range = data_age[['Age_Range', 'Annual_Premium']].groupby(['Age_Range'], as_index = False).mean()\n",
    "\n",
    "# plot\n",
    "plt.figure(figsize = (6,5))\n",
    "sns.barplot(x = 'Age_Range', y = 'Annual_Premium', data = ap_age_range, palette = 'rocket')\n",
    "plt.title('Average Health Insurance Spending by Age Range')\n",
    "plt.show()"
   ]
  },
  {
   "cell_type": "markdown",
   "metadata": {},
   "source": [
    "Os dados mostram que, conforme a idade avança, gasta-se mais com o seguro de saúde."
   ]
  },
  {
   "cell_type": "markdown",
   "metadata": {},
   "source": [
    "### 4.3.3 Region Code"
   ]
  },
  {
   "cell_type": "markdown",
   "metadata": {},
   "source": [
    "#### 4.3.3.1 Cinco Maiores Regiões em Número de Clientes"
   ]
  },
  {
   "cell_type": "code",
   "execution_count": 28,
   "metadata": {},
   "outputs": [
    {
     "data": {
      "image/png": "[encoded data removed]",
      "text/plain": [
       "<Figure size 720x432 with 1 Axes>"
      ]
     },
     "metadata": {},
     "output_type": "display_data"
    }
   ],
   "source": [
    "# plot das regiões com maior número de clientes\n",
    "\n",
    "# tamanho das regiões e lista com as cinco regiões com maior número de clientes\n",
    "sizes = data.Region_Code.value_counts()\n",
    "head  = [str(i) for i in data.Region_Code.value_counts().index[:5]][:5] \n",
    "\n",
    "# plot\n",
    "plt.figure(figsize = (10,6))\n",
    "squarify.plot(sizes = sizes, label = head, alpha = .6)\n",
    "plt.title('Region With the Highest Number of Customers')\n",
    "plt.axis('off')\n",
    "plt.show()"
   ]
  },
  {
   "cell_type": "markdown",
   "metadata": {},
   "source": [
    "A região **28** é a região que possui a maior de clientes, seguidos pelas regiões **8, 46, 41 e 15**."
   ]
  },
  {
   "cell_type": "markdown",
   "metadata": {},
   "source": [
    "#### 4.3.3.2 Região com Maior Interesse em Seguro de Automóvel"
   ]
  },
  {
   "cell_type": "code",
   "execution_count": 29,
   "metadata": {},
   "outputs": [],
   "source": [
    "# dataset com as cinco maiores regiões em número absoluto de clientes interessados no seguro de automóvel\n",
    "data_region_abs  = pd.crosstab(data.Region_Code, data.Response).reset_index().sort_values(by=1, ascending=False)[:5]\n",
    "\n",
    "# dataset com as cinco maiores regiões, proporcionalmente, de clientes interessados no seguro de automóvel\n",
    "data_region_prop = cross_prop_tab(data, 'Region_Code', 'Response').reset_index().sort_values(by=1, ascending = False)[:5]"
   ]
  },
  {
   "cell_type": "code",
   "execution_count": 30,
   "metadata": {},
   "outputs": [
    {
     "data": {
      "image/png": "[encoded data removed]",
      "text/plain": [
       "<Figure size 720x432 with 2 Axes>"
      ]
     },
     "metadata": {},
     "output_type": "display_data"
    }
   ],
   "source": [
    "# plot\n",
    "plt.figure(figsize=(10,6))\n",
    "\n",
    "plt.subplot(1,2,1)\n",
    "sns.barplot(x = 'Region_Code', y = 1, data = data_region_abs, palette = 'rocket')\n",
    "plt.title('Regions with Most Interest in Car Insurance')\n",
    "plt.ylabel('Count')\n",
    "\n",
    "plt.subplot(1,2,2)\n",
    "sns.barplot(x = 'Region_Code', y = 1, data = data_region_prop, palette = 'rocket')\n",
    "plt.title('Regions with Most Interest in Car Insurance Proportionately')\n",
    "plt.ylabel('%')\n",
    "\n",
    "plt.show()"
   ]
  },
  {
   "cell_type": "markdown",
   "metadata": {},
   "source": [
    "A região **28** parece ser uma região muito importante para a empresa. É a região que possui maior número de clientes, que possue, disparado, o maior número de clientes interessados no novo seguro de automóvel, e também é a segunda região, proporcionalmente, que possui o maior número de clientes com interesse no novo seguro."
   ]
  },
  {
   "cell_type": "markdown",
   "metadata": {},
   "source": [
    "#### 4.3.3.3 Gasto Médio com Seguro de Saúde por Região"
   ]
  },
  {
   "cell_type": "code",
   "execution_count": 31,
   "metadata": {},
   "outputs": [
    {
     "data": {
      "image/png": "[encoded data removed]",
      "text/plain": [
       "<Figure size 432x360 with 1 Axes>"
      ]
     },
     "metadata": {},
     "output_type": "display_data"
    }
   ],
   "source": [
    "# agrupamento pela média por região\n",
    "ap_region = data[['Region_Code', 'Annual_Premium']].groupby(['Region_Code'], as_index = False).mean()\n",
    "ap_region = ap_region.sort_values(by = 'Annual_Premium', ascending = False)[:5]\n",
    "ap_region\n",
    "\n",
    "# plot\n",
    "plt.figure(figsize = (6,5))\n",
    "sns.barplot(x = 'Region_Code', y = 'Annual_Premium', data = ap_region, palette = 'rocket')\n",
    "plt.title('Average Health Insurance Speding by Region')\n",
    "plt.show()"
   ]
  },
  {
   "cell_type": "markdown",
   "metadata": {},
   "source": [
    "### 4.3.4 Vehicle Damage"
   ]
  },
  {
   "cell_type": "markdown",
   "metadata": {},
   "source": [
    "#### 4.3.4.1 Hipótese"
   ]
  },
  {
   "cell_type": "markdown",
   "metadata": {},
   "source": [
    "Vamos avaliar se há uma associação significativa entre o automóvel do cliente ter sido danificado no passado e ele possuir interesse em adquirir o seguro."
   ]
  },
  {
   "cell_type": "markdown",
   "metadata": {},
   "source": [
    "Para isso, novamente utilizaremos o Chi-square Test of Independence. Sendo que:\n",
    "\n",
    "- Hipótese nula: não existe associação significativa entre as variáveis.\n",
    "- Hipótese alternativa: existe associação significativa entre as variáveis."
   ]
  },
  {
   "cell_type": "code",
   "execution_count": 32,
   "metadata": {
    "scrolled": true
   },
   "outputs": [
    {
     "data": {
      "text/plain": [
       "(47866.92327853048, 0.0, 2)"
      ]
     },
     "execution_count": 32,
     "metadata": {},
     "output_type": "execute_result"
    }
   ],
   "source": [
    "# tabela de frequências\n",
    "crosstable_vd = pd.crosstab(data.Vehicle_Damage, data.Response, margins = True)\n",
    "\n",
    "# gravando os valores em um array\n",
    "obs_vd        = np.array([crosstable_vd.iloc[0].values, crosstable_vd.iloc[1].values])\n",
    "\n",
    "# teste de X²\n",
    "stats.chi2_contingency(obs_vd)[0:3]"
   ]
  },
  {
   "cell_type": "markdown",
   "metadata": {},
   "source": [
    "O p-value está muito próximo de 0, então temos p-value < 0.05, e isso significa que podemos rejeitar a hipótese nula, ou seja, existe associação significativa entre o cliente já ter danificado o automóvel no passado e ele possuir interesse no seguro."
   ]
  },
  {
   "cell_type": "code",
   "execution_count": 33,
   "metadata": {},
   "outputs": [
    {
     "data": {
      "text/html": [
       "<div>\n",
       "<style scoped>\n",
       "    .dataframe tbody tr th:only-of-type {\n",
       "        vertical-align: middle;\n",
       "    }\n",
       "\n",
       "    .dataframe tbody tr th {\n",
       "        vertical-align: top;\n",
       "    }\n",
       "\n",
       "    .dataframe thead th {\n",
       "        text-align: right;\n",
       "    }\n",
       "</style>\n",
       "<table border=\"1\" class=\"dataframe\">\n",
       "  <thead>\n",
       "    <tr style=\"text-align: right;\">\n",
       "      <th>Response</th>\n",
       "      <th>0</th>\n",
       "      <th>1</th>\n",
       "      <th>All</th>\n",
       "    </tr>\n",
       "    <tr>\n",
       "      <th>Vehicle_Damage</th>\n",
       "      <th></th>\n",
       "      <th></th>\n",
       "      <th></th>\n",
       "    </tr>\n",
       "  </thead>\n",
       "  <tbody>\n",
       "    <tr>\n",
       "      <th>No</th>\n",
       "      <td>187714</td>\n",
       "      <td>982</td>\n",
       "      <td>188696</td>\n",
       "    </tr>\n",
       "    <tr>\n",
       "      <th>Yes</th>\n",
       "      <td>146685</td>\n",
       "      <td>45728</td>\n",
       "      <td>192413</td>\n",
       "    </tr>\n",
       "    <tr>\n",
       "      <th>All</th>\n",
       "      <td>334399</td>\n",
       "      <td>46710</td>\n",
       "      <td>381109</td>\n",
       "    </tr>\n",
       "  </tbody>\n",
       "</table>\n",
       "</div>"
      ],
      "text/plain": [
       "Response             0      1     All\n",
       "Vehicle_Damage                       \n",
       "No              187714    982  188696\n",
       "Yes             146685  45728  192413\n",
       "All             334399  46710  381109"
      ]
     },
     "execution_count": 33,
     "metadata": {},
     "output_type": "execute_result"
    }
   ],
   "source": [
    "# tabela de frequências\n",
    "crosstable_vd"
   ]
  },
  {
   "cell_type": "markdown",
   "metadata": {},
   "source": [
    "A tabela de frequência mostra que há muito mais casos de clientes que já tiveram seus automóveis danificados com interesse do que clientes que não tiveram seus carros danificados com interesse, mesmo que o total de clientes que tiveram seus automóveis danificados seja menor. Proporcionamente, a tabela fica da seguinte forma:"
   ]
  },
  {
   "cell_type": "code",
   "execution_count": 34,
   "metadata": {},
   "outputs": [
    {
     "data": {
      "text/html": [
       "<div>\n",
       "<style scoped>\n",
       "    .dataframe tbody tr th:only-of-type {\n",
       "        vertical-align: middle;\n",
       "    }\n",
       "\n",
       "    .dataframe tbody tr th {\n",
       "        vertical-align: top;\n",
       "    }\n",
       "\n",
       "    .dataframe thead th {\n",
       "        text-align: right;\n",
       "    }\n",
       "</style>\n",
       "<table border=\"1\" class=\"dataframe\">\n",
       "  <thead>\n",
       "    <tr style=\"text-align: right;\">\n",
       "      <th>Response</th>\n",
       "      <th>0</th>\n",
       "      <th>1</th>\n",
       "    </tr>\n",
       "    <tr>\n",
       "      <th>Vehicle_Damage</th>\n",
       "      <th></th>\n",
       "      <th></th>\n",
       "    </tr>\n",
       "  </thead>\n",
       "  <tbody>\n",
       "    <tr>\n",
       "      <th>No</th>\n",
       "      <td>99.48</td>\n",
       "      <td>0.52</td>\n",
       "    </tr>\n",
       "    <tr>\n",
       "      <th>Yes</th>\n",
       "      <td>76.23</td>\n",
       "      <td>23.77</td>\n",
       "    </tr>\n",
       "  </tbody>\n",
       "</table>\n",
       "</div>"
      ],
      "text/plain": [
       "Response           0     1\n",
       "Vehicle_Damage            \n",
       "No             99.48  0.52\n",
       "Yes            76.23 23.77"
      ]
     },
     "execution_count": 34,
     "metadata": {},
     "output_type": "execute_result"
    }
   ],
   "source": [
    "# a mesma tabela anterior em porcentagem\n",
    "cross_prop_tab(data, 'Vehicle_Damage', 'Response')"
   ]
  },
  {
   "cell_type": "markdown",
   "metadata": {},
   "source": [
    "# 5.0 Pré-processamento"
   ]
  },
  {
   "cell_type": "markdown",
   "metadata": {},
   "source": [
    "## 5.1 Remoção de Variáveis"
   ]
  },
  {
   "cell_type": "markdown",
   "metadata": {},
   "source": [
    "Vamos iniciar o pré-processamento removendo as colunas que de cara não representa nenhuma informação relevante para a construção do modelo de machine learning. "
   ]
  },
  {
   "cell_type": "markdown",
   "metadata": {},
   "source": [
    "- A coluna \"id\" não traz nenhuma informação relevante;\n",
    "- Tendo em vista as estatísticas da coluna 'Driving_License', onde o desvio padrão é extremamente pequeno (bem próximo de 0), isso pode nos indicar que os valores contidos nas observações não sofre alterações, o que é provado a seguir."
   ]
  },
  {
   "cell_type": "code",
   "execution_count": 35,
   "metadata": {},
   "outputs": [
    {
     "data": {
      "text/plain": [
       "1    380297\n",
       "0       812\n",
       "Name: Driving_License, dtype: int64"
      ]
     },
     "execution_count": 35,
     "metadata": {},
     "output_type": "execute_result"
    }
   ],
   "source": [
    "# valores da coluna 'Driving_license'\n",
    "data.Driving_License.value_counts()"
   ]
  },
  {
   "cell_type": "code",
   "execution_count": 36,
   "metadata": {},
   "outputs": [
    {
     "data": {
      "text/plain": [
       "['Gender',\n",
       " 'Age',\n",
       " 'Region_Code',\n",
       " 'Previously_Insured',\n",
       " 'Vehicle_Age',\n",
       " 'Vehicle_Damage',\n",
       " 'Annual_Premium',\n",
       " 'Policy_Sales_Channel',\n",
       " 'Vintage']"
      ]
     },
     "execution_count": 36,
     "metadata": {},
     "output_type": "execute_result"
    }
   ],
   "source": [
    "# colunas a serem excluídas\n",
    "col_del = ['id', 'Driving_License', 'Response']\n",
    "\n",
    "# colunas\n",
    "columns = data.columns.tolist()\n",
    "columns = [c for c in columns if c not in col_del]\n",
    "columns"
   ]
  },
  {
   "cell_type": "code",
   "execution_count": 37,
   "metadata": {},
   "outputs": [
    {
     "name": "stdout",
     "output_type": "stream",
     "text": [
      "(381109, 9) (127037, 9)\n"
     ]
    }
   ],
   "source": [
    "# remoção\n",
    "train        = data[columns]\n",
    "train_target = data['Response']\n",
    "\n",
    "test  = test[columns]\n",
    "\n",
    "print(train.shape, test.shape)"
   ]
  },
  {
   "cell_type": "code",
   "execution_count": 38,
   "metadata": {},
   "outputs": [
    {
     "data": {
      "text/html": [
       "<div>\n",
       "<style scoped>\n",
       "    .dataframe tbody tr th:only-of-type {\n",
       "        vertical-align: middle;\n",
       "    }\n",
       "\n",
       "    .dataframe tbody tr th {\n",
       "        vertical-align: top;\n",
       "    }\n",
       "\n",
       "    .dataframe thead th {\n",
       "        text-align: right;\n",
       "    }\n",
       "</style>\n",
       "<table border=\"1\" class=\"dataframe\">\n",
       "  <thead>\n",
       "    <tr style=\"text-align: right;\">\n",
       "      <th></th>\n",
       "      <th>Gender</th>\n",
       "      <th>Age</th>\n",
       "      <th>Region_Code</th>\n",
       "      <th>Previously_Insured</th>\n",
       "      <th>Vehicle_Age</th>\n",
       "      <th>Vehicle_Damage</th>\n",
       "      <th>Annual_Premium</th>\n",
       "      <th>Policy_Sales_Channel</th>\n",
       "      <th>Vintage</th>\n",
       "    </tr>\n",
       "  </thead>\n",
       "  <tbody>\n",
       "    <tr>\n",
       "      <th>0</th>\n",
       "      <td>Male</td>\n",
       "      <td>44</td>\n",
       "      <td>28.00</td>\n",
       "      <td>0</td>\n",
       "      <td>&gt; 2 Years</td>\n",
       "      <td>Yes</td>\n",
       "      <td>40454.00</td>\n",
       "      <td>26.00</td>\n",
       "      <td>217</td>\n",
       "    </tr>\n",
       "    <tr>\n",
       "      <th>1</th>\n",
       "      <td>Male</td>\n",
       "      <td>76</td>\n",
       "      <td>3.00</td>\n",
       "      <td>0</td>\n",
       "      <td>1-2 Year</td>\n",
       "      <td>No</td>\n",
       "      <td>33536.00</td>\n",
       "      <td>26.00</td>\n",
       "      <td>183</td>\n",
       "    </tr>\n",
       "    <tr>\n",
       "      <th>2</th>\n",
       "      <td>Male</td>\n",
       "      <td>47</td>\n",
       "      <td>28.00</td>\n",
       "      <td>0</td>\n",
       "      <td>&gt; 2 Years</td>\n",
       "      <td>Yes</td>\n",
       "      <td>38294.00</td>\n",
       "      <td>26.00</td>\n",
       "      <td>27</td>\n",
       "    </tr>\n",
       "    <tr>\n",
       "      <th>3</th>\n",
       "      <td>Male</td>\n",
       "      <td>21</td>\n",
       "      <td>11.00</td>\n",
       "      <td>1</td>\n",
       "      <td>&lt; 1 Year</td>\n",
       "      <td>No</td>\n",
       "      <td>28619.00</td>\n",
       "      <td>152.00</td>\n",
       "      <td>203</td>\n",
       "    </tr>\n",
       "    <tr>\n",
       "      <th>4</th>\n",
       "      <td>Female</td>\n",
       "      <td>29</td>\n",
       "      <td>41.00</td>\n",
       "      <td>1</td>\n",
       "      <td>&lt; 1 Year</td>\n",
       "      <td>No</td>\n",
       "      <td>27496.00</td>\n",
       "      <td>152.00</td>\n",
       "      <td>39</td>\n",
       "    </tr>\n",
       "  </tbody>\n",
       "</table>\n",
       "</div>"
      ],
      "text/plain": [
       "   Gender  Age  Region_Code  Previously_Insured Vehicle_Age Vehicle_Damage  \\\n",
       "0    Male   44        28.00                   0   > 2 Years            Yes   \n",
       "1    Male   76         3.00                   0    1-2 Year             No   \n",
       "2    Male   47        28.00                   0   > 2 Years            Yes   \n",
       "3    Male   21        11.00                   1    < 1 Year             No   \n",
       "4  Female   29        41.00                   1    < 1 Year             No   \n",
       "\n",
       "   Annual_Premium  Policy_Sales_Channel  Vintage  \n",
       "0        40454.00                 26.00      217  \n",
       "1        33536.00                 26.00      183  \n",
       "2        38294.00                 26.00       27  \n",
       "3        28619.00                152.00      203  \n",
       "4        27496.00                152.00       39  "
      ]
     },
     "execution_count": 38,
     "metadata": {},
     "output_type": "execute_result"
    }
   ],
   "source": [
    "# imprimindo o dataset\n",
    "train.head()"
   ]
  },
  {
   "cell_type": "markdown",
   "metadata": {},
   "source": [
    "## 5.2 Transformações"
   ]
  },
  {
   "cell_type": "markdown",
   "metadata": {},
   "source": [
    "### 5.2.1 Tipos"
   ]
  },
  {
   "cell_type": "markdown",
   "metadata": {},
   "source": [
    "É preciso transformar as colunas que contém valores string para valores inteiros."
   ]
  },
  {
   "cell_type": "code",
   "execution_count": 39,
   "metadata": {},
   "outputs": [],
   "source": [
    "# gender\n",
    "train.Gender = train.Gender.map({'Male' : 1, 'Female' : 0})\n",
    "test.Gender  = test.Gender.map({'Male' : 1, 'Female' : 0})\n",
    "\n",
    "# vehicle age\n",
    "train.Vehicle_Age = train.Vehicle_Age.astype('category').cat.codes\n",
    "test.Vehicle_Age  = test.Vehicle_Age.astype('category').cat.codes\n",
    "\n",
    "# vehicle damage\n",
    "train.Vehicle_Damage = train.Vehicle_Damage.map({'Yes' : 1, 'No' : 0})\n",
    "test.Vehicle_Damage  = test.Vehicle_Damage.map({'Yes' : 1, 'No' : 0})"
   ]
  },
  {
   "cell_type": "code",
   "execution_count": 40,
   "metadata": {},
   "outputs": [
    {
     "data": {
      "text/html": [
       "<div>\n",
       "<style scoped>\n",
       "    .dataframe tbody tr th:only-of-type {\n",
       "        vertical-align: middle;\n",
       "    }\n",
       "\n",
       "    .dataframe tbody tr th {\n",
       "        vertical-align: top;\n",
       "    }\n",
       "\n",
       "    .dataframe thead th {\n",
       "        text-align: right;\n",
       "    }\n",
       "</style>\n",
       "<table border=\"1\" class=\"dataframe\">\n",
       "  <thead>\n",
       "    <tr style=\"text-align: right;\">\n",
       "      <th></th>\n",
       "      <th>Gender</th>\n",
       "      <th>Age</th>\n",
       "      <th>Region_Code</th>\n",
       "      <th>Previously_Insured</th>\n",
       "      <th>Vehicle_Age</th>\n",
       "      <th>Vehicle_Damage</th>\n",
       "      <th>Annual_Premium</th>\n",
       "      <th>Policy_Sales_Channel</th>\n",
       "      <th>Vintage</th>\n",
       "    </tr>\n",
       "  </thead>\n",
       "  <tbody>\n",
       "    <tr>\n",
       "      <th>0</th>\n",
       "      <td>1</td>\n",
       "      <td>44</td>\n",
       "      <td>28.00</td>\n",
       "      <td>0</td>\n",
       "      <td>2</td>\n",
       "      <td>1</td>\n",
       "      <td>40454.00</td>\n",
       "      <td>26.00</td>\n",
       "      <td>217</td>\n",
       "    </tr>\n",
       "    <tr>\n",
       "      <th>1</th>\n",
       "      <td>1</td>\n",
       "      <td>76</td>\n",
       "      <td>3.00</td>\n",
       "      <td>0</td>\n",
       "      <td>0</td>\n",
       "      <td>0</td>\n",
       "      <td>33536.00</td>\n",
       "      <td>26.00</td>\n",
       "      <td>183</td>\n",
       "    </tr>\n",
       "    <tr>\n",
       "      <th>2</th>\n",
       "      <td>1</td>\n",
       "      <td>47</td>\n",
       "      <td>28.00</td>\n",
       "      <td>0</td>\n",
       "      <td>2</td>\n",
       "      <td>1</td>\n",
       "      <td>38294.00</td>\n",
       "      <td>26.00</td>\n",
       "      <td>27</td>\n",
       "    </tr>\n",
       "    <tr>\n",
       "      <th>3</th>\n",
       "      <td>1</td>\n",
       "      <td>21</td>\n",
       "      <td>11.00</td>\n",
       "      <td>1</td>\n",
       "      <td>1</td>\n",
       "      <td>0</td>\n",
       "      <td>28619.00</td>\n",
       "      <td>152.00</td>\n",
       "      <td>203</td>\n",
       "    </tr>\n",
       "    <tr>\n",
       "      <th>4</th>\n",
       "      <td>0</td>\n",
       "      <td>29</td>\n",
       "      <td>41.00</td>\n",
       "      <td>1</td>\n",
       "      <td>1</td>\n",
       "      <td>0</td>\n",
       "      <td>27496.00</td>\n",
       "      <td>152.00</td>\n",
       "      <td>39</td>\n",
       "    </tr>\n",
       "  </tbody>\n",
       "</table>\n",
       "</div>"
      ],
      "text/plain": [
       "   Gender  Age  Region_Code  Previously_Insured  Vehicle_Age  Vehicle_Damage  \\\n",
       "0       1   44        28.00                   0            2               1   \n",
       "1       1   76         3.00                   0            0               0   \n",
       "2       1   47        28.00                   0            2               1   \n",
       "3       1   21        11.00                   1            1               0   \n",
       "4       0   29        41.00                   1            1               0   \n",
       "\n",
       "   Annual_Premium  Policy_Sales_Channel  Vintage  \n",
       "0        40454.00                 26.00      217  \n",
       "1        33536.00                 26.00      183  \n",
       "2        38294.00                 26.00       27  \n",
       "3        28619.00                152.00      203  \n",
       "4        27496.00                152.00       39  "
      ]
     },
     "execution_count": 40,
     "metadata": {},
     "output_type": "execute_result"
    }
   ],
   "source": [
    "# imprimindo o resultado\n",
    "train.head()"
   ]
  },
  {
   "cell_type": "markdown",
   "metadata": {},
   "source": [
    "### 5.2.2 Distribuição"
   ]
  },
  {
   "cell_type": "markdown",
   "metadata": {},
   "source": [
    "Alterando o tipo de distribuição das variáveis numéricas continuas (Age, Annual Premium e Vintage)."
   ]
  },
  {
   "cell_type": "code",
   "execution_count": 41,
   "metadata": {},
   "outputs": [
    {
     "data": {
      "text/html": [
       "<div>\n",
       "<style scoped>\n",
       "    .dataframe tbody tr th:only-of-type {\n",
       "        vertical-align: middle;\n",
       "    }\n",
       "\n",
       "    .dataframe tbody tr th {\n",
       "        vertical-align: top;\n",
       "    }\n",
       "\n",
       "    .dataframe thead th {\n",
       "        text-align: right;\n",
       "    }\n",
       "</style>\n",
       "<table border=\"1\" class=\"dataframe\">\n",
       "  <thead>\n",
       "    <tr style=\"text-align: right;\">\n",
       "      <th></th>\n",
       "      <th>Gender</th>\n",
       "      <th>Age</th>\n",
       "      <th>Region_Code</th>\n",
       "      <th>Previously_Insured</th>\n",
       "      <th>Vehicle_Age</th>\n",
       "      <th>Vehicle_Damage</th>\n",
       "      <th>Annual_Premium</th>\n",
       "      <th>Policy_Sales_Channel</th>\n",
       "      <th>Vintage</th>\n",
       "    </tr>\n",
       "  </thead>\n",
       "  <tbody>\n",
       "    <tr>\n",
       "      <th>0</th>\n",
       "      <td>1</td>\n",
       "      <td>0.33</td>\n",
       "      <td>28.00</td>\n",
       "      <td>0</td>\n",
       "      <td>2</td>\n",
       "      <td>1</td>\n",
       "      <td>0.57</td>\n",
       "      <td>26.00</td>\n",
       "      <td>0.75</td>\n",
       "    </tr>\n",
       "    <tr>\n",
       "      <th>1</th>\n",
       "      <td>1</td>\n",
       "      <td>2.40</td>\n",
       "      <td>3.00</td>\n",
       "      <td>0</td>\n",
       "      <td>0</td>\n",
       "      <td>0</td>\n",
       "      <td>0.17</td>\n",
       "      <td>26.00</td>\n",
       "      <td>0.34</td>\n",
       "    </tr>\n",
       "    <tr>\n",
       "      <th>2</th>\n",
       "      <td>1</td>\n",
       "      <td>0.53</td>\n",
       "      <td>28.00</td>\n",
       "      <td>0</td>\n",
       "      <td>2</td>\n",
       "      <td>1</td>\n",
       "      <td>0.45</td>\n",
       "      <td>26.00</td>\n",
       "      <td>-1.52</td>\n",
       "    </tr>\n",
       "    <tr>\n",
       "      <th>3</th>\n",
       "      <td>1</td>\n",
       "      <td>-1.15</td>\n",
       "      <td>11.00</td>\n",
       "      <td>1</td>\n",
       "      <td>1</td>\n",
       "      <td>0</td>\n",
       "      <td>-0.11</td>\n",
       "      <td>152.00</td>\n",
       "      <td>0.58</td>\n",
       "    </tr>\n",
       "    <tr>\n",
       "      <th>4</th>\n",
       "      <td>0</td>\n",
       "      <td>-0.63</td>\n",
       "      <td>41.00</td>\n",
       "      <td>1</td>\n",
       "      <td>1</td>\n",
       "      <td>0</td>\n",
       "      <td>-0.18</td>\n",
       "      <td>152.00</td>\n",
       "      <td>-1.38</td>\n",
       "    </tr>\n",
       "  </tbody>\n",
       "</table>\n",
       "</div>"
      ],
      "text/plain": [
       "   Gender   Age  Region_Code  Previously_Insured  Vehicle_Age  Vehicle_Damage  \\\n",
       "0       1  0.33        28.00                   0            2               1   \n",
       "1       1  2.40         3.00                   0            0               0   \n",
       "2       1  0.53        28.00                   0            2               1   \n",
       "3       1 -1.15        11.00                   1            1               0   \n",
       "4       0 -0.63        41.00                   1            1               0   \n",
       "\n",
       "   Annual_Premium  Policy_Sales_Channel  Vintage  \n",
       "0            0.57                 26.00     0.75  \n",
       "1            0.17                 26.00     0.34  \n",
       "2            0.45                 26.00    -1.52  \n",
       "3           -0.11                152.00     0.58  \n",
       "4           -0.18                152.00    -1.38  "
      ]
     },
     "execution_count": 41,
     "metadata": {},
     "output_type": "execute_result"
    }
   ],
   "source": [
    "# instanciando a função para normalizar os dados\n",
    "ss = StandardScaler()\n",
    "\n",
    "# variáveis numéricas\n",
    "num_var = ['Age', 'Annual_Premium', 'Vintage']\n",
    "\n",
    "# alterando o tipo da distribuição\n",
    "for col in num_var:\n",
    "    \n",
    "    train[col] = ss.fit_transform(train[col].values.reshape(-1, 1))\n",
    "    test[col]  = ss.fit_transform(test[col].values.reshape(-1, 1))\n",
    "\n",
    "# imprimindo o resultado\n",
    "train.head()"
   ]
  },
  {
   "cell_type": "code",
   "execution_count": 42,
   "metadata": {},
   "outputs": [
    {
     "data": {
      "text/html": [
       "<div>\n",
       "<style scoped>\n",
       "    .dataframe tbody tr th:only-of-type {\n",
       "        vertical-align: middle;\n",
       "    }\n",
       "\n",
       "    .dataframe tbody tr th {\n",
       "        vertical-align: top;\n",
       "    }\n",
       "\n",
       "    .dataframe thead th {\n",
       "        text-align: right;\n",
       "    }\n",
       "</style>\n",
       "<table border=\"1\" class=\"dataframe\">\n",
       "  <thead>\n",
       "    <tr style=\"text-align: right;\">\n",
       "      <th></th>\n",
       "      <th>Age</th>\n",
       "      <th>Annual_Premium</th>\n",
       "      <th>Vintage</th>\n",
       "    </tr>\n",
       "  </thead>\n",
       "  <tbody>\n",
       "    <tr>\n",
       "      <th>count</th>\n",
       "      <td>381109.00</td>\n",
       "      <td>381109.00</td>\n",
       "      <td>381109.00</td>\n",
       "    </tr>\n",
       "    <tr>\n",
       "      <th>mean</th>\n",
       "      <td>-0.00</td>\n",
       "      <td>-0.00</td>\n",
       "      <td>-0.00</td>\n",
       "    </tr>\n",
       "    <tr>\n",
       "      <th>std</th>\n",
       "      <td>1.00</td>\n",
       "      <td>1.00</td>\n",
       "      <td>1.00</td>\n",
       "    </tr>\n",
       "    <tr>\n",
       "      <th>min</th>\n",
       "      <td>-1.21</td>\n",
       "      <td>-1.62</td>\n",
       "      <td>-1.73</td>\n",
       "    </tr>\n",
       "    <tr>\n",
       "      <th>25%</th>\n",
       "      <td>-0.89</td>\n",
       "      <td>-0.36</td>\n",
       "      <td>-0.86</td>\n",
       "    </tr>\n",
       "    <tr>\n",
       "      <th>50%</th>\n",
       "      <td>-0.18</td>\n",
       "      <td>0.06</td>\n",
       "      <td>-0.00</td>\n",
       "    </tr>\n",
       "    <tr>\n",
       "      <th>75%</th>\n",
       "      <td>0.66</td>\n",
       "      <td>0.51</td>\n",
       "      <td>0.87</td>\n",
       "    </tr>\n",
       "    <tr>\n",
       "      <th>max</th>\n",
       "      <td>2.98</td>\n",
       "      <td>29.61</td>\n",
       "      <td>1.73</td>\n",
       "    </tr>\n",
       "  </tbody>\n",
       "</table>\n",
       "</div>"
      ],
      "text/plain": [
       "            Age  Annual_Premium   Vintage\n",
       "count 381109.00       381109.00 381109.00\n",
       "mean      -0.00           -0.00     -0.00\n",
       "std        1.00            1.00      1.00\n",
       "min       -1.21           -1.62     -1.73\n",
       "25%       -0.89           -0.36     -0.86\n",
       "50%       -0.18            0.06     -0.00\n",
       "75%        0.66            0.51      0.87\n",
       "max        2.98           29.61      1.73"
      ]
     },
     "execution_count": 42,
     "metadata": {},
     "output_type": "execute_result"
    }
   ],
   "source": [
    "# verificando a normalização\n",
    "train[num_var].describe()"
   ]
  },
  {
   "cell_type": "markdown",
   "metadata": {},
   "source": [
    "## 5.3 Variável Target"
   ]
  },
  {
   "cell_type": "markdown",
   "metadata": {},
   "source": [
    "Verificando a distribuição da variável target no dataset de treino."
   ]
  },
  {
   "cell_type": "code",
   "execution_count": 43,
   "metadata": {},
   "outputs": [
    {
     "data": {
      "image/png": "[encoded data removed]",
      "text/plain": [
       "<Figure size 432x288 with 1 Axes>"
      ]
     },
     "metadata": {},
     "output_type": "display_data"
    }
   ],
   "source": [
    "# distribuição da variável target\n",
    "target_plot = pd.DataFrame(train_target)\n",
    "sns.countplot(x = 'Response', data = target_plot)\n",
    "plt.show()"
   ]
  },
  {
   "cell_type": "markdown",
   "metadata": {},
   "source": [
    "O dataset encontra-se desbalanceado, talvez será preciso balanceá-lo para obtermos uma performance melhor do modelo."
   ]
  },
  {
   "cell_type": "markdown",
   "metadata": {},
   "source": [
    "# 5.4 Feature Selection"
   ]
  },
  {
   "cell_type": "markdown",
   "metadata": {},
   "source": [
    "Com o intuito de gerar um modelo mais simples e o mais generalizável possível, será feito uma seleção de atributos. Definindo assim, os atributos que melhor explicam o modelo.\n",
    "\n",
    "Para isso, será utilizado o Random Forest que conta com um atributo chamado 'feature_importances_', que calcula o grau de redução de impureza para cada feature do dataset."
   ]
  },
  {
   "cell_type": "code",
   "execution_count": 44,
   "metadata": {},
   "outputs": [
    {
     "data": {
      "image/png": "[encoded data removed]",
      "text/plain": [
       "<Figure size 432x288 with 1 Axes>"
      ]
     },
     "metadata": {},
     "output_type": "display_data"
    }
   ],
   "source": [
    "# instanciando o modelo\n",
    "model_fs = RandomForestClassifier(n_jobs = -1)\n",
    "\n",
    "# treinamento\n",
    "model_fs.fit(train, train_target)\n",
    "\n",
    "# feature importances\n",
    "feature_importances = pd.DataFrame({'Features' : columns, \n",
    "                                    'Importance' : model_fs.feature_importances_}).sort_values('Importance', ascending = False)\n",
    "\n",
    "# plot\n",
    "sns.barplot(x = 'Importance', y = 'Features', data = feature_importances, orient = 'h', palette = 'rocket')\n",
    "plt.show()"
   ]
  },
  {
   "cell_type": "markdown",
   "metadata": {},
   "source": [
    "Vou excluir os features com score menor que 0.05. "
   ]
  },
  {
   "cell_type": "code",
   "execution_count": 45,
   "metadata": {},
   "outputs": [
    {
     "data": {
      "text/plain": [
       "['Vintage',\n",
       " 'Annual_Premium',\n",
       " 'Age',\n",
       " 'Region_Code',\n",
       " 'Vehicle_Damage',\n",
       " 'Policy_Sales_Channel',\n",
       " 'Previously_Insured']"
      ]
     },
     "execution_count": 45,
     "metadata": {},
     "output_type": "execute_result"
    }
   ],
   "source": [
    "# captando as features selecionadas\n",
    "columns_selections = feature_importances['Features'].to_list()[:-2]\n",
    "columns_selections"
   ]
  },
  {
   "cell_type": "markdown",
   "metadata": {},
   "source": [
    "# 6.0 Construção do Modelo"
   ]
  },
  {
   "cell_type": "markdown",
   "metadata": {},
   "source": [
    "O objetivo agora é selecionar o melhor algortimo, para isso, vamos utilizar 5 algoritmos de classificação diferentes."
   ]
  },
  {
   "cell_type": "markdown",
   "metadata": {},
   "source": [
    "## 6.1 Verificando a Necessidade de Balanceamento dos Dados"
   ]
  },
  {
   "cell_type": "markdown",
   "metadata": {},
   "source": [
    "Irei construir um modelo para verificar se este está aprendendo prever ambas as classes. Para isso, utilizarei o Random Forest, com todos os parâmetros default."
   ]
  },
  {
   "cell_type": "code",
   "execution_count": 46,
   "metadata": {},
   "outputs": [
    {
     "name": "stdout",
     "output_type": "stream",
     "text": [
      "Accuracy:  0.8645928996877542\n"
     ]
    },
    {
     "data": {
      "image/png": "[encoded data removed]",
      "text/plain": [
       "<Figure size 432x288 with 2 Axes>"
      ]
     },
     "metadata": {},
     "output_type": "display_data"
    },
    {
     "name": "stdout",
     "output_type": "stream",
     "text": [
      "              precision    recall  f1-score   support\n",
      "\n",
      "           0       0.89      0.97      0.93     66994\n",
      "           1       0.33      0.11      0.17      9228\n",
      "\n",
      "    accuracy                           0.86     76222\n",
      "   macro avg       0.61      0.54      0.55     76222\n",
      "weighted avg       0.82      0.86      0.83     76222\n",
      "\n"
     ]
    }
   ],
   "source": [
    "# separar o dataset em treino e teste\n",
    "x_train, x_test, y_train, y_test = train_test_split(train[columns_selections], train_target, test_size = 0.2)\n",
    "\n",
    "# treinamento\n",
    "clf = RandomForestClassifier().fit(x_train, y_train)\n",
    "\n",
    "# acurácia\n",
    "print('Accuracy: ', accuracy_score(y_test, clf.predict(x_test)))\n",
    "\n",
    "# confusion matrix\n",
    "con_mtx(clf, clf_name = 'Random Forest - Confusion Matrix', x = x_test, y = y_test)\n",
    "\n",
    "# classification report\n",
    "print(classification_report(y_test, clf.predict(x_test)))"
   ]
  },
  {
   "cell_type": "markdown",
   "metadata": {},
   "source": [
    "O modelo não é bom em prever se o cliente tem interesse no seguro de automóvel. Tendo isso em vista, irei balancear o dataset de treino e verificar se existe melhora. "
   ]
  },
  {
   "cell_type": "markdown",
   "metadata": {},
   "source": [
    "### 6.1.1 Oversample"
   ]
  },
  {
   "cell_type": "markdown",
   "metadata": {},
   "source": [
    "Fazendo o balanceamento utilizando Synthetic Minority Oversampling Technique (SMOTE), que cria novos dados para a classe minoritária. "
   ]
  },
  {
   "cell_type": "code",
   "execution_count": 47,
   "metadata": {},
   "outputs": [
    {
     "data": {
      "text/plain": [
       "1    267405\n",
       "0    267405\n",
       "Name: Response, dtype: int64"
      ]
     },
     "execution_count": 47,
     "metadata": {},
     "output_type": "execute_result"
    }
   ],
   "source": [
    "# fazendo o oversample\n",
    "x_train_over, y_train_over = SMOTE().fit_resample(x_train, y_train)\n",
    "\n",
    "# imprimindo o resultado\n",
    "y_train_over.value_counts()"
   ]
  },
  {
   "cell_type": "code",
   "execution_count": 48,
   "metadata": {},
   "outputs": [
    {
     "name": "stdout",
     "output_type": "stream",
     "text": [
      "Accuracy:  0.8174673978641337\n"
     ]
    },
    {
     "data": {
      "image/png": "[encoded data removed]",
      "text/plain": [
       "<Figure size 432x288 with 2 Axes>"
      ]
     },
     "metadata": {},
     "output_type": "display_data"
    },
    {
     "name": "stdout",
     "output_type": "stream",
     "text": [
      "              precision    recall  f1-score   support\n",
      "\n",
      "           0       0.92      0.87      0.89     66994\n",
      "           1       0.31      0.42      0.36      9228\n",
      "\n",
      "    accuracy                           0.82     76222\n",
      "   macro avg       0.61      0.65      0.63     76222\n",
      "weighted avg       0.84      0.82      0.83     76222\n",
      "\n"
     ]
    }
   ],
   "source": [
    "# treinamento com os dados com oversample\n",
    "# treinamento\n",
    "clf = RandomForestClassifier().fit(x_train_over, y_train_over)\n",
    "\n",
    "# acurácia\n",
    "print('Accuracy: ', accuracy_score(y_test, clf.predict(x_test)))\n",
    "\n",
    "# confusion matrix\n",
    "con_mtx(clf, clf_name = 'Random Forest - Confusion Matrix', x = x_test, y = y_test)\n",
    "\n",
    "# classification report\n",
    "print(classification_report(y_test, clf.predict(x_test)))"
   ]
  },
  {
   "cell_type": "markdown",
   "metadata": {},
   "source": [
    "### 6.1.2 Undersample"
   ]
  },
  {
   "cell_type": "markdown",
   "metadata": {},
   "source": [
    "Irei fazer também o balanceamento com Undersample, que consiste em reduzir a classe maioritária."
   ]
  },
  {
   "cell_type": "code",
   "execution_count": 49,
   "metadata": {},
   "outputs": [
    {
     "data": {
      "text/plain": [
       "1    37482\n",
       "0    37482\n",
       "Name: Response, dtype: int64"
      ]
     },
     "execution_count": 49,
     "metadata": {},
     "output_type": "execute_result"
    }
   ],
   "source": [
    "# undersample\n",
    "x_train_under, y_train_under = RandomUnderSampler().fit_resample(x_train, y_train)\n",
    "\n",
    "# verificando o balanceamento\n",
    "y_train_under.value_counts()"
   ]
  },
  {
   "cell_type": "code",
   "execution_count": 50,
   "metadata": {},
   "outputs": [
    {
     "name": "stdout",
     "output_type": "stream",
     "text": [
      "Accuracy:  0.7096507569992916\n"
     ]
    },
    {
     "data": {
      "image/png": "[encoded data removed]",
      "text/plain": [
       "<Figure size 432x288 with 2 Axes>"
      ]
     },
     "metadata": {},
     "output_type": "display_data"
    },
    {
     "name": "stdout",
     "output_type": "stream",
     "text": [
      "              precision    recall  f1-score   support\n",
      "\n",
      "           0       0.98      0.69      0.81     66994\n",
      "           1       0.28      0.88      0.42      9228\n",
      "\n",
      "    accuracy                           0.71     76222\n",
      "   macro avg       0.63      0.78      0.61     76222\n",
      "weighted avg       0.89      0.71      0.76     76222\n",
      "\n"
     ]
    }
   ],
   "source": [
    "# treinamento com os dados com under sample\n",
    "# treinamento\n",
    "clf = RandomForestClassifier().fit(x_train_under, y_train_under)\n",
    "\n",
    "# acurácia\n",
    "print('Accuracy: ', accuracy_score(y_test, clf.predict(x_test)))\n",
    "\n",
    "# confusion matrix\n",
    "con_mtx(clf, clf_name = 'Random Forest - Confusion Matrix', x = x_test, y = y_test)\n",
    "\n",
    "# classification report\n",
    "print(classification_report(y_test, clf.predict(x_test)))"
   ]
  },
  {
   "cell_type": "markdown",
   "metadata": {},
   "source": [
    "### 6.1.3 Combinando Oversample e Undersample"
   ]
  },
  {
   "cell_type": "markdown",
   "metadata": {},
   "source": [
    "A combinação será feita primeiramente com oversample, para que a classe minoritária seja equivalente a 30% da classe maioritária, e undersample, para que a classe minoritária seja equivalente a 50% da classe maioritária."
   ]
  },
  {
   "cell_type": "code",
   "execution_count": 51,
   "metadata": {},
   "outputs": [
    {
     "data": {
      "text/plain": [
       "0    160442\n",
       "1     80221\n",
       "Name: Response, dtype: int64"
      ]
     },
     "execution_count": 51,
     "metadata": {},
     "output_type": "execute_result"
    }
   ],
   "source": [
    "# fazendo o oversample\n",
    "x_train_ou, y_train_ou = SMOTE(sampling_strategy = 0.3).fit_resample(x_train, y_train)\n",
    "x_train_ou, y_train_ou = RandomUnderSampler(sampling_strategy = 0.5).fit_resample(x_train_ou, y_train_ou)\n",
    "\n",
    "# imprimindo o resultado\n",
    "y_train_ou.value_counts()"
   ]
  },
  {
   "cell_type": "code",
   "execution_count": 52,
   "metadata": {},
   "outputs": [
    {
     "name": "stdout",
     "output_type": "stream",
     "text": [
      "Accuracy:  0.8180708981658839\n"
     ]
    },
    {
     "data": {
      "image/png": "[encoded data removed]",
      "text/plain": [
       "<Figure size 432x288 with 2 Axes>"
      ]
     },
     "metadata": {},
     "output_type": "display_data"
    },
    {
     "name": "stdout",
     "output_type": "stream",
     "text": [
      "              precision    recall  f1-score   support\n",
      "\n",
      "           0       0.92      0.87      0.89     66994\n",
      "           1       0.32      0.44      0.37      9228\n",
      "\n",
      "    accuracy                           0.82     76222\n",
      "   macro avg       0.62      0.66      0.63     76222\n",
      "weighted avg       0.85      0.82      0.83     76222\n",
      "\n"
     ]
    }
   ],
   "source": [
    "# treinamento\n",
    "clf = RandomForestClassifier().fit(x_train_ou, y_train_ou)\n",
    "\n",
    "# acurácia\n",
    "print('Accuracy: ', accuracy_score(y_test, clf.predict(x_test)))\n",
    "\n",
    "# confusion matrix\n",
    "con_mtx(clf, clf_name = 'Random Forest - Confusion Matrix', x = x_test, y = y_test)\n",
    "\n",
    "# classification report\n",
    "print(classification_report(y_test, clf.predict(x_test)))"
   ]
  },
  {
   "cell_type": "markdown",
   "metadata": {},
   "source": [
    "### 6.1.4 Conclusões"
   ]
  },
  {
   "cell_type": "markdown",
   "metadata": {},
   "source": [
    "Os dados que receberam o **undersample** foi o que obteve a pior acurácia entre todos (71%) porém, foi o que conseguiu captar mais clientes com possuem interesse no seguro (88%) com uma precisão de 28,4%."
   ]
  },
  {
   "cell_type": "markdown",
   "metadata": {},
   "source": [
    "Os dados **sem balanceamento** foi o que obteve a maior acurácia (86%) porém, só conseguiu prever 11% dos clientes que realmente tinham interesse com uma precisão de 35,5%."
   ]
  },
  {
   "cell_type": "markdown",
   "metadata": {},
   "source": [
    "Para o nosso problema de negócio poderíamos optar por duas abordagens: \n",
    "- 1ª: maior precisão em prever os clientes que realmente possuem interesse;\n",
    "- 2ª: captar o maior número de clientes com interesse."
   ]
  },
  {
   "cell_type": "markdown",
   "metadata": {},
   "source": [
    "Em um cenário onde há recursos limitados para contatar os clientes oferecê-los o seguro, um modelo com precision maior é o mais recomendado. Já em um cenário onde há mais recursos para contatar a maior quantidade de clientes possível, um modelo com recall maior é o mais recomendado."
   ]
  },
  {
   "cell_type": "markdown",
   "metadata": {},
   "source": [
    "Partindo do presuposto que a Insurance All quer converter a maior quantidade de clientes interessados na contratação do seguro, optarei pelo modelo com os dados balanceados com undersample."
   ]
  },
  {
   "cell_type": "markdown",
   "metadata": {},
   "source": [
    "## 6.2 Escolha do Algoritmo"
   ]
  },
  {
   "cell_type": "markdown",
   "metadata": {},
   "source": [
    "Vou testar 5 algoritmos diferentes e escolher o que obtiver o maior valor de recall."
   ]
  },
  {
   "cell_type": "code",
   "execution_count": 53,
   "metadata": {},
   "outputs": [],
   "source": [
    "# lista com algoritmos\n",
    "models = []\n",
    "\n",
    "models.append(('RF',  RandomForestClassifier(n_jobs = -1)))\n",
    "models.append(('LR',  LogisticRegression(n_jobs = -1)))\n",
    "models.append(('KNN', KNeighborsClassifier(n_jobs = -1)))\n",
    "models.append(('SVM', SVC()))\n",
    "models.append(('XGB', XGBClassifier(n_jobs = -1)))"
   ]
  },
  {
   "cell_type": "code",
   "execution_count": 54,
   "metadata": {},
   "outputs": [
    {
     "name": "stdout",
     "output_type": "stream",
     "text": [
      "\n",
      "RF - Classification Report:\n",
      "\n",
      "              precision    recall  f1-score   support\n",
      "\n",
      "           0       0.98      0.68      0.81     66994\n",
      "           1       0.28      0.88      0.42      9228\n",
      "\n",
      "    accuracy                           0.71     76222\n",
      "   macro avg       0.63      0.78      0.61     76222\n",
      "weighted avg       0.89      0.71      0.76     76222\n",
      "\n",
      "\n",
      "LR - Classification Report:\n",
      "\n",
      "              precision    recall  f1-score   support\n",
      "\n",
      "           0       1.00      0.59      0.74     66994\n",
      "           1       0.25      0.98      0.39      9228\n",
      "\n",
      "    accuracy                           0.64     76222\n",
      "   macro avg       0.62      0.78      0.57     76222\n",
      "weighted avg       0.90      0.64      0.70     76222\n",
      "\n",
      "\n",
      "KNN - Classification Report:\n",
      "\n",
      "              precision    recall  f1-score   support\n",
      "\n",
      "           0       0.97      0.67      0.79     66994\n",
      "           1       0.26      0.84      0.40      9228\n",
      "\n",
      "    accuracy                           0.69     76222\n",
      "   macro avg       0.62      0.76      0.60     76222\n",
      "weighted avg       0.88      0.69      0.75     76222\n",
      "\n",
      "\n",
      "SVM - Classification Report:\n",
      "\n",
      "              precision    recall  f1-score   support\n",
      "\n",
      "           0       1.00      0.56      0.71     66994\n",
      "           1       0.23      0.98      0.38      9228\n",
      "\n",
      "    accuracy                           0.61     76222\n",
      "   macro avg       0.61      0.77      0.55     76222\n",
      "weighted avg       0.90      0.61      0.67     76222\n",
      "\n",
      "\n",
      "XGB - Classification Report:\n",
      "\n",
      "              precision    recall  f1-score   support\n",
      "\n",
      "           0       0.98      0.67      0.80     66994\n",
      "           1       0.28      0.92      0.43      9228\n",
      "\n",
      "    accuracy                           0.70     76222\n",
      "   macro avg       0.63      0.79      0.61     76222\n",
      "weighted avg       0.90      0.70      0.75     76222\n",
      "\n"
     ]
    }
   ],
   "source": [
    "# treinamento\n",
    "model_choice(models = models, x_train = x_train_under, x_test = x_test, y_train = y_train_under, y_test = y_test)"
   ]
  },
  {
   "cell_type": "markdown",
   "metadata": {},
   "source": [
    "SVM e Logistic Regression obtiveram o mesmo recall, porém, Logistic Regression o fez com maior precision. Portanto, o algoritmo que iremos utilizar para a construção do modelo é o Logistic Regression."
   ]
  },
  {
   "cell_type": "markdown",
   "metadata": {},
   "source": [
    "## 6.3 Otimização dos Algoritmos"
   ]
  },
  {
   "cell_type": "markdown",
   "metadata": {},
   "source": [
    "Vou utilizar a função Randomized Search do Sklearn em busca dos melhores parâmetros (apenas alguns serão testados)."
   ]
  },
  {
   "cell_type": "code",
   "execution_count": 55,
   "metadata": {},
   "outputs": [
    {
     "name": "stdout",
     "output_type": "stream",
     "text": [
      "Optimized Model:\n",
      "               precision    recall  f1-score   support\n",
      "\n",
      "           0       1.00      0.59      0.74     66994\n",
      "           1       0.25      0.98      0.39      9228\n",
      "\n",
      "    accuracy                           0.64     76222\n",
      "   macro avg       0.62      0.78      0.57     76222\n",
      "weighted avg       0.90      0.64      0.70     76222\n",
      "\n"
     ]
    }
   ],
   "source": [
    "# hiperparâmetros a serem otimizados\n",
    "hyper_lr  = {'penalty' : ['l1', 'l2'],\n",
    "             'C'       : np.logspace(-4, 4, 20),\n",
    "             'solver'  : ['lbfgs', 'liblinear']}\n",
    "\n",
    "# modelo\n",
    "clf_lr = LogisticRegression(n_jobs = -1)\n",
    "\n",
    "# otimizando\n",
    "random_search = RandomizedSearchCV(clf_lr, param_distributions = hyper_lr, cv = 5, n_jobs = -1, scoring = 'recall')\n",
    "random_search.fit(x_train_under, y_train_under)\n",
    "\n",
    "# melhores parâmetros\n",
    "bestclf_lr = random_search.best_estimator_\n",
    "\n",
    "# resultado\n",
    "print('Optimized Model:\\n', classification_report(y_test, bestclf_lr.predict(x_test)))"
   ]
  },
  {
   "cell_type": "markdown",
   "metadata": {},
   "source": [
    "Não foi possível, a partir da tentativa com RandomizedSearchCV, otimizar o algortimo com os parâmetros passados. Portanto, usarei os padrões default, conforme feito anteriormente."
   ]
  },
  {
   "cell_type": "markdown",
   "metadata": {},
   "source": [
    "## 6.4 Modelo Final"
   ]
  },
  {
   "cell_type": "markdown",
   "metadata": {},
   "source": [
    "Enfim, utilizarei o algoritmo Logistic Regression com os dados com undersample para o treinamento do modelo final."
   ]
  },
  {
   "cell_type": "code",
   "execution_count": 56,
   "metadata": {},
   "outputs": [
    {
     "name": "stdout",
     "output_type": "stream",
     "text": [
      "Shape:\n",
      "x: (93420, 7)\n",
      "y: (93420,)\n",
      "\n",
      "Balancing:\n",
      "1    46710\n",
      "0    46710\n",
      "Name: Response, dtype: int64\n"
     ]
    }
   ],
   "source": [
    "# dados para treino\n",
    "x = train[columns_selections]\n",
    "y = train_target\n",
    "\n",
    "# undersample com todos os dados de treino\n",
    "x, y = RandomUnderSampler().fit_resample(x, y)\n",
    "\n",
    "# verificando o balanceamento\n",
    "print('Shape:\\nx: {}\\ny: {}\\n'.format(x.shape, y.shape))\n",
    "print('Balancing:\\n{}'.format(y.value_counts()))"
   ]
  },
  {
   "cell_type": "code",
   "execution_count": 57,
   "metadata": {},
   "outputs": [],
   "source": [
    "# modelo final\n",
    "final_model = LogisticRegression(n_jobs = -1).fit(x, y)"
   ]
  },
  {
   "cell_type": "code",
   "execution_count": 58,
   "metadata": {},
   "outputs": [],
   "source": [
    "# salvando o modelo\n",
    "filename = 'final_model.sav'\n",
    "pickle.dump(final_model, open(filename, 'wb'))"
   ]
  },
  {
   "cell_type": "markdown",
   "metadata": {},
   "source": [
    "# 7.0 Realizando as Previsões"
   ]
  },
  {
   "cell_type": "code",
   "execution_count": 59,
   "metadata": {},
   "outputs": [],
   "source": [
    "# carregando o modelo\n",
    "loaded_model = pickle.load(open(filename, 'rb'))"
   ]
  },
  {
   "cell_type": "code",
   "execution_count": 60,
   "metadata": {
    "scrolled": true
   },
   "outputs": [
    {
     "data": {
      "text/html": [
       "<div>\n",
       "<style scoped>\n",
       "    .dataframe tbody tr th:only-of-type {\n",
       "        vertical-align: middle;\n",
       "    }\n",
       "\n",
       "    .dataframe tbody tr th {\n",
       "        vertical-align: top;\n",
       "    }\n",
       "\n",
       "    .dataframe thead th {\n",
       "        text-align: right;\n",
       "    }\n",
       "</style>\n",
       "<table border=\"1\" class=\"dataframe\">\n",
       "  <thead>\n",
       "    <tr style=\"text-align: right;\">\n",
       "      <th></th>\n",
       "      <th>id</th>\n",
       "      <th>Gender</th>\n",
       "      <th>Age</th>\n",
       "      <th>Driving_License</th>\n",
       "      <th>Region_Code</th>\n",
       "      <th>Previously_Insured</th>\n",
       "      <th>Vehicle_Age</th>\n",
       "      <th>Vehicle_Damage</th>\n",
       "      <th>Annual_Premium</th>\n",
       "      <th>Policy_Sales_Channel</th>\n",
       "      <th>Vintage</th>\n",
       "      <th>Predictions</th>\n",
       "    </tr>\n",
       "  </thead>\n",
       "  <tbody>\n",
       "    <tr>\n",
       "      <th>63518</th>\n",
       "      <td>444628</td>\n",
       "      <td>Female</td>\n",
       "      <td>64</td>\n",
       "      <td>1</td>\n",
       "      <td>28.00</td>\n",
       "      <td>0</td>\n",
       "      <td>1-2 Year</td>\n",
       "      <td>Yes</td>\n",
       "      <td>32000.00</td>\n",
       "      <td>122.00</td>\n",
       "      <td>111</td>\n",
       "      <td>1</td>\n",
       "    </tr>\n",
       "    <tr>\n",
       "      <th>100150</th>\n",
       "      <td>481260</td>\n",
       "      <td>Male</td>\n",
       "      <td>56</td>\n",
       "      <td>1</td>\n",
       "      <td>41.00</td>\n",
       "      <td>0</td>\n",
       "      <td>1-2 Year</td>\n",
       "      <td>Yes</td>\n",
       "      <td>25024.00</td>\n",
       "      <td>26.00</td>\n",
       "      <td>222</td>\n",
       "      <td>1</td>\n",
       "    </tr>\n",
       "    <tr>\n",
       "      <th>100148</th>\n",
       "      <td>481258</td>\n",
       "      <td>Female</td>\n",
       "      <td>56</td>\n",
       "      <td>1</td>\n",
       "      <td>28.00</td>\n",
       "      <td>0</td>\n",
       "      <td>1-2 Year</td>\n",
       "      <td>Yes</td>\n",
       "      <td>25360.00</td>\n",
       "      <td>124.00</td>\n",
       "      <td>298</td>\n",
       "      <td>1</td>\n",
       "    </tr>\n",
       "    <tr>\n",
       "      <th>51246</th>\n",
       "      <td>432356</td>\n",
       "      <td>Female</td>\n",
       "      <td>21</td>\n",
       "      <td>1</td>\n",
       "      <td>49.00</td>\n",
       "      <td>0</td>\n",
       "      <td>&lt; 1 Year</td>\n",
       "      <td>Yes</td>\n",
       "      <td>34361.00</td>\n",
       "      <td>160.00</td>\n",
       "      <td>278</td>\n",
       "      <td>1</td>\n",
       "    </tr>\n",
       "    <tr>\n",
       "      <th>51245</th>\n",
       "      <td>432355</td>\n",
       "      <td>Female</td>\n",
       "      <td>22</td>\n",
       "      <td>1</td>\n",
       "      <td>6.00</td>\n",
       "      <td>0</td>\n",
       "      <td>&lt; 1 Year</td>\n",
       "      <td>Yes</td>\n",
       "      <td>31026.00</td>\n",
       "      <td>152.00</td>\n",
       "      <td>44</td>\n",
       "      <td>1</td>\n",
       "    </tr>\n",
       "  </tbody>\n",
       "</table>\n",
       "</div>"
      ],
      "text/plain": [
       "            id  Gender  Age  Driving_License  Region_Code  Previously_Insured  \\\n",
       "63518   444628  Female   64                1        28.00                   0   \n",
       "100150  481260    Male   56                1        41.00                   0   \n",
       "100148  481258  Female   56                1        28.00                   0   \n",
       "51246   432356  Female   21                1        49.00                   0   \n",
       "51245   432355  Female   22                1         6.00                   0   \n",
       "\n",
       "       Vehicle_Age Vehicle_Damage  Annual_Premium  Policy_Sales_Channel  \\\n",
       "63518     1-2 Year            Yes        32000.00                122.00   \n",
       "100150    1-2 Year            Yes        25024.00                 26.00   \n",
       "100148    1-2 Year            Yes        25360.00                124.00   \n",
       "51246     < 1 Year            Yes        34361.00                160.00   \n",
       "51245     < 1 Year            Yes        31026.00                152.00   \n",
       "\n",
       "        Vintage  Predictions  \n",
       "63518       111            1  \n",
       "100150      222            1  \n",
       "100148      298            1  \n",
       "51246       278            1  \n",
       "51245        44            1  "
      ]
     },
     "execution_count": 60,
     "metadata": {},
     "output_type": "execute_result"
    }
   ],
   "source": [
    "# realizando as previsões\n",
    "predictions = loaded_model.predict(test[columns_selections])\n",
    "\n",
    "# carregando o dataset de test 'bruto'\n",
    "test_pred   = pd.read_csv('test.csv')\n",
    "\n",
    "# unindo as previsões em um dataset\n",
    "test_pred['Predictions'] = predictions\n",
    "test_pred = test_pred.sort_values(by = 'Predictions', ascending = False)\n",
    "\n",
    "# resultado\n",
    "test_pred.head()"
   ]
  },
  {
   "cell_type": "code",
   "execution_count": 61,
   "metadata": {},
   "outputs": [
    {
     "data": {
      "image/png": "[encoded data removed]",
      "text/plain": [
       "<Figure size 432x288 with 1 Axes>"
      ]
     },
     "metadata": {},
     "output_type": "display_data"
    },
    {
     "data": {
      "text/plain": [
       "0    66500\n",
       "1    60537\n",
       "Name: Predictions, dtype: int64"
      ]
     },
     "execution_count": 61,
     "metadata": {},
     "output_type": "execute_result"
    }
   ],
   "source": [
    "# balanceamento da previsão\n",
    "sns.countplot(x = 'Predictions', data = test_pred)\n",
    "plt.show()\n",
    "\n",
    "# counts\n",
    "test_pred.Predictions.value_counts()"
   ]
  },
  {
   "cell_type": "markdown",
   "metadata": {},
   "source": [
    "# 8.0 Respostas do Negócio"
   ]
  },
  {
   "cell_type": "markdown",
   "metadata": {},
   "source": [
    "Considerando as métricas obtidas na construção do modelo e as previsões. Temos:\n",
    "\n",
    "- Dos 60.537 clientes que foram classificados como interessados, apenas 14.998 estão de fato intessado, ou seja, 24.77% (precision);\n",
    "- Considerando o recall de 98% (ou seja, 14.998 clientes) nos dados previstos, temos no dataset 15.304 clientes com interesse."
   ]
  },
  {
   "cell_type": "markdown",
   "metadata": {},
   "source": [
    "## 8.1 Qual a porcentagem de clientes interessados em adquirir um seguro de automóvel, o time de vendas conseguirá contatar fazendo 20.000 ligações?"
   ]
  },
  {
   "cell_type": "markdown",
   "metadata": {},
   "source": [
    "Considerando a precision do modelo, de 25%, com 20.000 ligações é possível contatar aproximadamente **5.000 clientes** interessados (33.33% dos clientes interessados)."
   ]
  },
  {
   "cell_type": "markdown",
   "metadata": {},
   "source": [
    "## 8.2 E se a capacidade do time de vendas aumentar para 40.000 ligações, qual a porcentagem de clientes interessados em adquirir um seguro de automóvel o time de vendas conseguirá contatar?"
   ]
  },
  {
   "cell_type": "markdown",
   "metadata": {},
   "source": [
    "Da mesma forma da resposta anterior, fazendo 40.000 ligações é possível contatar aproximadamente **10.000 clientes** interessados (66.67% dos clientes interessados)."
   ]
  },
  {
   "cell_type": "markdown",
   "metadata": {},
   "source": [
    "## 8.3 Quantas ligações o time de vendas precisa fazer para contatar 80% dos clientes interessados em adquirir um seguro de automóvel?"
   ]
  },
  {
   "cell_type": "markdown",
   "metadata": {},
   "source": [
    "80% representa 11.998 clientes interessados. Ou seja, é necessário realizar **48.438 ligações** para contatar 80% dos clientes interessado."
   ]
  }
 ],
 "metadata": {
  "kernelspec": {
   "display_name": "Python 3",
   "language": "python",
   "name": "python3"
  },
  "language_info": {
   "codemirror_mode": {
    "name": "ipython",
    "version": 3
   },
   "file_extension": ".py",
   "mimetype": "text/x-python",
   "name": "python",
   "nbconvert_exporter": "python",
   "pygments_lexer": "ipython3",
   "version": "3.8.3"
  }
 },
 "nbformat": 4,
 "nbformat_minor": 4
}
