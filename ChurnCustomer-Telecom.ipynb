{
 "cells": [
  {
   "cell_type": "markdown",
   "metadata": {},
   "source": [
    "# Customer Churn em uma Operador de Telecom"
   ]
  },
  {
   "cell_type": "markdown",
   "metadata": {},
   "source": [
    "# 1.0 Problema de Negócio"
   ]
  },
  {
   "cell_type": "markdown",
   "metadata": {},
   "source": [
    "Customer Churn (ou Rotatividade de Clientes, em uma tradução livre) refere-se a uma decisão tomada pelo cliente sobre o término do relacionamento comercial. Refere-se também à perda de clientes. A fidelidade do cliente e a rotatividade de clientes sempre somam 100%. Se uma empresa tem uma taxa de fidelidade de 60%, então a taxa de perda de clientes é de 40%. De acordo com a regra de lucratividade do cliente 80/20, 20% dos clientes estão gerando 80% da receita. Portanto, é muito importante prever os usuários que provavelmente abandonarão o relacionamento comercial e os fatores que afetam as decisões do cliente.\n",
    "\n",
    "Neste projeto, vamos prever o Customer Churn em uma Operadora de Telecom.\n",
    "\n",
    "O objetivo desse projeto é criar um modelo de aprendizagem de máquina que possa prever se um cliente pode ou não cancelar seu plano e qual a probabilidade de isso ocorrer."
   ]
  },
  {
   "cell_type": "markdown",
   "metadata": {},
   "source": [
    "# 2.0 Módulos Utilizados"
   ]
  },
  {
   "cell_type": "code",
   "execution_count": 1,
   "metadata": {},
   "outputs": [],
   "source": [
    "# manipulação de dados\n",
    "import pandas as pd\n",
    "import numpy  as np\n",
    "\n",
    "# visualização\n",
    "import matplotlib.pyplot as plt\n",
    "import seaborn           as sns\n",
    "\n",
    "# warnings\n",
    "import warnings\n",
    "warnings.filterwarnings('ignore')\n",
    "\n",
    "# algoritmos de ml\n",
    "from sklearn.ensemble              import RandomForestClassifier\n",
    "from sklearn.linear_model          import LogisticRegression\n",
    "from sklearn.neighbors             import KNeighborsClassifier\n",
    "from sklearn.discriminant_analysis import LinearDiscriminantAnalysis\n",
    "from sklearn.naive_bayes           import GaussianNB\n",
    "from sklearn.svm                   import SVC\n",
    "from xgboost                       import XGBClassifier\n",
    "\n",
    "# data split\n",
    "from sklearn.model_selection import KFold\n",
    "from sklearn.model_selection import cross_val_score\n",
    "from sklearn.model_selection import train_test_split\n",
    "\n",
    "# pré-processamento\n",
    "from sklearn.preprocessing import MinMaxScaler\n",
    "from sklearn.preprocessing import Normalizer\n",
    "from sklearn.preprocessing import StandardScaler\n",
    "\n",
    "# ajuste fino\n",
    "from sklearn.model_selection import RandomizedSearchCV\n",
    "\n",
    "# metricas\n",
    "from sklearn.metrics import classification_report\n",
    "from sklearn.metrics import confusion_matrix, plot_confusion_matrix\n",
    "from sklearn.metrics import roc_auc_score\n",
    "from sklearn.metrics import roc_curve\n",
    "from sklearn.metrics import auc"
   ]
  },
  {
   "cell_type": "markdown",
   "metadata": {},
   "source": [
    "# 3.0 Funções Auxiliares"
   ]
  },
  {
   "cell_type": "code",
   "execution_count": 2,
   "metadata": {},
   "outputs": [],
   "source": [
    "# função para imprimir as principais estatísticas\n",
    "def stats(cols):\n",
    "    return train[cols].describe()\n",
    "    \n",
    "# função para imprimir boxplot\n",
    "def box(cols):\n",
    "    train[cols].plot(kind = 'box', figsize = (10, 6))\n",
    "    plt.show()\n",
    "    \n",
    "# função para imprimir histogramas\n",
    "def histPlot(cols):\n",
    "    plt.figure(figsize = (15, 6))\n",
    "\n",
    "    for i in range(0, len(cols)):\n",
    "    \n",
    "        plt.subplot(1, len(cols), (i + 1))\n",
    "        sns.histplot(train, x = cols[i], hue = 'churn')\n",
    "\n",
    "    plt.show()\n",
    "    \n",
    "# função para imprimir as estatísticas separadas pelo churn\n",
    "def stats_churn(cols):\n",
    "    churn_situation = ['yes', 'no']\n",
    "    df              = pd.DataFrame()\n",
    "\n",
    "    for col in cols:\n",
    "    \n",
    "        for churn in churn_situation:\n",
    "        \n",
    "            stats         = train[train['churn'] == churn][col]\n",
    "            stats         = pd.DataFrame(stats.describe())\n",
    "            stats.columns = [col + '_churn_' + churn]\n",
    "            df            = pd.concat([df, stats], axis = 1)\n",
    "        \n",
    "    return df\n",
    "\n",
    "# fuções para normalização e padronização\n",
    "def min_max_scaler(x):\n",
    "    norm = MinMaxScaler()\n",
    "    return norm.fit_transform(x)\n",
    "\n",
    "def normalizer(x):\n",
    "    norm = Normalizer().fit(x)\n",
    "    return norm.transform(x)\n",
    "\n",
    "def standard_scaler(x):\n",
    "    norm = StandardScaler().fit(x)\n",
    "    return norm.transform(x)\n",
    "\n",
    "# função para realizar o treinamento dos modelos\n",
    "def fitting(models, x, y):\n",
    "    \n",
    "    # dataframes para salvar os resultados\n",
    "    result = pd.DataFrame()\n",
    "    stats  = pd.DataFrame()\n",
    "    \n",
    "    # split dos dados\n",
    "    kfold  = KFold(n_splits = 5, shuffle = True, random_state = 0)\n",
    "    \n",
    "    # loop para treinar cada modelo\n",
    "    for name, model in models:\n",
    "        \n",
    "        acc          = cross_val_score(model, x, y, cv = kfold, scoring = 'accuracy')\n",
    "        \n",
    "        result[name] = acc\n",
    "    \n",
    "        mean         = round((100 * acc.mean()), 3)\n",
    "        \n",
    "        std          = round(acc.std(), 5)\n",
    "        \n",
    "        stats[name]  = [mean, std]\n",
    "    \n",
    "    stats.index      = ['mean', 'std']\n",
    "    \n",
    "    # boxplot do resultado\n",
    "    result.plot(kind = 'box', figsize = (15, 8))\n",
    "    plt.show()\n",
    "    \n",
    "    # retornar as acurácias de cada modelo treinado\n",
    "    return stats"
   ]
  },
  {
   "cell_type": "markdown",
   "metadata": {},
   "source": [
    "# 4.0 Análise Exploratória dos Dados"
   ]
  },
  {
   "cell_type": "markdown",
   "metadata": {},
   "source": [
    "Em estatística, a análise exploratória de dados (AED) é uma abordagem à análise de conjuntos de dados de modo a resumir suas características principais, frequentemente com métodos visuais. Um modelo estatístico pode ou não ser usado, mas primariamente a AED tem como objetivo observar o que os dados podem nos dizer além da modelagem formal ou do processo de teste de hipóteses. "
   ]
  },
  {
   "cell_type": "markdown",
   "metadata": {},
   "source": [
    "A análise exploratória de dados emprega grande variedade de técnicas gráficas e quantitativas, visando maximizar a obtenção de informações ocultas na sua estrutura, descobrir variáveis importantes em suas tendências, detectar comportamentos anômalos do fenômeno, testar se são válidas as hipóteses assumidas, escolher modelos e determinar o número ótimo de variáveis."
   ]
  },
  {
   "cell_type": "markdown",
   "metadata": {},
   "source": [
    "## 4.1 Reconhecimento dos Dados"
   ]
  },
  {
   "cell_type": "code",
   "execution_count": 3,
   "metadata": {},
   "outputs": [
    {
     "data": {
      "text/html": [
       "<div>\n",
       "<style scoped>\n",
       "    .dataframe tbody tr th:only-of-type {\n",
       "        vertical-align: middle;\n",
       "    }\n",
       "\n",
       "    .dataframe tbody tr th {\n",
       "        vertical-align: top;\n",
       "    }\n",
       "\n",
       "    .dataframe thead th {\n",
       "        text-align: right;\n",
       "    }\n",
       "</style>\n",
       "<table border=\"1\" class=\"dataframe\">\n",
       "  <thead>\n",
       "    <tr style=\"text-align: right;\">\n",
       "      <th></th>\n",
       "      <th>Unnamed: 0</th>\n",
       "      <th>state</th>\n",
       "      <th>account_length</th>\n",
       "      <th>area_code</th>\n",
       "      <th>international_plan</th>\n",
       "      <th>voice_mail_plan</th>\n",
       "      <th>number_vmail_messages</th>\n",
       "      <th>total_day_minutes</th>\n",
       "      <th>total_day_calls</th>\n",
       "      <th>total_day_charge</th>\n",
       "      <th>...</th>\n",
       "      <th>total_eve_calls</th>\n",
       "      <th>total_eve_charge</th>\n",
       "      <th>total_night_minutes</th>\n",
       "      <th>total_night_calls</th>\n",
       "      <th>total_night_charge</th>\n",
       "      <th>total_intl_minutes</th>\n",
       "      <th>total_intl_calls</th>\n",
       "      <th>total_intl_charge</th>\n",
       "      <th>number_customer_service_calls</th>\n",
       "      <th>churn</th>\n",
       "    </tr>\n",
       "  </thead>\n",
       "  <tbody>\n",
       "    <tr>\n",
       "      <th>0</th>\n",
       "      <td>1</td>\n",
       "      <td>KS</td>\n",
       "      <td>128</td>\n",
       "      <td>area_code_415</td>\n",
       "      <td>no</td>\n",
       "      <td>yes</td>\n",
       "      <td>25</td>\n",
       "      <td>265.1</td>\n",
       "      <td>110</td>\n",
       "      <td>45.07</td>\n",
       "      <td>...</td>\n",
       "      <td>99</td>\n",
       "      <td>16.78</td>\n",
       "      <td>244.7</td>\n",
       "      <td>91</td>\n",
       "      <td>11.01</td>\n",
       "      <td>10.0</td>\n",
       "      <td>3</td>\n",
       "      <td>2.70</td>\n",
       "      <td>1</td>\n",
       "      <td>no</td>\n",
       "    </tr>\n",
       "    <tr>\n",
       "      <th>1</th>\n",
       "      <td>2</td>\n",
       "      <td>OH</td>\n",
       "      <td>107</td>\n",
       "      <td>area_code_415</td>\n",
       "      <td>no</td>\n",
       "      <td>yes</td>\n",
       "      <td>26</td>\n",
       "      <td>161.6</td>\n",
       "      <td>123</td>\n",
       "      <td>27.47</td>\n",
       "      <td>...</td>\n",
       "      <td>103</td>\n",
       "      <td>16.62</td>\n",
       "      <td>254.4</td>\n",
       "      <td>103</td>\n",
       "      <td>11.45</td>\n",
       "      <td>13.7</td>\n",
       "      <td>3</td>\n",
       "      <td>3.70</td>\n",
       "      <td>1</td>\n",
       "      <td>no</td>\n",
       "    </tr>\n",
       "    <tr>\n",
       "      <th>2</th>\n",
       "      <td>3</td>\n",
       "      <td>NJ</td>\n",
       "      <td>137</td>\n",
       "      <td>area_code_415</td>\n",
       "      <td>no</td>\n",
       "      <td>no</td>\n",
       "      <td>0</td>\n",
       "      <td>243.4</td>\n",
       "      <td>114</td>\n",
       "      <td>41.38</td>\n",
       "      <td>...</td>\n",
       "      <td>110</td>\n",
       "      <td>10.30</td>\n",
       "      <td>162.6</td>\n",
       "      <td>104</td>\n",
       "      <td>7.32</td>\n",
       "      <td>12.2</td>\n",
       "      <td>5</td>\n",
       "      <td>3.29</td>\n",
       "      <td>0</td>\n",
       "      <td>no</td>\n",
       "    </tr>\n",
       "    <tr>\n",
       "      <th>3</th>\n",
       "      <td>4</td>\n",
       "      <td>OH</td>\n",
       "      <td>84</td>\n",
       "      <td>area_code_408</td>\n",
       "      <td>yes</td>\n",
       "      <td>no</td>\n",
       "      <td>0</td>\n",
       "      <td>299.4</td>\n",
       "      <td>71</td>\n",
       "      <td>50.90</td>\n",
       "      <td>...</td>\n",
       "      <td>88</td>\n",
       "      <td>5.26</td>\n",
       "      <td>196.9</td>\n",
       "      <td>89</td>\n",
       "      <td>8.86</td>\n",
       "      <td>6.6</td>\n",
       "      <td>7</td>\n",
       "      <td>1.78</td>\n",
       "      <td>2</td>\n",
       "      <td>no</td>\n",
       "    </tr>\n",
       "    <tr>\n",
       "      <th>4</th>\n",
       "      <td>5</td>\n",
       "      <td>OK</td>\n",
       "      <td>75</td>\n",
       "      <td>area_code_415</td>\n",
       "      <td>yes</td>\n",
       "      <td>no</td>\n",
       "      <td>0</td>\n",
       "      <td>166.7</td>\n",
       "      <td>113</td>\n",
       "      <td>28.34</td>\n",
       "      <td>...</td>\n",
       "      <td>122</td>\n",
       "      <td>12.61</td>\n",
       "      <td>186.9</td>\n",
       "      <td>121</td>\n",
       "      <td>8.41</td>\n",
       "      <td>10.1</td>\n",
       "      <td>3</td>\n",
       "      <td>2.73</td>\n",
       "      <td>3</td>\n",
       "      <td>no</td>\n",
       "    </tr>\n",
       "  </tbody>\n",
       "</table>\n",
       "<p>5 rows × 21 columns</p>\n",
       "</div>"
      ],
      "text/plain": [
       "   Unnamed: 0 state  account_length      area_code international_plan  \\\n",
       "0           1    KS             128  area_code_415                 no   \n",
       "1           2    OH             107  area_code_415                 no   \n",
       "2           3    NJ             137  area_code_415                 no   \n",
       "3           4    OH              84  area_code_408                yes   \n",
       "4           5    OK              75  area_code_415                yes   \n",
       "\n",
       "  voice_mail_plan  number_vmail_messages  total_day_minutes  total_day_calls  \\\n",
       "0             yes                     25              265.1              110   \n",
       "1             yes                     26              161.6              123   \n",
       "2              no                      0              243.4              114   \n",
       "3              no                      0              299.4               71   \n",
       "4              no                      0              166.7              113   \n",
       "\n",
       "   total_day_charge  ...  total_eve_calls  total_eve_charge  \\\n",
       "0             45.07  ...               99             16.78   \n",
       "1             27.47  ...              103             16.62   \n",
       "2             41.38  ...              110             10.30   \n",
       "3             50.90  ...               88              5.26   \n",
       "4             28.34  ...              122             12.61   \n",
       "\n",
       "   total_night_minutes  total_night_calls  total_night_charge  \\\n",
       "0                244.7                 91               11.01   \n",
       "1                254.4                103               11.45   \n",
       "2                162.6                104                7.32   \n",
       "3                196.9                 89                8.86   \n",
       "4                186.9                121                8.41   \n",
       "\n",
       "   total_intl_minutes  total_intl_calls  total_intl_charge  \\\n",
       "0                10.0                 3               2.70   \n",
       "1                13.7                 3               3.70   \n",
       "2                12.2                 5               3.29   \n",
       "3                 6.6                 7               1.78   \n",
       "4                10.1                 3               2.73   \n",
       "\n",
       "   number_customer_service_calls  churn  \n",
       "0                              1     no  \n",
       "1                              1     no  \n",
       "2                              0     no  \n",
       "3                              2     no  \n",
       "4                              3     no  \n",
       "\n",
       "[5 rows x 21 columns]"
      ]
     },
     "execution_count": 3,
     "metadata": {},
     "output_type": "execute_result"
    }
   ],
   "source": [
    "# import dos dados de treino\n",
    "train = pd.read_csv('projeto4_telecom_treino.csv')\n",
    "train.head()"
   ]
  },
  {
   "cell_type": "code",
   "execution_count": 4,
   "metadata": {},
   "outputs": [
    {
     "data": {
      "text/html": [
       "<div>\n",
       "<style scoped>\n",
       "    .dataframe tbody tr th:only-of-type {\n",
       "        vertical-align: middle;\n",
       "    }\n",
       "\n",
       "    .dataframe tbody tr th {\n",
       "        vertical-align: top;\n",
       "    }\n",
       "\n",
       "    .dataframe thead th {\n",
       "        text-align: right;\n",
       "    }\n",
       "</style>\n",
       "<table border=\"1\" class=\"dataframe\">\n",
       "  <thead>\n",
       "    <tr style=\"text-align: right;\">\n",
       "      <th></th>\n",
       "      <th>Unnamed: 0</th>\n",
       "      <th>state</th>\n",
       "      <th>account_length</th>\n",
       "      <th>area_code</th>\n",
       "      <th>international_plan</th>\n",
       "      <th>voice_mail_plan</th>\n",
       "      <th>number_vmail_messages</th>\n",
       "      <th>total_day_minutes</th>\n",
       "      <th>total_day_calls</th>\n",
       "      <th>total_day_charge</th>\n",
       "      <th>...</th>\n",
       "      <th>total_eve_calls</th>\n",
       "      <th>total_eve_charge</th>\n",
       "      <th>total_night_minutes</th>\n",
       "      <th>total_night_calls</th>\n",
       "      <th>total_night_charge</th>\n",
       "      <th>total_intl_minutes</th>\n",
       "      <th>total_intl_calls</th>\n",
       "      <th>total_intl_charge</th>\n",
       "      <th>number_customer_service_calls</th>\n",
       "      <th>churn</th>\n",
       "    </tr>\n",
       "  </thead>\n",
       "  <tbody>\n",
       "    <tr>\n",
       "      <th>0</th>\n",
       "      <td>1</td>\n",
       "      <td>HI</td>\n",
       "      <td>101</td>\n",
       "      <td>area_code_510</td>\n",
       "      <td>no</td>\n",
       "      <td>no</td>\n",
       "      <td>0</td>\n",
       "      <td>70.9</td>\n",
       "      <td>123</td>\n",
       "      <td>12.05</td>\n",
       "      <td>...</td>\n",
       "      <td>73</td>\n",
       "      <td>18.01</td>\n",
       "      <td>236.0</td>\n",
       "      <td>73</td>\n",
       "      <td>10.62</td>\n",
       "      <td>10.6</td>\n",
       "      <td>3</td>\n",
       "      <td>2.86</td>\n",
       "      <td>3</td>\n",
       "      <td>no</td>\n",
       "    </tr>\n",
       "    <tr>\n",
       "      <th>1</th>\n",
       "      <td>2</td>\n",
       "      <td>MT</td>\n",
       "      <td>137</td>\n",
       "      <td>area_code_510</td>\n",
       "      <td>no</td>\n",
       "      <td>no</td>\n",
       "      <td>0</td>\n",
       "      <td>223.6</td>\n",
       "      <td>86</td>\n",
       "      <td>38.01</td>\n",
       "      <td>...</td>\n",
       "      <td>139</td>\n",
       "      <td>20.81</td>\n",
       "      <td>94.2</td>\n",
       "      <td>81</td>\n",
       "      <td>4.24</td>\n",
       "      <td>9.5</td>\n",
       "      <td>7</td>\n",
       "      <td>2.57</td>\n",
       "      <td>0</td>\n",
       "      <td>no</td>\n",
       "    </tr>\n",
       "    <tr>\n",
       "      <th>2</th>\n",
       "      <td>3</td>\n",
       "      <td>OH</td>\n",
       "      <td>103</td>\n",
       "      <td>area_code_408</td>\n",
       "      <td>no</td>\n",
       "      <td>yes</td>\n",
       "      <td>29</td>\n",
       "      <td>294.7</td>\n",
       "      <td>95</td>\n",
       "      <td>50.10</td>\n",
       "      <td>...</td>\n",
       "      <td>105</td>\n",
       "      <td>20.17</td>\n",
       "      <td>300.3</td>\n",
       "      <td>127</td>\n",
       "      <td>13.51</td>\n",
       "      <td>13.7</td>\n",
       "      <td>6</td>\n",
       "      <td>3.70</td>\n",
       "      <td>1</td>\n",
       "      <td>no</td>\n",
       "    </tr>\n",
       "    <tr>\n",
       "      <th>3</th>\n",
       "      <td>4</td>\n",
       "      <td>NM</td>\n",
       "      <td>99</td>\n",
       "      <td>area_code_415</td>\n",
       "      <td>no</td>\n",
       "      <td>no</td>\n",
       "      <td>0</td>\n",
       "      <td>216.8</td>\n",
       "      <td>123</td>\n",
       "      <td>36.86</td>\n",
       "      <td>...</td>\n",
       "      <td>88</td>\n",
       "      <td>10.74</td>\n",
       "      <td>220.6</td>\n",
       "      <td>82</td>\n",
       "      <td>9.93</td>\n",
       "      <td>15.7</td>\n",
       "      <td>2</td>\n",
       "      <td>4.24</td>\n",
       "      <td>1</td>\n",
       "      <td>no</td>\n",
       "    </tr>\n",
       "    <tr>\n",
       "      <th>4</th>\n",
       "      <td>5</td>\n",
       "      <td>SC</td>\n",
       "      <td>108</td>\n",
       "      <td>area_code_415</td>\n",
       "      <td>no</td>\n",
       "      <td>no</td>\n",
       "      <td>0</td>\n",
       "      <td>197.4</td>\n",
       "      <td>78</td>\n",
       "      <td>33.56</td>\n",
       "      <td>...</td>\n",
       "      <td>101</td>\n",
       "      <td>10.54</td>\n",
       "      <td>204.5</td>\n",
       "      <td>107</td>\n",
       "      <td>9.20</td>\n",
       "      <td>7.7</td>\n",
       "      <td>4</td>\n",
       "      <td>2.08</td>\n",
       "      <td>2</td>\n",
       "      <td>no</td>\n",
       "    </tr>\n",
       "  </tbody>\n",
       "</table>\n",
       "<p>5 rows × 21 columns</p>\n",
       "</div>"
      ],
      "text/plain": [
       "   Unnamed: 0 state  account_length      area_code international_plan  \\\n",
       "0           1    HI             101  area_code_510                 no   \n",
       "1           2    MT             137  area_code_510                 no   \n",
       "2           3    OH             103  area_code_408                 no   \n",
       "3           4    NM              99  area_code_415                 no   \n",
       "4           5    SC             108  area_code_415                 no   \n",
       "\n",
       "  voice_mail_plan  number_vmail_messages  total_day_minutes  total_day_calls  \\\n",
       "0              no                      0               70.9              123   \n",
       "1              no                      0              223.6               86   \n",
       "2             yes                     29              294.7               95   \n",
       "3              no                      0              216.8              123   \n",
       "4              no                      0              197.4               78   \n",
       "\n",
       "   total_day_charge  ...  total_eve_calls  total_eve_charge  \\\n",
       "0             12.05  ...               73             18.01   \n",
       "1             38.01  ...              139             20.81   \n",
       "2             50.10  ...              105             20.17   \n",
       "3             36.86  ...               88             10.74   \n",
       "4             33.56  ...              101             10.54   \n",
       "\n",
       "   total_night_minutes  total_night_calls  total_night_charge  \\\n",
       "0                236.0                 73               10.62   \n",
       "1                 94.2                 81                4.24   \n",
       "2                300.3                127               13.51   \n",
       "3                220.6                 82                9.93   \n",
       "4                204.5                107                9.20   \n",
       "\n",
       "   total_intl_minutes  total_intl_calls  total_intl_charge  \\\n",
       "0                10.6                 3               2.86   \n",
       "1                 9.5                 7               2.57   \n",
       "2                13.7                 6               3.70   \n",
       "3                15.7                 2               4.24   \n",
       "4                 7.7                 4               2.08   \n",
       "\n",
       "   number_customer_service_calls  churn  \n",
       "0                              3     no  \n",
       "1                              0     no  \n",
       "2                              1     no  \n",
       "3                              1     no  \n",
       "4                              2     no  \n",
       "\n",
       "[5 rows x 21 columns]"
      ]
     },
     "execution_count": 4,
     "metadata": {},
     "output_type": "execute_result"
    }
   ],
   "source": [
    "# import dos dados de teste\n",
    "test = pd.read_csv('projeto4_telecom_teste.csv')\n",
    "test.head()"
   ]
  },
  {
   "cell_type": "code",
   "execution_count": 5,
   "metadata": {},
   "outputs": [],
   "source": [
    "# informações sobre o dataset de treino. não há missing values."
   ]
  },
  {
   "cell_type": "markdown",
   "metadata": {},
   "source": [
    "O dataset de treino possui **21 colunas** e **3333 linhas**, sendo que uma dessas colunas não representa nenhuma informação."
   ]
  },
  {
   "cell_type": "code",
   "execution_count": 6,
   "metadata": {},
   "outputs": [
    {
     "name": "stdout",
     "output_type": "stream",
     "text": [
      "<class 'pandas.core.frame.DataFrame'>\n",
      "RangeIndex: 1667 entries, 0 to 1666\n",
      "Data columns (total 21 columns):\n",
      " #   Column                         Non-Null Count  Dtype  \n",
      "---  ------                         --------------  -----  \n",
      " 0   Unnamed: 0                     1667 non-null   int64  \n",
      " 1   state                          1667 non-null   object \n",
      " 2   account_length                 1667 non-null   int64  \n",
      " 3   area_code                      1667 non-null   object \n",
      " 4   international_plan             1667 non-null   object \n",
      " 5   voice_mail_plan                1667 non-null   object \n",
      " 6   number_vmail_messages          1667 non-null   int64  \n",
      " 7   total_day_minutes              1667 non-null   float64\n",
      " 8   total_day_calls                1667 non-null   int64  \n",
      " 9   total_day_charge               1667 non-null   float64\n",
      " 10  total_eve_minutes              1667 non-null   float64\n",
      " 11  total_eve_calls                1667 non-null   int64  \n",
      " 12  total_eve_charge               1667 non-null   float64\n",
      " 13  total_night_minutes            1667 non-null   float64\n",
      " 14  total_night_calls              1667 non-null   int64  \n",
      " 15  total_night_charge             1667 non-null   float64\n",
      " 16  total_intl_minutes             1667 non-null   float64\n",
      " 17  total_intl_calls               1667 non-null   int64  \n",
      " 18  total_intl_charge              1667 non-null   float64\n",
      " 19  number_customer_service_calls  1667 non-null   int64  \n",
      " 20  churn                          1667 non-null   object \n",
      "dtypes: float64(8), int64(8), object(5)\n",
      "memory usage: 273.6+ KB\n"
     ]
    }
   ],
   "source": [
    "# informações sobre o dataset de teste. não há missing values.\n",
    "test.info()"
   ]
  },
  {
   "cell_type": "markdown",
   "metadata": {},
   "source": [
    "O dataset de teste possui a mesma quantidade de colunas do dataset de treino e **1667** linhas. Similar ao dataset de treino, o dataset de teste possui uma coluna que não apresenta nenhuma informação."
   ]
  },
  {
   "cell_type": "code",
   "execution_count": 7,
   "metadata": {},
   "outputs": [],
   "source": [
    "# excluindo a coluna 'Unnamed: 0'\n",
    "del train['Unnamed: 0']\n",
    "del test['Unnamed: 0']"
   ]
  },
  {
   "cell_type": "markdown",
   "metadata": {},
   "source": [
    "A coluna \"area_code\" une informação em texto e informação numéria. Iremos extrair a informação relevante, que nesse caso é a numéria e eliminar o texto."
   ]
  },
  {
   "cell_type": "code",
   "execution_count": 8,
   "metadata": {},
   "outputs": [],
   "source": [
    "# extraindo da coluna 'area_code' apenas o códio da área\n",
    "train.area_code = train.area_code.str.split('_', n = 2, expand = True)[2]\n",
    "test.area_code  = test.area_code.str.split('_',  n = 2, expand = True)[2]"
   ]
  },
  {
   "cell_type": "code",
   "execution_count": 9,
   "metadata": {
    "scrolled": true
   },
   "outputs": [
    {
     "data": {
      "text/html": [
       "<div>\n",
       "<style scoped>\n",
       "    .dataframe tbody tr th:only-of-type {\n",
       "        vertical-align: middle;\n",
       "    }\n",
       "\n",
       "    .dataframe tbody tr th {\n",
       "        vertical-align: top;\n",
       "    }\n",
       "\n",
       "    .dataframe thead th {\n",
       "        text-align: right;\n",
       "    }\n",
       "</style>\n",
       "<table border=\"1\" class=\"dataframe\">\n",
       "  <thead>\n",
       "    <tr style=\"text-align: right;\">\n",
       "      <th></th>\n",
       "      <th>state</th>\n",
       "      <th>account_length</th>\n",
       "      <th>area_code</th>\n",
       "      <th>international_plan</th>\n",
       "      <th>voice_mail_plan</th>\n",
       "      <th>number_vmail_messages</th>\n",
       "      <th>total_day_minutes</th>\n",
       "      <th>total_day_calls</th>\n",
       "      <th>total_day_charge</th>\n",
       "      <th>total_eve_minutes</th>\n",
       "      <th>total_eve_calls</th>\n",
       "      <th>total_eve_charge</th>\n",
       "      <th>total_night_minutes</th>\n",
       "      <th>total_night_calls</th>\n",
       "      <th>total_night_charge</th>\n",
       "      <th>total_intl_minutes</th>\n",
       "      <th>total_intl_calls</th>\n",
       "      <th>total_intl_charge</th>\n",
       "      <th>number_customer_service_calls</th>\n",
       "      <th>churn</th>\n",
       "    </tr>\n",
       "  </thead>\n",
       "  <tbody>\n",
       "    <tr>\n",
       "      <th>0</th>\n",
       "      <td>KS</td>\n",
       "      <td>128</td>\n",
       "      <td>415</td>\n",
       "      <td>no</td>\n",
       "      <td>yes</td>\n",
       "      <td>25</td>\n",
       "      <td>265.1</td>\n",
       "      <td>110</td>\n",
       "      <td>45.07</td>\n",
       "      <td>197.4</td>\n",
       "      <td>99</td>\n",
       "      <td>16.78</td>\n",
       "      <td>244.7</td>\n",
       "      <td>91</td>\n",
       "      <td>11.01</td>\n",
       "      <td>10.0</td>\n",
       "      <td>3</td>\n",
       "      <td>2.70</td>\n",
       "      <td>1</td>\n",
       "      <td>no</td>\n",
       "    </tr>\n",
       "    <tr>\n",
       "      <th>1</th>\n",
       "      <td>OH</td>\n",
       "      <td>107</td>\n",
       "      <td>415</td>\n",
       "      <td>no</td>\n",
       "      <td>yes</td>\n",
       "      <td>26</td>\n",
       "      <td>161.6</td>\n",
       "      <td>123</td>\n",
       "      <td>27.47</td>\n",
       "      <td>195.5</td>\n",
       "      <td>103</td>\n",
       "      <td>16.62</td>\n",
       "      <td>254.4</td>\n",
       "      <td>103</td>\n",
       "      <td>11.45</td>\n",
       "      <td>13.7</td>\n",
       "      <td>3</td>\n",
       "      <td>3.70</td>\n",
       "      <td>1</td>\n",
       "      <td>no</td>\n",
       "    </tr>\n",
       "    <tr>\n",
       "      <th>2</th>\n",
       "      <td>NJ</td>\n",
       "      <td>137</td>\n",
       "      <td>415</td>\n",
       "      <td>no</td>\n",
       "      <td>no</td>\n",
       "      <td>0</td>\n",
       "      <td>243.4</td>\n",
       "      <td>114</td>\n",
       "      <td>41.38</td>\n",
       "      <td>121.2</td>\n",
       "      <td>110</td>\n",
       "      <td>10.30</td>\n",
       "      <td>162.6</td>\n",
       "      <td>104</td>\n",
       "      <td>7.32</td>\n",
       "      <td>12.2</td>\n",
       "      <td>5</td>\n",
       "      <td>3.29</td>\n",
       "      <td>0</td>\n",
       "      <td>no</td>\n",
       "    </tr>\n",
       "    <tr>\n",
       "      <th>3</th>\n",
       "      <td>OH</td>\n",
       "      <td>84</td>\n",
       "      <td>408</td>\n",
       "      <td>yes</td>\n",
       "      <td>no</td>\n",
       "      <td>0</td>\n",
       "      <td>299.4</td>\n",
       "      <td>71</td>\n",
       "      <td>50.90</td>\n",
       "      <td>61.9</td>\n",
       "      <td>88</td>\n",
       "      <td>5.26</td>\n",
       "      <td>196.9</td>\n",
       "      <td>89</td>\n",
       "      <td>8.86</td>\n",
       "      <td>6.6</td>\n",
       "      <td>7</td>\n",
       "      <td>1.78</td>\n",
       "      <td>2</td>\n",
       "      <td>no</td>\n",
       "    </tr>\n",
       "    <tr>\n",
       "      <th>4</th>\n",
       "      <td>OK</td>\n",
       "      <td>75</td>\n",
       "      <td>415</td>\n",
       "      <td>yes</td>\n",
       "      <td>no</td>\n",
       "      <td>0</td>\n",
       "      <td>166.7</td>\n",
       "      <td>113</td>\n",
       "      <td>28.34</td>\n",
       "      <td>148.3</td>\n",
       "      <td>122</td>\n",
       "      <td>12.61</td>\n",
       "      <td>186.9</td>\n",
       "      <td>121</td>\n",
       "      <td>8.41</td>\n",
       "      <td>10.1</td>\n",
       "      <td>3</td>\n",
       "      <td>2.73</td>\n",
       "      <td>3</td>\n",
       "      <td>no</td>\n",
       "    </tr>\n",
       "  </tbody>\n",
       "</table>\n",
       "</div>"
      ],
      "text/plain": [
       "  state  account_length area_code international_plan voice_mail_plan  \\\n",
       "0    KS             128       415                 no             yes   \n",
       "1    OH             107       415                 no             yes   \n",
       "2    NJ             137       415                 no              no   \n",
       "3    OH              84       408                yes              no   \n",
       "4    OK              75       415                yes              no   \n",
       "\n",
       "   number_vmail_messages  total_day_minutes  total_day_calls  \\\n",
       "0                     25              265.1              110   \n",
       "1                     26              161.6              123   \n",
       "2                      0              243.4              114   \n",
       "3                      0              299.4               71   \n",
       "4                      0              166.7              113   \n",
       "\n",
       "   total_day_charge  total_eve_minutes  total_eve_calls  total_eve_charge  \\\n",
       "0             45.07              197.4               99             16.78   \n",
       "1             27.47              195.5              103             16.62   \n",
       "2             41.38              121.2              110             10.30   \n",
       "3             50.90               61.9               88              5.26   \n",
       "4             28.34              148.3              122             12.61   \n",
       "\n",
       "   total_night_minutes  total_night_calls  total_night_charge  \\\n",
       "0                244.7                 91               11.01   \n",
       "1                254.4                103               11.45   \n",
       "2                162.6                104                7.32   \n",
       "3                196.9                 89                8.86   \n",
       "4                186.9                121                8.41   \n",
       "\n",
       "   total_intl_minutes  total_intl_calls  total_intl_charge  \\\n",
       "0                10.0                 3               2.70   \n",
       "1                13.7                 3               3.70   \n",
       "2                12.2                 5               3.29   \n",
       "3                 6.6                 7               1.78   \n",
       "4                10.1                 3               2.73   \n",
       "\n",
       "   number_customer_service_calls churn  \n",
       "0                              1    no  \n",
       "1                              1    no  \n",
       "2                              0    no  \n",
       "3                              2    no  \n",
       "4                              3    no  "
      ]
     },
     "execution_count": 9,
     "metadata": {},
     "output_type": "execute_result"
    }
   ],
   "source": [
    "# primeiras linhas do dataset de treino\n",
    "train.head()"
   ]
  },
  {
   "cell_type": "code",
   "execution_count": 10,
   "metadata": {},
   "outputs": [
    {
     "data": {
      "text/html": [
       "<div>\n",
       "<style scoped>\n",
       "    .dataframe tbody tr th:only-of-type {\n",
       "        vertical-align: middle;\n",
       "    }\n",
       "\n",
       "    .dataframe tbody tr th {\n",
       "        vertical-align: top;\n",
       "    }\n",
       "\n",
       "    .dataframe thead th {\n",
       "        text-align: right;\n",
       "    }\n",
       "</style>\n",
       "<table border=\"1\" class=\"dataframe\">\n",
       "  <thead>\n",
       "    <tr style=\"text-align: right;\">\n",
       "      <th></th>\n",
       "      <th>state</th>\n",
       "      <th>account_length</th>\n",
       "      <th>area_code</th>\n",
       "      <th>international_plan</th>\n",
       "      <th>voice_mail_plan</th>\n",
       "      <th>number_vmail_messages</th>\n",
       "      <th>total_day_minutes</th>\n",
       "      <th>total_day_calls</th>\n",
       "      <th>total_day_charge</th>\n",
       "      <th>total_eve_minutes</th>\n",
       "      <th>total_eve_calls</th>\n",
       "      <th>total_eve_charge</th>\n",
       "      <th>total_night_minutes</th>\n",
       "      <th>total_night_calls</th>\n",
       "      <th>total_night_charge</th>\n",
       "      <th>total_intl_minutes</th>\n",
       "      <th>total_intl_calls</th>\n",
       "      <th>total_intl_charge</th>\n",
       "      <th>number_customer_service_calls</th>\n",
       "      <th>churn</th>\n",
       "    </tr>\n",
       "  </thead>\n",
       "  <tbody>\n",
       "    <tr>\n",
       "      <th>0</th>\n",
       "      <td>HI</td>\n",
       "      <td>101</td>\n",
       "      <td>510</td>\n",
       "      <td>no</td>\n",
       "      <td>no</td>\n",
       "      <td>0</td>\n",
       "      <td>70.9</td>\n",
       "      <td>123</td>\n",
       "      <td>12.05</td>\n",
       "      <td>211.9</td>\n",
       "      <td>73</td>\n",
       "      <td>18.01</td>\n",
       "      <td>236.0</td>\n",
       "      <td>73</td>\n",
       "      <td>10.62</td>\n",
       "      <td>10.6</td>\n",
       "      <td>3</td>\n",
       "      <td>2.86</td>\n",
       "      <td>3</td>\n",
       "      <td>no</td>\n",
       "    </tr>\n",
       "    <tr>\n",
       "      <th>1</th>\n",
       "      <td>MT</td>\n",
       "      <td>137</td>\n",
       "      <td>510</td>\n",
       "      <td>no</td>\n",
       "      <td>no</td>\n",
       "      <td>0</td>\n",
       "      <td>223.6</td>\n",
       "      <td>86</td>\n",
       "      <td>38.01</td>\n",
       "      <td>244.8</td>\n",
       "      <td>139</td>\n",
       "      <td>20.81</td>\n",
       "      <td>94.2</td>\n",
       "      <td>81</td>\n",
       "      <td>4.24</td>\n",
       "      <td>9.5</td>\n",
       "      <td>7</td>\n",
       "      <td>2.57</td>\n",
       "      <td>0</td>\n",
       "      <td>no</td>\n",
       "    </tr>\n",
       "    <tr>\n",
       "      <th>2</th>\n",
       "      <td>OH</td>\n",
       "      <td>103</td>\n",
       "      <td>408</td>\n",
       "      <td>no</td>\n",
       "      <td>yes</td>\n",
       "      <td>29</td>\n",
       "      <td>294.7</td>\n",
       "      <td>95</td>\n",
       "      <td>50.10</td>\n",
       "      <td>237.3</td>\n",
       "      <td>105</td>\n",
       "      <td>20.17</td>\n",
       "      <td>300.3</td>\n",
       "      <td>127</td>\n",
       "      <td>13.51</td>\n",
       "      <td>13.7</td>\n",
       "      <td>6</td>\n",
       "      <td>3.70</td>\n",
       "      <td>1</td>\n",
       "      <td>no</td>\n",
       "    </tr>\n",
       "    <tr>\n",
       "      <th>3</th>\n",
       "      <td>NM</td>\n",
       "      <td>99</td>\n",
       "      <td>415</td>\n",
       "      <td>no</td>\n",
       "      <td>no</td>\n",
       "      <td>0</td>\n",
       "      <td>216.8</td>\n",
       "      <td>123</td>\n",
       "      <td>36.86</td>\n",
       "      <td>126.4</td>\n",
       "      <td>88</td>\n",
       "      <td>10.74</td>\n",
       "      <td>220.6</td>\n",
       "      <td>82</td>\n",
       "      <td>9.93</td>\n",
       "      <td>15.7</td>\n",
       "      <td>2</td>\n",
       "      <td>4.24</td>\n",
       "      <td>1</td>\n",
       "      <td>no</td>\n",
       "    </tr>\n",
       "    <tr>\n",
       "      <th>4</th>\n",
       "      <td>SC</td>\n",
       "      <td>108</td>\n",
       "      <td>415</td>\n",
       "      <td>no</td>\n",
       "      <td>no</td>\n",
       "      <td>0</td>\n",
       "      <td>197.4</td>\n",
       "      <td>78</td>\n",
       "      <td>33.56</td>\n",
       "      <td>124.0</td>\n",
       "      <td>101</td>\n",
       "      <td>10.54</td>\n",
       "      <td>204.5</td>\n",
       "      <td>107</td>\n",
       "      <td>9.20</td>\n",
       "      <td>7.7</td>\n",
       "      <td>4</td>\n",
       "      <td>2.08</td>\n",
       "      <td>2</td>\n",
       "      <td>no</td>\n",
       "    </tr>\n",
       "  </tbody>\n",
       "</table>\n",
       "</div>"
      ],
      "text/plain": [
       "  state  account_length area_code international_plan voice_mail_plan  \\\n",
       "0    HI             101       510                 no              no   \n",
       "1    MT             137       510                 no              no   \n",
       "2    OH             103       408                 no             yes   \n",
       "3    NM              99       415                 no              no   \n",
       "4    SC             108       415                 no              no   \n",
       "\n",
       "   number_vmail_messages  total_day_minutes  total_day_calls  \\\n",
       "0                      0               70.9              123   \n",
       "1                      0              223.6               86   \n",
       "2                     29              294.7               95   \n",
       "3                      0              216.8              123   \n",
       "4                      0              197.4               78   \n",
       "\n",
       "   total_day_charge  total_eve_minutes  total_eve_calls  total_eve_charge  \\\n",
       "0             12.05              211.9               73             18.01   \n",
       "1             38.01              244.8              139             20.81   \n",
       "2             50.10              237.3              105             20.17   \n",
       "3             36.86              126.4               88             10.74   \n",
       "4             33.56              124.0              101             10.54   \n",
       "\n",
       "   total_night_minutes  total_night_calls  total_night_charge  \\\n",
       "0                236.0                 73               10.62   \n",
       "1                 94.2                 81                4.24   \n",
       "2                300.3                127               13.51   \n",
       "3                220.6                 82                9.93   \n",
       "4                204.5                107                9.20   \n",
       "\n",
       "   total_intl_minutes  total_intl_calls  total_intl_charge  \\\n",
       "0                10.6                 3               2.86   \n",
       "1                 9.5                 7               2.57   \n",
       "2                13.7                 6               3.70   \n",
       "3                15.7                 2               4.24   \n",
       "4                 7.7                 4               2.08   \n",
       "\n",
       "   number_customer_service_calls churn  \n",
       "0                              3    no  \n",
       "1                              0    no  \n",
       "2                              1    no  \n",
       "3                              1    no  \n",
       "4                              2    no  "
      ]
     },
     "execution_count": 10,
     "metadata": {},
     "output_type": "execute_result"
    }
   ],
   "source": [
    "# primeiras linhas do dataset de teste\n",
    "test.head()"
   ]
  },
  {
   "cell_type": "markdown",
   "metadata": {},
   "source": [
    "## 4.2 Uso dos Serviços por Estado"
   ]
  },
  {
   "cell_type": "markdown",
   "metadata": {},
   "source": [
    "Foi extraido as colunas que possuem valores numéricos, e criado um novo dataframe, para cada coluna, com as médias de cada coluna e agrupado por estado. A intenção com isso é descobrir quais os estados onde estão os clientes que mais utilizam os serviços da operadora e os estados que menos utilizam os serviços da operado."
   ]
  },
  {
   "cell_type": "code",
   "execution_count": 11,
   "metadata": {},
   "outputs": [
    {
     "data": {
      "image/png": "[encoded data removed]",
      "text/plain": [
       "<Figure size 1080x576 with 1 Axes>"
      ]
     },
     "metadata": {
      "needs_background": "light"
     },
     "output_type": "display_data"
    }
   ],
   "source": [
    "# contabilizando a frequência dos estados no dataset\n",
    "state_count = pd.DataFrame(train.state.value_counts()).reset_index()\n",
    "\n",
    "# plotando o resultado\n",
    "plt.figure(figsize = (15, 8))\n",
    "sns.barplot(data = state_count, x = 'index', y = 'state', palette = 'rocket')\n",
    "plt.show()"
   ]
  },
  {
   "cell_type": "markdown",
   "metadata": {},
   "source": [
    "O estado de **West Virgina** é o estado com maior número de clientes presente no dataset, enquanto o estado da **California** é  o que possui menos."
   ]
  },
  {
   "cell_type": "code",
   "execution_count": 12,
   "metadata": {
    "scrolled": true
   },
   "outputs": [
    {
     "data": {
      "image/png": "[encoded data removed]",
      "text/plain": [
       "<Figure size 720x432 with 1 Axes>"
      ]
     },
     "metadata": {
      "needs_background": "light"
     },
     "output_type": "display_data"
    },
    {
     "data": {
      "image/png": "[encoded data removed]",
      "text/plain": [
       "<Figure size 720x432 with 1 Axes>"
      ]
     },
     "metadata": {
      "needs_background": "light"
     },
     "output_type": "display_data"
    },
    {
     "data": {
      "image/png": "[encoded data removed]",
      "text/plain": [
       "<Figure size 720x432 with 1 Axes>"
      ]
     },
     "metadata": {
      "needs_background": "light"
     },
     "output_type": "display_data"
    },
    {
     "data": {
      "image/png": "[encoded data removed]",
      "text/plain": [
       "<Figure size 720x432 with 1 Axes>"
      ]
     },
     "metadata": {
      "needs_background": "light"
     },
     "output_type": "display_data"
    },
    {
     "data": {
      "image/png": "[encoded data removed]",
      "text/plain": [
       "<Figure size 720x432 with 1 Axes>"
      ]
     },
     "metadata": {
      "needs_background": "light"
     },
     "output_type": "display_data"
    },
    {
     "data": {
      "image/png": "[encoded data removed]",
      "text/plain": [
       "<Figure size 720x432 with 1 Axes>"
      ]
     },
     "metadata": {
      "needs_background": "light"
     },
     "output_type": "display_data"
    },
    {
     "data": {
      "image/png": "[encoded data removed]",
      "text/plain": [
       "<Figure size 720x432 with 1 Axes>"
      ]
     },
     "metadata": {
      "needs_background": "light"
     },
     "output_type": "display_data"
    },
    {
     "data": {
      "image/png": "[encoded data removed]",
      "text/plain": [
       "<Figure size 720x432 with 1 Axes>"
      ]
     },
     "metadata": {
      "needs_background": "light"
     },
     "output_type": "display_data"
    },
    {
     "data": {
      "image/png": "[encoded data removed]",
      "text/plain": [
       "<Figure size 720x432 with 1 Axes>"
      ]
     },
     "metadata": {
      "needs_background": "light"
     },
     "output_type": "display_data"
    },
    {
     "data": {
      "image/png": "[encoded data removed]",
      "text/plain": [
       "<Figure size 720x432 with 1 Axes>"
      ]
     },
     "metadata": {
      "needs_background": "light"
     },
     "output_type": "display_data"
    },
    {
     "data": {
      "image/png": "[encoded data removed]",
      "text/plain": [
       "<Figure size 720x432 with 1 Axes>"
      ]
     },
     "metadata": {
      "needs_background": "light"
     },
     "output_type": "display_data"
    },
    {
     "data": {
      "image/png": "[encoded data removed]",
      "text/plain": [
       "<Figure size 720x432 with 1 Axes>"
      ]
     },
     "metadata": {
      "needs_background": "light"
     },
     "output_type": "display_data"
    },
    {
     "data": {
      "image/png": "[encoded data removed]",
      "text/plain": [
       "<Figure size 720x432 with 1 Axes>"
      ]
     },
     "metadata": {
      "needs_background": "light"
     },
     "output_type": "display_data"
    },
    {
     "data": {
      "image/png": "[encoded data removed]",
      "text/plain": [
       "<Figure size 720x432 with 1 Axes>"
      ]
     },
     "metadata": {
      "needs_background": "light"
     },
     "output_type": "display_data"
    },
    {
     "data": {
      "image/png": "[encoded data removed]",
      "text/plain": [
       "<Figure size 720x432 with 1 Axes>"
      ]
     },
     "metadata": {
      "needs_background": "light"
     },
     "output_type": "display_data"
    }
   ],
   "source": [
    "# extraindo o nome das colunas que possuem valores numéricos\n",
    "num_cols = [col for col in train.columns if (train[col].dtype != 'object')]\n",
    "\n",
    "# criando um dataframe\n",
    "state_most_freq = pd.DataFrame()\n",
    "state_less_freq = pd.DataFrame()\n",
    "\n",
    "# loop para calcular a média por estado para todas as variáveis numéricas e gerando gráficos.\n",
    "for col in num_cols:\n",
    "    \n",
    "    # dataframe com a média da coluna numperica por estado\n",
    "    df         = train[['state', col]].groupby('state', as_index = False).mean().sort_values(col, ascending = False)\n",
    "    mean       = round(df[col].mean(), 3)\n",
    "    std        = round(df[col].std(),  3)\n",
    "    \n",
    "    # adicionando ao dataframe os 5 com maiores médias\n",
    "    state_most_freq = state_most_freq.append(list(df.state.head().values))\n",
    "    \n",
    "    # adicionando ao dataframe os 5 com menores médias\n",
    "    state_less_freq = state_less_freq.append(list(df.state.tail().values))\n",
    "    \n",
    "    # plotando o gráfico\n",
    "    plt.figure(figsize = (10, 6))\n",
    "    sns.barplot(x = 'state', y = col, data = df, palette = 'viridis')\n",
    "    plt.title('Média das médias: {}. Desvio padrão das médias: {}.'.format(mean, std))\n",
    "    plt.xticks(rotation = 90)\n",
    "    plt.show()\n",
    "\n",
    "# contabilizando a frequência dos estados que mais apareceram entre os cinco com maiores médias\n",
    "state_most_freq = pd.DataFrame(state_most_freq[0].value_counts())\n",
    "state_most_freq.columns = ['frequencia']\n",
    "\n",
    "# contabilizando a frequência dos estados que menos apareceram entre os cinco com menores médias\n",
    "state_less_freq = pd.DataFrame(state_less_freq[0].value_counts())\n",
    "state_less_freq.columns = ['frequencia']"
   ]
  },
  {
   "cell_type": "markdown",
   "metadata": {},
   "source": [
    "Os estados que apareceram mais vezes entre as cinco **maiores** médias:\n",
    "\n",
    "* IN: Indiana\n",
    "* KS: Kansas\n",
    "* MD: Maryland\n",
    "* FL: Florida\n",
    "* TN: Tennessee\n",
    "\n",
    "Os estados que apareceram mais vezes entre as cinco **menores** médias:\n",
    "\n",
    "* AK: Alaska\n",
    "* IA: Iowa\n",
    "* DC: District of Columbia\n",
    "* CO: Colorado\n",
    "* WA: Washington"
   ]
  },
  {
   "cell_type": "code",
   "execution_count": 13,
   "metadata": {
    "scrolled": false
   },
   "outputs": [
    {
     "data": {
      "image/png": "[encoded data removed]",
      "text/plain": [
       "<Figure size 720x432 with 2 Axes>"
      ]
     },
     "metadata": {
      "needs_background": "light"
     },
     "output_type": "display_data"
    }
   ],
   "source": [
    "# gráfico com as frequências\n",
    "plt.figure(figsize = (10, 6))\n",
    "\n",
    "plt.subplot(1, 2, 1)\n",
    "sns.barplot(x = state_most_freq[0:5].index, y = 'frequencia', palette = 'rocket', data = state_most_freq[0:5])\n",
    "plt.title('Frequência Entre as Maiores Médias')\n",
    "\n",
    "plt.subplot(1, 2, 2)\n",
    "sns.barplot(x = state_less_freq[0:5].index, y = 'frequencia', palette = 'rocket', data = state_less_freq[0:5])\n",
    "plt.title('Frequência Entre as Menores Médias')\n",
    "\n",
    "plt.show()"
   ]
  },
  {
   "cell_type": "code",
   "execution_count": 14,
   "metadata": {},
   "outputs": [
    {
     "data": {
      "image/png": "[encoded data removed]",
      "text/plain": [
       "<Figure size 720x432 with 1 Axes>"
      ]
     },
     "metadata": {
      "needs_background": "light"
     },
     "output_type": "display_data"
    }
   ],
   "source": [
    "# calculando a taxa de churn\n",
    "state_churn          = train[['state', 'churn']]\n",
    "state_churn.churn    = state_churn.churn.apply(lambda x : 1 if x == 'yes' else 0)\n",
    "state_churn.churn    = state_churn.churn.astype('int64')\n",
    "state_churn['count'] = 1\n",
    "state_churn          = state_churn.groupby('state', as_index = False).sum()\n",
    "state_churn['taxa']  = round(100 * state_churn['churn'] / state_churn['count'], 2)\n",
    "state_churn          = state_churn.sort_values('taxa').reset_index(drop = True)\n",
    "state_churn\n",
    "\n",
    "# plotando o gráfico\n",
    "plt.figure(figsize = (10, 6))\n",
    "sns.barplot(x = 'state', y = 'taxa', data = state_churn, palette = 'rocket_r')\n",
    "plt.title('Taxa de churn por estado')\n",
    "plt.xlabel('')\n",
    "plt.ylabel('Taxa (%)')\n",
    "plt.xticks(rotation = 90)\n",
    "plt.show()"
   ]
  },
  {
   "cell_type": "markdown",
   "metadata": {},
   "source": [
    "Os estados que possuem a **maior** taxa de perda de clientes são a California e New Jersey. Os que possuem as **menores** taxas são o Hawaii e o Alaska."
   ]
  },
  {
   "cell_type": "markdown",
   "metadata": {},
   "source": [
    "## 4.3 Código de Área"
   ]
  },
  {
   "cell_type": "markdown",
   "metadata": {},
   "source": [
    "O código de área - também conhecido como código de registro - serve para identificar uma localidade ou um conjunto de localidades e deve ser usado para a realização de ligações de longa distância"
   ]
  },
  {
   "cell_type": "markdown",
   "metadata": {},
   "source": [
    "Foi criado uma visualização para visualizar os códigos de área mais utilizados. "
   ]
  },
  {
   "cell_type": "code",
   "execution_count": 15,
   "metadata": {},
   "outputs": [
    {
     "data": {
      "image/png": "[encoded data removed]",
      "text/plain": [
       "<Figure size 504x504 with 1 Axes>"
      ]
     },
     "metadata": {},
     "output_type": "display_data"
    }
   ],
   "source": [
    "# dataset com as porcentagens\n",
    "area_code               = pd.DataFrame(train.area_code.value_counts()).reset_index()\n",
    "area_code.columns       = ['area_code', 'contagem']\n",
    "area_code['percentage'] = round((100 * area_code.contagem / len(train)), 2)\n",
    "\n",
    "# gráfico\n",
    "plt.figure(figsize = (7, 7))\n",
    "plt.pie(area_code.percentage, labels = area_code.area_code, autopct='%1.1f%%', shadow = True, startangle = 90)\n",
    "plt.title('Código de Área')\n",
    "plt.show()"
   ]
  },
  {
   "cell_type": "markdown",
   "metadata": {},
   "source": [
    "O próximo gráfico mostra a relação de proporção entre a perda de clientes por código de área."
   ]
  },
  {
   "cell_type": "code",
   "execution_count": 16,
   "metadata": {},
   "outputs": [
    {
     "data": {
      "image/png": "[encoded data removed]",
      "text/plain": [
       "<Figure size 504x504 with 1 Axes>"
      ]
     },
     "metadata": {
      "needs_background": "light"
     },
     "output_type": "display_data"
    }
   ],
   "source": [
    "# churn por código de área\n",
    "plt.figure(figsize = (7,7))\n",
    "sns.countplot(x = \"area_code\", hue = \"churn\", data = train)\n",
    "plt.title(\"Churn por Código de Área\")\n",
    "plt.show()"
   ]
  },
  {
   "cell_type": "markdown",
   "metadata": {},
   "source": [
    "## 4.4 Serviços Contratados"
   ]
  },
  {
   "cell_type": "markdown",
   "metadata": {},
   "source": [
    "De acordo com o dataset, são dois serviços adicionar que o cliente pode contratrar: plano internacional e plano de correio de voz. Vamos ver a proporção dos clientes que contratam esses serviços."
   ]
  },
  {
   "cell_type": "code",
   "execution_count": 17,
   "metadata": {
    "scrolled": false
   },
   "outputs": [
    {
     "data": {
      "image/png": "[encoded data removed]",
      "text/plain": [
       "<Figure size 1008x504 with 2 Axes>"
      ]
     },
     "metadata": {},
     "output_type": "display_data"
    }
   ],
   "source": [
    "# dataset com as procentagens\n",
    "int_plan                            = pd.DataFrame(train.international_plan.value_counts()).reset_index()\n",
    "int_plan.columns                    = ['international_plan', 'contagem_int_plan']\n",
    "int_plan['percentage_int_plan']     = round((100 * int_plan.contagem_int_plan / len(train)), 2)\n",
    "voice_plan                          = pd.DataFrame(train.voice_mail_plan.value_counts()).reset_index()\n",
    "voice_plan.columns                  = ['voice_mail_plan', 'contagem_voice_plan']\n",
    "voice_plan['percentage_voice_plan'] = round((100 * voice_plan.contagem_voice_plan / len(train)), 2)\n",
    "services                            = pd.concat([int_plan, voice_plan], axis = 1)\n",
    "\n",
    "\n",
    "# gráfico\n",
    "plt.figure(figsize = (14, 7))\n",
    "\n",
    "plt.subplot(1, 2, 1)\n",
    "plt.pie(services.percentage_int_plan, labels = services.international_plan, autopct='%1.1f%%', shadow = True, startangle = 90)\n",
    "plt.title('Plano Internacional')\n",
    "\n",
    "plt.subplot(1, 2, 2)\n",
    "plt.pie(services.percentage_voice_plan, labels = services.voice_mail_plan, autopct='%1.1f%%', shadow = True, startangle = 90)\n",
    "plt.title('Plano de Correio de Voz')\n",
    "\n",
    "plt.show()"
   ]
  },
  {
   "cell_type": "markdown",
   "metadata": {},
   "source": [
    "Os próximos gráficos apresentam a relação de proporção de churn com da contratação do serviço."
   ]
  },
  {
   "cell_type": "code",
   "execution_count": 18,
   "metadata": {},
   "outputs": [
    {
     "data": {
      "image/png": "[encoded data removed]",
      "text/plain": [
       "<Figure size 864x432 with 2 Axes>"
      ]
     },
     "metadata": {
      "needs_background": "light"
     },
     "output_type": "display_data"
    }
   ],
   "source": [
    "# churn por contrato de plano internacional\n",
    "plt.figure(figsize = (12, 6))\n",
    "\n",
    "plt.subplot(1, 2, 1)\n",
    "sns.countplot(x = 'international_plan', hue = 'churn', data = train)\n",
    "plt.title('Churn por Plano Internacional')\n",
    "\n",
    "plt.subplot(1, 2, 2)\n",
    "sns.countplot(x = 'voice_mail_plan', hue = 'churn', data = train)\n",
    "plt.title('Churn por Plano de Correio de Voz')\n",
    "\n",
    "plt.show()"
   ]
  },
  {
   "cell_type": "markdown",
   "metadata": {},
   "source": [
    "Parece haver uma correlação significativa entre a contratação do plano internacional e a saída do cliente da operadora."
   ]
  },
  {
   "cell_type": "markdown",
   "metadata": {},
   "source": [
    "## 4.5 Total de Minutos em Chamada"
   ]
  },
  {
   "cell_type": "markdown",
   "metadata": {},
   "source": [
    "O dataset separa os minutos gastos por período do dia. A seguir vamos ver as principais estatísticas e visualizações para essas variáveis."
   ]
  },
  {
   "cell_type": "code",
   "execution_count": 19,
   "metadata": {},
   "outputs": [
    {
     "data": {
      "text/html": [
       "<div>\n",
       "<style scoped>\n",
       "    .dataframe tbody tr th:only-of-type {\n",
       "        vertical-align: middle;\n",
       "    }\n",
       "\n",
       "    .dataframe tbody tr th {\n",
       "        vertical-align: top;\n",
       "    }\n",
       "\n",
       "    .dataframe thead th {\n",
       "        text-align: right;\n",
       "    }\n",
       "</style>\n",
       "<table border=\"1\" class=\"dataframe\">\n",
       "  <thead>\n",
       "    <tr style=\"text-align: right;\">\n",
       "      <th></th>\n",
       "      <th>total_day_minutes</th>\n",
       "      <th>total_eve_minutes</th>\n",
       "      <th>total_night_minutes</th>\n",
       "    </tr>\n",
       "  </thead>\n",
       "  <tbody>\n",
       "    <tr>\n",
       "      <th>count</th>\n",
       "      <td>3333.000000</td>\n",
       "      <td>3333.000000</td>\n",
       "      <td>3333.000000</td>\n",
       "    </tr>\n",
       "    <tr>\n",
       "      <th>mean</th>\n",
       "      <td>179.775098</td>\n",
       "      <td>200.980348</td>\n",
       "      <td>200.872037</td>\n",
       "    </tr>\n",
       "    <tr>\n",
       "      <th>std</th>\n",
       "      <td>54.467389</td>\n",
       "      <td>50.713844</td>\n",
       "      <td>50.573847</td>\n",
       "    </tr>\n",
       "    <tr>\n",
       "      <th>min</th>\n",
       "      <td>0.000000</td>\n",
       "      <td>0.000000</td>\n",
       "      <td>23.200000</td>\n",
       "    </tr>\n",
       "    <tr>\n",
       "      <th>25%</th>\n",
       "      <td>143.700000</td>\n",
       "      <td>166.600000</td>\n",
       "      <td>167.000000</td>\n",
       "    </tr>\n",
       "    <tr>\n",
       "      <th>50%</th>\n",
       "      <td>179.400000</td>\n",
       "      <td>201.400000</td>\n",
       "      <td>201.200000</td>\n",
       "    </tr>\n",
       "    <tr>\n",
       "      <th>75%</th>\n",
       "      <td>216.400000</td>\n",
       "      <td>235.300000</td>\n",
       "      <td>235.300000</td>\n",
       "    </tr>\n",
       "    <tr>\n",
       "      <th>max</th>\n",
       "      <td>350.800000</td>\n",
       "      <td>363.700000</td>\n",
       "      <td>395.000000</td>\n",
       "    </tr>\n",
       "  </tbody>\n",
       "</table>\n",
       "</div>"
      ],
      "text/plain": [
       "       total_day_minutes  total_eve_minutes  total_night_minutes\n",
       "count        3333.000000        3333.000000          3333.000000\n",
       "mean          179.775098         200.980348           200.872037\n",
       "std            54.467389          50.713844            50.573847\n",
       "min             0.000000           0.000000            23.200000\n",
       "25%           143.700000         166.600000           167.000000\n",
       "50%           179.400000         201.400000           201.200000\n",
       "75%           216.400000         235.300000           235.300000\n",
       "max           350.800000         363.700000           395.000000"
      ]
     },
     "execution_count": 19,
     "metadata": {},
     "output_type": "execute_result"
    }
   ],
   "source": [
    "# estatísticas dos minutos em chamada por período do dia\n",
    "cols_min = ['total_day_minutes', 'total_eve_minutes', 'total_night_minutes']\n",
    "stats(cols_min)"
   ]
  },
  {
   "cell_type": "markdown",
   "metadata": {},
   "source": [
    "Em média é gasto menos tempo em chamadas pela manhã em comparação aos outros períodos do dia."
   ]
  },
  {
   "cell_type": "code",
   "execution_count": 20,
   "metadata": {},
   "outputs": [
    {
     "data": {
      "image/png": "[encoded data removed]",
      "text/plain": [
       "<Figure size 720x432 with 1 Axes>"
      ]
     },
     "metadata": {
      "needs_background": "light"
     },
     "output_type": "display_data"
    }
   ],
   "source": [
    "# boxplot dos minutos em chamada por período do dia\n",
    "box(cols_min)"
   ]
  },
  {
   "cell_type": "code",
   "execution_count": 21,
   "metadata": {
    "scrolled": false
   },
   "outputs": [
    {
     "data": {
      "image/png": "[encoded data removed]",
      "text/plain": [
       "<Figure size 1080x432 with 3 Axes>"
      ]
     },
     "metadata": {
      "needs_background": "light"
     },
     "output_type": "display_data"
    }
   ],
   "source": [
    "# plot histogram\n",
    "histPlot(cols_min)"
   ]
  },
  {
   "cell_type": "code",
   "execution_count": 22,
   "metadata": {},
   "outputs": [
    {
     "data": {
      "text/html": [
       "<div>\n",
       "<style scoped>\n",
       "    .dataframe tbody tr th:only-of-type {\n",
       "        vertical-align: middle;\n",
       "    }\n",
       "\n",
       "    .dataframe tbody tr th {\n",
       "        vertical-align: top;\n",
       "    }\n",
       "\n",
       "    .dataframe thead th {\n",
       "        text-align: right;\n",
       "    }\n",
       "</style>\n",
       "<table border=\"1\" class=\"dataframe\">\n",
       "  <thead>\n",
       "    <tr style=\"text-align: right;\">\n",
       "      <th></th>\n",
       "      <th>total_day_minutes_churn_yes</th>\n",
       "      <th>total_day_minutes_churn_no</th>\n",
       "      <th>total_eve_minutes_churn_yes</th>\n",
       "      <th>total_eve_minutes_churn_no</th>\n",
       "      <th>total_night_minutes_churn_yes</th>\n",
       "      <th>total_night_minutes_churn_no</th>\n",
       "    </tr>\n",
       "  </thead>\n",
       "  <tbody>\n",
       "    <tr>\n",
       "      <th>count</th>\n",
       "      <td>483.000000</td>\n",
       "      <td>2850.000000</td>\n",
       "      <td>483.000000</td>\n",
       "      <td>2850.000000</td>\n",
       "      <td>483.000000</td>\n",
       "      <td>2850.000000</td>\n",
       "    </tr>\n",
       "    <tr>\n",
       "      <th>mean</th>\n",
       "      <td>206.914079</td>\n",
       "      <td>175.175754</td>\n",
       "      <td>212.410145</td>\n",
       "      <td>199.043298</td>\n",
       "      <td>205.231677</td>\n",
       "      <td>200.133193</td>\n",
       "    </tr>\n",
       "    <tr>\n",
       "      <th>std</th>\n",
       "      <td>68.997792</td>\n",
       "      <td>50.181655</td>\n",
       "      <td>51.728910</td>\n",
       "      <td>50.292175</td>\n",
       "      <td>47.132825</td>\n",
       "      <td>51.105032</td>\n",
       "    </tr>\n",
       "    <tr>\n",
       "      <th>min</th>\n",
       "      <td>0.000000</td>\n",
       "      <td>0.000000</td>\n",
       "      <td>70.900000</td>\n",
       "      <td>0.000000</td>\n",
       "      <td>47.400000</td>\n",
       "      <td>23.200000</td>\n",
       "    </tr>\n",
       "    <tr>\n",
       "      <th>25%</th>\n",
       "      <td>153.250000</td>\n",
       "      <td>142.825000</td>\n",
       "      <td>177.100000</td>\n",
       "      <td>164.500000</td>\n",
       "      <td>171.250000</td>\n",
       "      <td>165.900000</td>\n",
       "    </tr>\n",
       "    <tr>\n",
       "      <th>50%</th>\n",
       "      <td>217.600000</td>\n",
       "      <td>177.200000</td>\n",
       "      <td>211.300000</td>\n",
       "      <td>199.600000</td>\n",
       "      <td>204.800000</td>\n",
       "      <td>200.250000</td>\n",
       "    </tr>\n",
       "    <tr>\n",
       "      <th>75%</th>\n",
       "      <td>265.950000</td>\n",
       "      <td>210.300000</td>\n",
       "      <td>249.450000</td>\n",
       "      <td>233.200000</td>\n",
       "      <td>239.850000</td>\n",
       "      <td>234.900000</td>\n",
       "    </tr>\n",
       "    <tr>\n",
       "      <th>max</th>\n",
       "      <td>350.800000</td>\n",
       "      <td>315.600000</td>\n",
       "      <td>363.700000</td>\n",
       "      <td>361.800000</td>\n",
       "      <td>354.900000</td>\n",
       "      <td>395.000000</td>\n",
       "    </tr>\n",
       "  </tbody>\n",
       "</table>\n",
       "</div>"
      ],
      "text/plain": [
       "       total_day_minutes_churn_yes  total_day_minutes_churn_no  \\\n",
       "count                   483.000000                 2850.000000   \n",
       "mean                    206.914079                  175.175754   \n",
       "std                      68.997792                   50.181655   \n",
       "min                       0.000000                    0.000000   \n",
       "25%                     153.250000                  142.825000   \n",
       "50%                     217.600000                  177.200000   \n",
       "75%                     265.950000                  210.300000   \n",
       "max                     350.800000                  315.600000   \n",
       "\n",
       "       total_eve_minutes_churn_yes  total_eve_minutes_churn_no  \\\n",
       "count                   483.000000                 2850.000000   \n",
       "mean                    212.410145                  199.043298   \n",
       "std                      51.728910                   50.292175   \n",
       "min                      70.900000                    0.000000   \n",
       "25%                     177.100000                  164.500000   \n",
       "50%                     211.300000                  199.600000   \n",
       "75%                     249.450000                  233.200000   \n",
       "max                     363.700000                  361.800000   \n",
       "\n",
       "       total_night_minutes_churn_yes  total_night_minutes_churn_no  \n",
       "count                     483.000000                   2850.000000  \n",
       "mean                      205.231677                    200.133193  \n",
       "std                        47.132825                     51.105032  \n",
       "min                        47.400000                     23.200000  \n",
       "25%                       171.250000                    165.900000  \n",
       "50%                       204.800000                    200.250000  \n",
       "75%                       239.850000                    234.900000  \n",
       "max                       354.900000                    395.000000  "
      ]
     },
     "execution_count": 22,
     "metadata": {},
     "output_type": "execute_result"
    }
   ],
   "source": [
    "# estatísticas separadas\n",
    "stats_churn(cols_min)"
   ]
  },
  {
   "cell_type": "markdown",
   "metadata": {},
   "source": [
    "As estatísticas sugerem que os clientes que saem da operadora são os que mais minutos gastam em média em chamadas."
   ]
  },
  {
   "cell_type": "markdown",
   "metadata": {},
   "source": [
    "## 4.6 Total de Chamadas"
   ]
  },
  {
   "cell_type": "markdown",
   "metadata": {},
   "source": [
    "O dataset separa as ligações gastos por período do dia. A seguir vamos ver as principais estatísticas e visualizações para essas variáveis."
   ]
  },
  {
   "cell_type": "code",
   "execution_count": 23,
   "metadata": {},
   "outputs": [
    {
     "data": {
      "text/html": [
       "<div>\n",
       "<style scoped>\n",
       "    .dataframe tbody tr th:only-of-type {\n",
       "        vertical-align: middle;\n",
       "    }\n",
       "\n",
       "    .dataframe tbody tr th {\n",
       "        vertical-align: top;\n",
       "    }\n",
       "\n",
       "    .dataframe thead th {\n",
       "        text-align: right;\n",
       "    }\n",
       "</style>\n",
       "<table border=\"1\" class=\"dataframe\">\n",
       "  <thead>\n",
       "    <tr style=\"text-align: right;\">\n",
       "      <th></th>\n",
       "      <th>total_day_calls</th>\n",
       "      <th>total_eve_calls</th>\n",
       "      <th>total_night_calls</th>\n",
       "    </tr>\n",
       "  </thead>\n",
       "  <tbody>\n",
       "    <tr>\n",
       "      <th>count</th>\n",
       "      <td>3333.000000</td>\n",
       "      <td>3333.000000</td>\n",
       "      <td>3333.000000</td>\n",
       "    </tr>\n",
       "    <tr>\n",
       "      <th>mean</th>\n",
       "      <td>100.435644</td>\n",
       "      <td>100.114311</td>\n",
       "      <td>100.107711</td>\n",
       "    </tr>\n",
       "    <tr>\n",
       "      <th>std</th>\n",
       "      <td>20.069084</td>\n",
       "      <td>19.922625</td>\n",
       "      <td>19.568609</td>\n",
       "    </tr>\n",
       "    <tr>\n",
       "      <th>min</th>\n",
       "      <td>0.000000</td>\n",
       "      <td>0.000000</td>\n",
       "      <td>33.000000</td>\n",
       "    </tr>\n",
       "    <tr>\n",
       "      <th>25%</th>\n",
       "      <td>87.000000</td>\n",
       "      <td>87.000000</td>\n",
       "      <td>87.000000</td>\n",
       "    </tr>\n",
       "    <tr>\n",
       "      <th>50%</th>\n",
       "      <td>101.000000</td>\n",
       "      <td>100.000000</td>\n",
       "      <td>100.000000</td>\n",
       "    </tr>\n",
       "    <tr>\n",
       "      <th>75%</th>\n",
       "      <td>114.000000</td>\n",
       "      <td>114.000000</td>\n",
       "      <td>113.000000</td>\n",
       "    </tr>\n",
       "    <tr>\n",
       "      <th>max</th>\n",
       "      <td>165.000000</td>\n",
       "      <td>170.000000</td>\n",
       "      <td>175.000000</td>\n",
       "    </tr>\n",
       "  </tbody>\n",
       "</table>\n",
       "</div>"
      ],
      "text/plain": [
       "       total_day_calls  total_eve_calls  total_night_calls\n",
       "count      3333.000000      3333.000000        3333.000000\n",
       "mean        100.435644       100.114311         100.107711\n",
       "std          20.069084        19.922625          19.568609\n",
       "min           0.000000         0.000000          33.000000\n",
       "25%          87.000000        87.000000          87.000000\n",
       "50%         101.000000       100.000000         100.000000\n",
       "75%         114.000000       114.000000         113.000000\n",
       "max         165.000000       170.000000         175.000000"
      ]
     },
     "execution_count": 23,
     "metadata": {},
     "output_type": "execute_result"
    }
   ],
   "source": [
    "# estatísticas da quantidade de chamadas por período do dia\n",
    "cols_calls = ['total_day_calls', 'total_eve_calls', 'total_night_calls']\n",
    "stats(cols_calls)"
   ]
  },
  {
   "cell_type": "code",
   "execution_count": 24,
   "metadata": {},
   "outputs": [
    {
     "data": {
      "image/png": "[encoded data removed]",
      "text/plain": [
       "<Figure size 720x432 with 1 Axes>"
      ]
     },
     "metadata": {
      "needs_background": "light"
     },
     "output_type": "display_data"
    }
   ],
   "source": [
    "# boxplot da quantidade de chamadas por período do dia\n",
    "box(cols_calls)"
   ]
  },
  {
   "cell_type": "code",
   "execution_count": 25,
   "metadata": {},
   "outputs": [
    {
     "data": {
      "image/png": "[encoded data removed]",
      "text/plain": [
       "<Figure size 1080x432 with 3 Axes>"
      ]
     },
     "metadata": {
      "needs_background": "light"
     },
     "output_type": "display_data"
    }
   ],
   "source": [
    "# plot histogram\n",
    "histPlot(cols_calls)"
   ]
  },
  {
   "cell_type": "code",
   "execution_count": 26,
   "metadata": {},
   "outputs": [
    {
     "data": {
      "text/html": [
       "<div>\n",
       "<style scoped>\n",
       "    .dataframe tbody tr th:only-of-type {\n",
       "        vertical-align: middle;\n",
       "    }\n",
       "\n",
       "    .dataframe tbody tr th {\n",
       "        vertical-align: top;\n",
       "    }\n",
       "\n",
       "    .dataframe thead th {\n",
       "        text-align: right;\n",
       "    }\n",
       "</style>\n",
       "<table border=\"1\" class=\"dataframe\">\n",
       "  <thead>\n",
       "    <tr style=\"text-align: right;\">\n",
       "      <th></th>\n",
       "      <th>total_day_calls_churn_yes</th>\n",
       "      <th>total_day_calls_churn_no</th>\n",
       "      <th>total_eve_calls_churn_yes</th>\n",
       "      <th>total_eve_calls_churn_no</th>\n",
       "      <th>total_night_calls_churn_yes</th>\n",
       "      <th>total_night_calls_churn_no</th>\n",
       "    </tr>\n",
       "  </thead>\n",
       "  <tbody>\n",
       "    <tr>\n",
       "      <th>count</th>\n",
       "      <td>483.000000</td>\n",
       "      <td>2850.000000</td>\n",
       "      <td>483.000000</td>\n",
       "      <td>2850.000000</td>\n",
       "      <td>483.000000</td>\n",
       "      <td>2850.000000</td>\n",
       "    </tr>\n",
       "    <tr>\n",
       "      <th>mean</th>\n",
       "      <td>101.335404</td>\n",
       "      <td>100.283158</td>\n",
       "      <td>100.561077</td>\n",
       "      <td>100.038596</td>\n",
       "      <td>100.399586</td>\n",
       "      <td>100.058246</td>\n",
       "    </tr>\n",
       "    <tr>\n",
       "      <th>std</th>\n",
       "      <td>21.582307</td>\n",
       "      <td>19.801157</td>\n",
       "      <td>19.724711</td>\n",
       "      <td>19.958414</td>\n",
       "      <td>19.950659</td>\n",
       "      <td>19.506246</td>\n",
       "    </tr>\n",
       "    <tr>\n",
       "      <th>min</th>\n",
       "      <td>0.000000</td>\n",
       "      <td>0.000000</td>\n",
       "      <td>48.000000</td>\n",
       "      <td>0.000000</td>\n",
       "      <td>49.000000</td>\n",
       "      <td>33.000000</td>\n",
       "    </tr>\n",
       "    <tr>\n",
       "      <th>25%</th>\n",
       "      <td>87.500000</td>\n",
       "      <td>87.000000</td>\n",
       "      <td>87.000000</td>\n",
       "      <td>87.000000</td>\n",
       "      <td>85.000000</td>\n",
       "      <td>87.000000</td>\n",
       "    </tr>\n",
       "    <tr>\n",
       "      <th>50%</th>\n",
       "      <td>103.000000</td>\n",
       "      <td>100.000000</td>\n",
       "      <td>101.000000</td>\n",
       "      <td>100.000000</td>\n",
       "      <td>100.000000</td>\n",
       "      <td>100.000000</td>\n",
       "    </tr>\n",
       "    <tr>\n",
       "      <th>75%</th>\n",
       "      <td>116.500000</td>\n",
       "      <td>114.000000</td>\n",
       "      <td>114.000000</td>\n",
       "      <td>114.000000</td>\n",
       "      <td>115.000000</td>\n",
       "      <td>113.000000</td>\n",
       "    </tr>\n",
       "    <tr>\n",
       "      <th>max</th>\n",
       "      <td>165.000000</td>\n",
       "      <td>163.000000</td>\n",
       "      <td>168.000000</td>\n",
       "      <td>170.000000</td>\n",
       "      <td>158.000000</td>\n",
       "      <td>175.000000</td>\n",
       "    </tr>\n",
       "  </tbody>\n",
       "</table>\n",
       "</div>"
      ],
      "text/plain": [
       "       total_day_calls_churn_yes  total_day_calls_churn_no  \\\n",
       "count                 483.000000               2850.000000   \n",
       "mean                  101.335404                100.283158   \n",
       "std                    21.582307                 19.801157   \n",
       "min                     0.000000                  0.000000   \n",
       "25%                    87.500000                 87.000000   \n",
       "50%                   103.000000                100.000000   \n",
       "75%                   116.500000                114.000000   \n",
       "max                   165.000000                163.000000   \n",
       "\n",
       "       total_eve_calls_churn_yes  total_eve_calls_churn_no  \\\n",
       "count                 483.000000               2850.000000   \n",
       "mean                  100.561077                100.038596   \n",
       "std                    19.724711                 19.958414   \n",
       "min                    48.000000                  0.000000   \n",
       "25%                    87.000000                 87.000000   \n",
       "50%                   101.000000                100.000000   \n",
       "75%                   114.000000                114.000000   \n",
       "max                   168.000000                170.000000   \n",
       "\n",
       "       total_night_calls_churn_yes  total_night_calls_churn_no  \n",
       "count                   483.000000                 2850.000000  \n",
       "mean                    100.399586                  100.058246  \n",
       "std                      19.950659                   19.506246  \n",
       "min                      49.000000                   33.000000  \n",
       "25%                      85.000000                   87.000000  \n",
       "50%                     100.000000                  100.000000  \n",
       "75%                     115.000000                  113.000000  \n",
       "max                     158.000000                  175.000000  "
      ]
     },
     "execution_count": 26,
     "metadata": {},
     "output_type": "execute_result"
    }
   ],
   "source": [
    "# estatísticas separadas\n",
    "stats_churn(cols_calls)"
   ]
  },
  {
   "cell_type": "markdown",
   "metadata": {},
   "source": [
    "## 4.7 Total de Recargas"
   ]
  },
  {
   "cell_type": "markdown",
   "metadata": {},
   "source": [
    "O dataset separa as recargas feitas por período do dia. A seguir vamos ver as principais estatísticas e visualizações para essas variáveis."
   ]
  },
  {
   "cell_type": "code",
   "execution_count": 27,
   "metadata": {},
   "outputs": [
    {
     "data": {
      "text/html": [
       "<div>\n",
       "<style scoped>\n",
       "    .dataframe tbody tr th:only-of-type {\n",
       "        vertical-align: middle;\n",
       "    }\n",
       "\n",
       "    .dataframe tbody tr th {\n",
       "        vertical-align: top;\n",
       "    }\n",
       "\n",
       "    .dataframe thead th {\n",
       "        text-align: right;\n",
       "    }\n",
       "</style>\n",
       "<table border=\"1\" class=\"dataframe\">\n",
       "  <thead>\n",
       "    <tr style=\"text-align: right;\">\n",
       "      <th></th>\n",
       "      <th>total_day_charge</th>\n",
       "      <th>total_eve_charge</th>\n",
       "      <th>total_night_charge</th>\n",
       "    </tr>\n",
       "  </thead>\n",
       "  <tbody>\n",
       "    <tr>\n",
       "      <th>count</th>\n",
       "      <td>3333.000000</td>\n",
       "      <td>3333.000000</td>\n",
       "      <td>3333.000000</td>\n",
       "    </tr>\n",
       "    <tr>\n",
       "      <th>mean</th>\n",
       "      <td>30.562307</td>\n",
       "      <td>17.083540</td>\n",
       "      <td>9.039325</td>\n",
       "    </tr>\n",
       "    <tr>\n",
       "      <th>std</th>\n",
       "      <td>9.259435</td>\n",
       "      <td>4.310668</td>\n",
       "      <td>2.275873</td>\n",
       "    </tr>\n",
       "    <tr>\n",
       "      <th>min</th>\n",
       "      <td>0.000000</td>\n",
       "      <td>0.000000</td>\n",
       "      <td>1.040000</td>\n",
       "    </tr>\n",
       "    <tr>\n",
       "      <th>25%</th>\n",
       "      <td>24.430000</td>\n",
       "      <td>14.160000</td>\n",
       "      <td>7.520000</td>\n",
       "    </tr>\n",
       "    <tr>\n",
       "      <th>50%</th>\n",
       "      <td>30.500000</td>\n",
       "      <td>17.120000</td>\n",
       "      <td>9.050000</td>\n",
       "    </tr>\n",
       "    <tr>\n",
       "      <th>75%</th>\n",
       "      <td>36.790000</td>\n",
       "      <td>20.000000</td>\n",
       "      <td>10.590000</td>\n",
       "    </tr>\n",
       "    <tr>\n",
       "      <th>max</th>\n",
       "      <td>59.640000</td>\n",
       "      <td>30.910000</td>\n",
       "      <td>17.770000</td>\n",
       "    </tr>\n",
       "  </tbody>\n",
       "</table>\n",
       "</div>"
      ],
      "text/plain": [
       "       total_day_charge  total_eve_charge  total_night_charge\n",
       "count       3333.000000       3333.000000         3333.000000\n",
       "mean          30.562307         17.083540            9.039325\n",
       "std            9.259435          4.310668            2.275873\n",
       "min            0.000000          0.000000            1.040000\n",
       "25%           24.430000         14.160000            7.520000\n",
       "50%           30.500000         17.120000            9.050000\n",
       "75%           36.790000         20.000000           10.590000\n",
       "max           59.640000         30.910000           17.770000"
      ]
     },
     "execution_count": 27,
     "metadata": {},
     "output_type": "execute_result"
    }
   ],
   "source": [
    "# estatísticas das recargas\n",
    "cols_charge = ['total_day_charge', 'total_eve_charge', 'total_night_charge']\n",
    "stats(cols_charge)"
   ]
  },
  {
   "cell_type": "markdown",
   "metadata": {},
   "source": [
    "As maiores recargas são feitas no período da manhã."
   ]
  },
  {
   "cell_type": "code",
   "execution_count": 28,
   "metadata": {},
   "outputs": [
    {
     "data": {
      "image/png": "[encoded data removed]",
      "text/plain": [
       "<Figure size 720x432 with 1 Axes>"
      ]
     },
     "metadata": {
      "needs_background": "light"
     },
     "output_type": "display_data"
    }
   ],
   "source": [
    "# boxplot das recargas\n",
    "box(cols_charge)"
   ]
  },
  {
   "cell_type": "code",
   "execution_count": 29,
   "metadata": {},
   "outputs": [
    {
     "data": {
      "image/png": "[encoded data removed]",
      "text/plain": [
       "<Figure size 1080x432 with 3 Axes>"
      ]
     },
     "metadata": {
      "needs_background": "light"
     },
     "output_type": "display_data"
    }
   ],
   "source": [
    "# plot dos histogramas\n",
    "histPlot(cols_charge)"
   ]
  },
  {
   "cell_type": "code",
   "execution_count": 30,
   "metadata": {},
   "outputs": [
    {
     "data": {
      "text/html": [
       "<div>\n",
       "<style scoped>\n",
       "    .dataframe tbody tr th:only-of-type {\n",
       "        vertical-align: middle;\n",
       "    }\n",
       "\n",
       "    .dataframe tbody tr th {\n",
       "        vertical-align: top;\n",
       "    }\n",
       "\n",
       "    .dataframe thead th {\n",
       "        text-align: right;\n",
       "    }\n",
       "</style>\n",
       "<table border=\"1\" class=\"dataframe\">\n",
       "  <thead>\n",
       "    <tr style=\"text-align: right;\">\n",
       "      <th></th>\n",
       "      <th>total_day_charge_churn_yes</th>\n",
       "      <th>total_day_charge_churn_no</th>\n",
       "      <th>total_eve_charge_churn_yes</th>\n",
       "      <th>total_eve_charge_churn_no</th>\n",
       "      <th>total_night_charge_churn_yes</th>\n",
       "      <th>total_night_charge_churn_no</th>\n",
       "    </tr>\n",
       "  </thead>\n",
       "  <tbody>\n",
       "    <tr>\n",
       "      <th>count</th>\n",
       "      <td>483.000000</td>\n",
       "      <td>2850.000000</td>\n",
       "      <td>483.000000</td>\n",
       "      <td>2850.000000</td>\n",
       "      <td>483.000000</td>\n",
       "      <td>2850.000000</td>\n",
       "    </tr>\n",
       "    <tr>\n",
       "      <th>mean</th>\n",
       "      <td>35.175921</td>\n",
       "      <td>29.780421</td>\n",
       "      <td>18.054969</td>\n",
       "      <td>16.918909</td>\n",
       "      <td>9.235528</td>\n",
       "      <td>9.006074</td>\n",
       "    </tr>\n",
       "    <tr>\n",
       "      <th>std</th>\n",
       "      <td>11.729710</td>\n",
       "      <td>8.530835</td>\n",
       "      <td>4.396762</td>\n",
       "      <td>4.274863</td>\n",
       "      <td>2.121081</td>\n",
       "      <td>2.299768</td>\n",
       "    </tr>\n",
       "    <tr>\n",
       "      <th>min</th>\n",
       "      <td>0.000000</td>\n",
       "      <td>0.000000</td>\n",
       "      <td>6.030000</td>\n",
       "      <td>0.000000</td>\n",
       "      <td>2.130000</td>\n",
       "      <td>1.040000</td>\n",
       "    </tr>\n",
       "    <tr>\n",
       "      <th>25%</th>\n",
       "      <td>26.055000</td>\n",
       "      <td>24.282500</td>\n",
       "      <td>15.055000</td>\n",
       "      <td>13.980000</td>\n",
       "      <td>7.705000</td>\n",
       "      <td>7.470000</td>\n",
       "    </tr>\n",
       "    <tr>\n",
       "      <th>50%</th>\n",
       "      <td>36.990000</td>\n",
       "      <td>30.120000</td>\n",
       "      <td>17.960000</td>\n",
       "      <td>16.970000</td>\n",
       "      <td>9.220000</td>\n",
       "      <td>9.010000</td>\n",
       "    </tr>\n",
       "    <tr>\n",
       "      <th>75%</th>\n",
       "      <td>45.210000</td>\n",
       "      <td>35.750000</td>\n",
       "      <td>21.205000</td>\n",
       "      <td>19.820000</td>\n",
       "      <td>10.795000</td>\n",
       "      <td>10.570000</td>\n",
       "    </tr>\n",
       "    <tr>\n",
       "      <th>max</th>\n",
       "      <td>59.640000</td>\n",
       "      <td>53.650000</td>\n",
       "      <td>30.910000</td>\n",
       "      <td>30.750000</td>\n",
       "      <td>15.970000</td>\n",
       "      <td>17.770000</td>\n",
       "    </tr>\n",
       "  </tbody>\n",
       "</table>\n",
       "</div>"
      ],
      "text/plain": [
       "       total_day_charge_churn_yes  total_day_charge_churn_no  \\\n",
       "count                  483.000000                2850.000000   \n",
       "mean                    35.175921                  29.780421   \n",
       "std                     11.729710                   8.530835   \n",
       "min                      0.000000                   0.000000   \n",
       "25%                     26.055000                  24.282500   \n",
       "50%                     36.990000                  30.120000   \n",
       "75%                     45.210000                  35.750000   \n",
       "max                     59.640000                  53.650000   \n",
       "\n",
       "       total_eve_charge_churn_yes  total_eve_charge_churn_no  \\\n",
       "count                  483.000000                2850.000000   \n",
       "mean                    18.054969                  16.918909   \n",
       "std                      4.396762                   4.274863   \n",
       "min                      6.030000                   0.000000   \n",
       "25%                     15.055000                  13.980000   \n",
       "50%                     17.960000                  16.970000   \n",
       "75%                     21.205000                  19.820000   \n",
       "max                     30.910000                  30.750000   \n",
       "\n",
       "       total_night_charge_churn_yes  total_night_charge_churn_no  \n",
       "count                    483.000000                  2850.000000  \n",
       "mean                       9.235528                     9.006074  \n",
       "std                        2.121081                     2.299768  \n",
       "min                        2.130000                     1.040000  \n",
       "25%                        7.705000                     7.470000  \n",
       "50%                        9.220000                     9.010000  \n",
       "75%                       10.795000                    10.570000  \n",
       "max                       15.970000                    17.770000  "
      ]
     },
     "execution_count": 30,
     "metadata": {},
     "output_type": "execute_result"
    }
   ],
   "source": [
    "# estatísticas separadas por churn\n",
    "stats_churn(cols_charge)"
   ]
  },
  {
   "cell_type": "markdown",
   "metadata": {},
   "source": [
    "## 4.8 Churn"
   ]
  },
  {
   "cell_type": "markdown",
   "metadata": {},
   "source": [
    "Vamos verificar a proporção do dataset sobre a variável target (churn)."
   ]
  },
  {
   "cell_type": "code",
   "execution_count": 31,
   "metadata": {},
   "outputs": [
    {
     "data": {
      "image/png": "[encoded data removed]",
      "text/plain": [
       "<Figure size 504x504 with 1 Axes>"
      ]
     },
     "metadata": {},
     "output_type": "display_data"
    }
   ],
   "source": [
    "churn_perc = pd.DataFrame(train['churn'].value_counts()).reset_index()\n",
    "churn_perc.columns = ['churn', 'total']\n",
    "churn_perc['percentage'] = round(  (100 * churn_perc.total / churn_perc.total.sum())  , 3)\n",
    "churn_perc\n",
    "\n",
    "plt.figure(figsize = (7, 7))\n",
    "plt.pie(churn_perc.percentage, labels = churn_perc.churn, autopct='%1.1f%%', shadow = True, startangle = 90)\n",
    "plt.title('Proporção Churn Dataset')\n",
    "plt.show()"
   ]
  },
  {
   "cell_type": "markdown",
   "metadata": {},
   "source": [
    "O churn rate para esse dataset é de **14.5%**."
   ]
  },
  {
   "cell_type": "markdown",
   "metadata": {},
   "source": [
    "## 4.9 Correlações"
   ]
  },
  {
   "cell_type": "markdown",
   "metadata": {},
   "source": [
    "Vamos analisar as correlações de Pearson, que mede o grau de relacionamento (e a direção dessa correlação - se positiva ou negativa) entre duas variáveis."
   ]
  },
  {
   "cell_type": "markdown",
   "metadata": {},
   "source": [
    "### 4.9.1 Transformando os Dados"
   ]
  },
  {
   "cell_type": "markdown",
   "metadata": {},
   "source": [
    "Antes de analisarmos as correlações, vamos transformar as variáveis que possuem valores como \"object\" em valores numéricos."
   ]
  },
  {
   "cell_type": "code",
   "execution_count": 32,
   "metadata": {},
   "outputs": [],
   "source": [
    "# criando uma cópia do dataset\n",
    "train_trans = train.copy()\n",
    "test_trans  = test.copy()\n",
    "\n",
    "# lista com as variáveis a serem transformados\n",
    "col_cat = ['state', 'international_plan', 'voice_mail_plan', 'churn']\n",
    "\n",
    "# transformação\n",
    "for col in col_cat:\n",
    "    train_trans[col] = train_trans[col].astype('category').cat.codes\n",
    "    test_trans[col]  = test_trans[col].astype('category').cat.codes"
   ]
  },
  {
   "cell_type": "code",
   "execution_count": 33,
   "metadata": {},
   "outputs": [
    {
     "data": {
      "text/html": [
       "<div>\n",
       "<style scoped>\n",
       "    .dataframe tbody tr th:only-of-type {\n",
       "        vertical-align: middle;\n",
       "    }\n",
       "\n",
       "    .dataframe tbody tr th {\n",
       "        vertical-align: top;\n",
       "    }\n",
       "\n",
       "    .dataframe thead th {\n",
       "        text-align: right;\n",
       "    }\n",
       "</style>\n",
       "<table border=\"1\" class=\"dataframe\">\n",
       "  <thead>\n",
       "    <tr style=\"text-align: right;\">\n",
       "      <th></th>\n",
       "      <th>state</th>\n",
       "      <th>account_length</th>\n",
       "      <th>area_code</th>\n",
       "      <th>international_plan</th>\n",
       "      <th>voice_mail_plan</th>\n",
       "      <th>number_vmail_messages</th>\n",
       "      <th>total_day_minutes</th>\n",
       "      <th>total_day_calls</th>\n",
       "      <th>total_day_charge</th>\n",
       "      <th>total_eve_minutes</th>\n",
       "      <th>total_eve_calls</th>\n",
       "      <th>total_eve_charge</th>\n",
       "      <th>total_night_minutes</th>\n",
       "      <th>total_night_calls</th>\n",
       "      <th>total_night_charge</th>\n",
       "      <th>total_intl_minutes</th>\n",
       "      <th>total_intl_calls</th>\n",
       "      <th>total_intl_charge</th>\n",
       "      <th>number_customer_service_calls</th>\n",
       "      <th>churn</th>\n",
       "    </tr>\n",
       "  </thead>\n",
       "  <tbody>\n",
       "    <tr>\n",
       "      <th>0</th>\n",
       "      <td>16</td>\n",
       "      <td>128</td>\n",
       "      <td>415</td>\n",
       "      <td>0</td>\n",
       "      <td>1</td>\n",
       "      <td>25</td>\n",
       "      <td>265.1</td>\n",
       "      <td>110</td>\n",
       "      <td>45.07</td>\n",
       "      <td>197.4</td>\n",
       "      <td>99</td>\n",
       "      <td>16.78</td>\n",
       "      <td>244.7</td>\n",
       "      <td>91</td>\n",
       "      <td>11.01</td>\n",
       "      <td>10.0</td>\n",
       "      <td>3</td>\n",
       "      <td>2.70</td>\n",
       "      <td>1</td>\n",
       "      <td>0</td>\n",
       "    </tr>\n",
       "    <tr>\n",
       "      <th>1</th>\n",
       "      <td>35</td>\n",
       "      <td>107</td>\n",
       "      <td>415</td>\n",
       "      <td>0</td>\n",
       "      <td>1</td>\n",
       "      <td>26</td>\n",
       "      <td>161.6</td>\n",
       "      <td>123</td>\n",
       "      <td>27.47</td>\n",
       "      <td>195.5</td>\n",
       "      <td>103</td>\n",
       "      <td>16.62</td>\n",
       "      <td>254.4</td>\n",
       "      <td>103</td>\n",
       "      <td>11.45</td>\n",
       "      <td>13.7</td>\n",
       "      <td>3</td>\n",
       "      <td>3.70</td>\n",
       "      <td>1</td>\n",
       "      <td>0</td>\n",
       "    </tr>\n",
       "    <tr>\n",
       "      <th>2</th>\n",
       "      <td>31</td>\n",
       "      <td>137</td>\n",
       "      <td>415</td>\n",
       "      <td>0</td>\n",
       "      <td>0</td>\n",
       "      <td>0</td>\n",
       "      <td>243.4</td>\n",
       "      <td>114</td>\n",
       "      <td>41.38</td>\n",
       "      <td>121.2</td>\n",
       "      <td>110</td>\n",
       "      <td>10.30</td>\n",
       "      <td>162.6</td>\n",
       "      <td>104</td>\n",
       "      <td>7.32</td>\n",
       "      <td>12.2</td>\n",
       "      <td>5</td>\n",
       "      <td>3.29</td>\n",
       "      <td>0</td>\n",
       "      <td>0</td>\n",
       "    </tr>\n",
       "    <tr>\n",
       "      <th>3</th>\n",
       "      <td>35</td>\n",
       "      <td>84</td>\n",
       "      <td>408</td>\n",
       "      <td>1</td>\n",
       "      <td>0</td>\n",
       "      <td>0</td>\n",
       "      <td>299.4</td>\n",
       "      <td>71</td>\n",
       "      <td>50.90</td>\n",
       "      <td>61.9</td>\n",
       "      <td>88</td>\n",
       "      <td>5.26</td>\n",
       "      <td>196.9</td>\n",
       "      <td>89</td>\n",
       "      <td>8.86</td>\n",
       "      <td>6.6</td>\n",
       "      <td>7</td>\n",
       "      <td>1.78</td>\n",
       "      <td>2</td>\n",
       "      <td>0</td>\n",
       "    </tr>\n",
       "    <tr>\n",
       "      <th>4</th>\n",
       "      <td>36</td>\n",
       "      <td>75</td>\n",
       "      <td>415</td>\n",
       "      <td>1</td>\n",
       "      <td>0</td>\n",
       "      <td>0</td>\n",
       "      <td>166.7</td>\n",
       "      <td>113</td>\n",
       "      <td>28.34</td>\n",
       "      <td>148.3</td>\n",
       "      <td>122</td>\n",
       "      <td>12.61</td>\n",
       "      <td>186.9</td>\n",
       "      <td>121</td>\n",
       "      <td>8.41</td>\n",
       "      <td>10.1</td>\n",
       "      <td>3</td>\n",
       "      <td>2.73</td>\n",
       "      <td>3</td>\n",
       "      <td>0</td>\n",
       "    </tr>\n",
       "  </tbody>\n",
       "</table>\n",
       "</div>"
      ],
      "text/plain": [
       "   state  account_length area_code  international_plan  voice_mail_plan  \\\n",
       "0     16             128       415                   0                1   \n",
       "1     35             107       415                   0                1   \n",
       "2     31             137       415                   0                0   \n",
       "3     35              84       408                   1                0   \n",
       "4     36              75       415                   1                0   \n",
       "\n",
       "   number_vmail_messages  total_day_minutes  total_day_calls  \\\n",
       "0                     25              265.1              110   \n",
       "1                     26              161.6              123   \n",
       "2                      0              243.4              114   \n",
       "3                      0              299.4               71   \n",
       "4                      0              166.7              113   \n",
       "\n",
       "   total_day_charge  total_eve_minutes  total_eve_calls  total_eve_charge  \\\n",
       "0             45.07              197.4               99             16.78   \n",
       "1             27.47              195.5              103             16.62   \n",
       "2             41.38              121.2              110             10.30   \n",
       "3             50.90               61.9               88              5.26   \n",
       "4             28.34              148.3              122             12.61   \n",
       "\n",
       "   total_night_minutes  total_night_calls  total_night_charge  \\\n",
       "0                244.7                 91               11.01   \n",
       "1                254.4                103               11.45   \n",
       "2                162.6                104                7.32   \n",
       "3                196.9                 89                8.86   \n",
       "4                186.9                121                8.41   \n",
       "\n",
       "   total_intl_minutes  total_intl_calls  total_intl_charge  \\\n",
       "0                10.0                 3               2.70   \n",
       "1                13.7                 3               3.70   \n",
       "2                12.2                 5               3.29   \n",
       "3                 6.6                 7               1.78   \n",
       "4                10.1                 3               2.73   \n",
       "\n",
       "   number_customer_service_calls  churn  \n",
       "0                              1      0  \n",
       "1                              1      0  \n",
       "2                              0      0  \n",
       "3                              2      0  \n",
       "4                              3      0  "
      ]
     },
     "execution_count": 33,
     "metadata": {},
     "output_type": "execute_result"
    }
   ],
   "source": [
    "# resultado no dataset de treino\n",
    "train_trans.head()"
   ]
  },
  {
   "cell_type": "code",
   "execution_count": 34,
   "metadata": {},
   "outputs": [
    {
     "data": {
      "text/html": [
       "<div>\n",
       "<style scoped>\n",
       "    .dataframe tbody tr th:only-of-type {\n",
       "        vertical-align: middle;\n",
       "    }\n",
       "\n",
       "    .dataframe tbody tr th {\n",
       "        vertical-align: top;\n",
       "    }\n",
       "\n",
       "    .dataframe thead th {\n",
       "        text-align: right;\n",
       "    }\n",
       "</style>\n",
       "<table border=\"1\" class=\"dataframe\">\n",
       "  <thead>\n",
       "    <tr style=\"text-align: right;\">\n",
       "      <th></th>\n",
       "      <th>state</th>\n",
       "      <th>account_length</th>\n",
       "      <th>area_code</th>\n",
       "      <th>international_plan</th>\n",
       "      <th>voice_mail_plan</th>\n",
       "      <th>number_vmail_messages</th>\n",
       "      <th>total_day_minutes</th>\n",
       "      <th>total_day_calls</th>\n",
       "      <th>total_day_charge</th>\n",
       "      <th>total_eve_minutes</th>\n",
       "      <th>total_eve_calls</th>\n",
       "      <th>total_eve_charge</th>\n",
       "      <th>total_night_minutes</th>\n",
       "      <th>total_night_calls</th>\n",
       "      <th>total_night_charge</th>\n",
       "      <th>total_intl_minutes</th>\n",
       "      <th>total_intl_calls</th>\n",
       "      <th>total_intl_charge</th>\n",
       "      <th>number_customer_service_calls</th>\n",
       "      <th>churn</th>\n",
       "    </tr>\n",
       "  </thead>\n",
       "  <tbody>\n",
       "    <tr>\n",
       "      <th>0</th>\n",
       "      <td>11</td>\n",
       "      <td>101</td>\n",
       "      <td>510</td>\n",
       "      <td>0</td>\n",
       "      <td>0</td>\n",
       "      <td>0</td>\n",
       "      <td>70.9</td>\n",
       "      <td>123</td>\n",
       "      <td>12.05</td>\n",
       "      <td>211.9</td>\n",
       "      <td>73</td>\n",
       "      <td>18.01</td>\n",
       "      <td>236.0</td>\n",
       "      <td>73</td>\n",
       "      <td>10.62</td>\n",
       "      <td>10.6</td>\n",
       "      <td>3</td>\n",
       "      <td>2.86</td>\n",
       "      <td>3</td>\n",
       "      <td>0</td>\n",
       "    </tr>\n",
       "    <tr>\n",
       "      <th>1</th>\n",
       "      <td>26</td>\n",
       "      <td>137</td>\n",
       "      <td>510</td>\n",
       "      <td>0</td>\n",
       "      <td>0</td>\n",
       "      <td>0</td>\n",
       "      <td>223.6</td>\n",
       "      <td>86</td>\n",
       "      <td>38.01</td>\n",
       "      <td>244.8</td>\n",
       "      <td>139</td>\n",
       "      <td>20.81</td>\n",
       "      <td>94.2</td>\n",
       "      <td>81</td>\n",
       "      <td>4.24</td>\n",
       "      <td>9.5</td>\n",
       "      <td>7</td>\n",
       "      <td>2.57</td>\n",
       "      <td>0</td>\n",
       "      <td>0</td>\n",
       "    </tr>\n",
       "    <tr>\n",
       "      <th>2</th>\n",
       "      <td>35</td>\n",
       "      <td>103</td>\n",
       "      <td>408</td>\n",
       "      <td>0</td>\n",
       "      <td>1</td>\n",
       "      <td>29</td>\n",
       "      <td>294.7</td>\n",
       "      <td>95</td>\n",
       "      <td>50.10</td>\n",
       "      <td>237.3</td>\n",
       "      <td>105</td>\n",
       "      <td>20.17</td>\n",
       "      <td>300.3</td>\n",
       "      <td>127</td>\n",
       "      <td>13.51</td>\n",
       "      <td>13.7</td>\n",
       "      <td>6</td>\n",
       "      <td>3.70</td>\n",
       "      <td>1</td>\n",
       "      <td>0</td>\n",
       "    </tr>\n",
       "    <tr>\n",
       "      <th>3</th>\n",
       "      <td>32</td>\n",
       "      <td>99</td>\n",
       "      <td>415</td>\n",
       "      <td>0</td>\n",
       "      <td>0</td>\n",
       "      <td>0</td>\n",
       "      <td>216.8</td>\n",
       "      <td>123</td>\n",
       "      <td>36.86</td>\n",
       "      <td>126.4</td>\n",
       "      <td>88</td>\n",
       "      <td>10.74</td>\n",
       "      <td>220.6</td>\n",
       "      <td>82</td>\n",
       "      <td>9.93</td>\n",
       "      <td>15.7</td>\n",
       "      <td>2</td>\n",
       "      <td>4.24</td>\n",
       "      <td>1</td>\n",
       "      <td>0</td>\n",
       "    </tr>\n",
       "    <tr>\n",
       "      <th>4</th>\n",
       "      <td>40</td>\n",
       "      <td>108</td>\n",
       "      <td>415</td>\n",
       "      <td>0</td>\n",
       "      <td>0</td>\n",
       "      <td>0</td>\n",
       "      <td>197.4</td>\n",
       "      <td>78</td>\n",
       "      <td>33.56</td>\n",
       "      <td>124.0</td>\n",
       "      <td>101</td>\n",
       "      <td>10.54</td>\n",
       "      <td>204.5</td>\n",
       "      <td>107</td>\n",
       "      <td>9.20</td>\n",
       "      <td>7.7</td>\n",
       "      <td>4</td>\n",
       "      <td>2.08</td>\n",
       "      <td>2</td>\n",
       "      <td>0</td>\n",
       "    </tr>\n",
       "  </tbody>\n",
       "</table>\n",
       "</div>"
      ],
      "text/plain": [
       "   state  account_length area_code  international_plan  voice_mail_plan  \\\n",
       "0     11             101       510                   0                0   \n",
       "1     26             137       510                   0                0   \n",
       "2     35             103       408                   0                1   \n",
       "3     32              99       415                   0                0   \n",
       "4     40             108       415                   0                0   \n",
       "\n",
       "   number_vmail_messages  total_day_minutes  total_day_calls  \\\n",
       "0                      0               70.9              123   \n",
       "1                      0              223.6               86   \n",
       "2                     29              294.7               95   \n",
       "3                      0              216.8              123   \n",
       "4                      0              197.4               78   \n",
       "\n",
       "   total_day_charge  total_eve_minutes  total_eve_calls  total_eve_charge  \\\n",
       "0             12.05              211.9               73             18.01   \n",
       "1             38.01              244.8              139             20.81   \n",
       "2             50.10              237.3              105             20.17   \n",
       "3             36.86              126.4               88             10.74   \n",
       "4             33.56              124.0              101             10.54   \n",
       "\n",
       "   total_night_minutes  total_night_calls  total_night_charge  \\\n",
       "0                236.0                 73               10.62   \n",
       "1                 94.2                 81                4.24   \n",
       "2                300.3                127               13.51   \n",
       "3                220.6                 82                9.93   \n",
       "4                204.5                107                9.20   \n",
       "\n",
       "   total_intl_minutes  total_intl_calls  total_intl_charge  \\\n",
       "0                10.6                 3               2.86   \n",
       "1                 9.5                 7               2.57   \n",
       "2                13.7                 6               3.70   \n",
       "3                15.7                 2               4.24   \n",
       "4                 7.7                 4               2.08   \n",
       "\n",
       "   number_customer_service_calls  churn  \n",
       "0                              3      0  \n",
       "1                              0      0  \n",
       "2                              1      0  \n",
       "3                              1      0  \n",
       "4                              2      0  "
      ]
     },
     "execution_count": 34,
     "metadata": {},
     "output_type": "execute_result"
    }
   ],
   "source": [
    "# resultado no dataset de teste\n",
    "test_trans.head()"
   ]
  },
  {
   "cell_type": "markdown",
   "metadata": {},
   "source": [
    "### 4.9.2 Correlações"
   ]
  },
  {
   "cell_type": "code",
   "execution_count": 35,
   "metadata": {},
   "outputs": [
    {
     "data": {
      "text/html": [
       "<div>\n",
       "<style scoped>\n",
       "    .dataframe tbody tr th:only-of-type {\n",
       "        vertical-align: middle;\n",
       "    }\n",
       "\n",
       "    .dataframe tbody tr th {\n",
       "        vertical-align: top;\n",
       "    }\n",
       "\n",
       "    .dataframe thead th {\n",
       "        text-align: right;\n",
       "    }\n",
       "</style>\n",
       "<table border=\"1\" class=\"dataframe\">\n",
       "  <thead>\n",
       "    <tr style=\"text-align: right;\">\n",
       "      <th></th>\n",
       "      <th>state</th>\n",
       "      <th>account_length</th>\n",
       "      <th>international_plan</th>\n",
       "      <th>voice_mail_plan</th>\n",
       "      <th>number_vmail_messages</th>\n",
       "      <th>total_day_minutes</th>\n",
       "      <th>total_day_calls</th>\n",
       "      <th>total_day_charge</th>\n",
       "      <th>total_eve_minutes</th>\n",
       "      <th>total_eve_calls</th>\n",
       "      <th>total_eve_charge</th>\n",
       "      <th>total_night_minutes</th>\n",
       "      <th>total_night_calls</th>\n",
       "      <th>total_night_charge</th>\n",
       "      <th>total_intl_minutes</th>\n",
       "      <th>total_intl_calls</th>\n",
       "      <th>total_intl_charge</th>\n",
       "      <th>number_customer_service_calls</th>\n",
       "      <th>churn</th>\n",
       "    </tr>\n",
       "  </thead>\n",
       "  <tbody>\n",
       "    <tr>\n",
       "      <th>state</th>\n",
       "      <td>1.000000</td>\n",
       "      <td>0.003678</td>\n",
       "      <td>-0.004597</td>\n",
       "      <td>-0.031664</td>\n",
       "      <td>-0.027762</td>\n",
       "      <td>-0.006737</td>\n",
       "      <td>-0.000764</td>\n",
       "      <td>-0.006736</td>\n",
       "      <td>0.013682</td>\n",
       "      <td>-0.016268</td>\n",
       "      <td>0.013674</td>\n",
       "      <td>0.024576</td>\n",
       "      <td>0.007458</td>\n",
       "      <td>0.024572</td>\n",
       "      <td>-0.007834</td>\n",
       "      <td>0.013967</td>\n",
       "      <td>-0.007819</td>\n",
       "      <td>-0.025861</td>\n",
       "      <td>0.007780</td>\n",
       "    </tr>\n",
       "    <tr>\n",
       "      <th>account_length</th>\n",
       "      <td>0.003678</td>\n",
       "      <td>1.000000</td>\n",
       "      <td>0.024735</td>\n",
       "      <td>0.002918</td>\n",
       "      <td>-0.004628</td>\n",
       "      <td>0.006216</td>\n",
       "      <td>0.038470</td>\n",
       "      <td>0.006214</td>\n",
       "      <td>-0.006757</td>\n",
       "      <td>0.019260</td>\n",
       "      <td>-0.006745</td>\n",
       "      <td>-0.008955</td>\n",
       "      <td>-0.013176</td>\n",
       "      <td>-0.008960</td>\n",
       "      <td>0.009514</td>\n",
       "      <td>0.020661</td>\n",
       "      <td>0.009546</td>\n",
       "      <td>-0.003796</td>\n",
       "      <td>0.016541</td>\n",
       "    </tr>\n",
       "    <tr>\n",
       "      <th>international_plan</th>\n",
       "      <td>-0.004597</td>\n",
       "      <td>0.024735</td>\n",
       "      <td>1.000000</td>\n",
       "      <td>0.006006</td>\n",
       "      <td>0.008745</td>\n",
       "      <td>0.049396</td>\n",
       "      <td>0.003755</td>\n",
       "      <td>0.049398</td>\n",
       "      <td>0.019100</td>\n",
       "      <td>0.006114</td>\n",
       "      <td>0.019106</td>\n",
       "      <td>-0.028905</td>\n",
       "      <td>0.012451</td>\n",
       "      <td>-0.028913</td>\n",
       "      <td>0.045871</td>\n",
       "      <td>0.017366</td>\n",
       "      <td>0.045780</td>\n",
       "      <td>-0.024522</td>\n",
       "      <td>0.259852</td>\n",
       "    </tr>\n",
       "    <tr>\n",
       "      <th>voice_mail_plan</th>\n",
       "      <td>-0.031664</td>\n",
       "      <td>0.002918</td>\n",
       "      <td>0.006006</td>\n",
       "      <td>1.000000</td>\n",
       "      <td>0.956927</td>\n",
       "      <td>-0.001684</td>\n",
       "      <td>-0.011086</td>\n",
       "      <td>-0.001686</td>\n",
       "      <td>0.021545</td>\n",
       "      <td>-0.006444</td>\n",
       "      <td>0.021559</td>\n",
       "      <td>0.006079</td>\n",
       "      <td>0.015553</td>\n",
       "      <td>0.006064</td>\n",
       "      <td>-0.001318</td>\n",
       "      <td>0.007618</td>\n",
       "      <td>-0.001276</td>\n",
       "      <td>-0.017824</td>\n",
       "      <td>-0.102148</td>\n",
       "    </tr>\n",
       "    <tr>\n",
       "      <th>number_vmail_messages</th>\n",
       "      <td>-0.027762</td>\n",
       "      <td>-0.004628</td>\n",
       "      <td>0.008745</td>\n",
       "      <td>0.956927</td>\n",
       "      <td>1.000000</td>\n",
       "      <td>0.000778</td>\n",
       "      <td>-0.009548</td>\n",
       "      <td>0.000776</td>\n",
       "      <td>0.017562</td>\n",
       "      <td>-0.005864</td>\n",
       "      <td>0.017578</td>\n",
       "      <td>0.007681</td>\n",
       "      <td>0.007123</td>\n",
       "      <td>0.007663</td>\n",
       "      <td>0.002856</td>\n",
       "      <td>0.013957</td>\n",
       "      <td>0.002884</td>\n",
       "      <td>-0.013263</td>\n",
       "      <td>-0.089728</td>\n",
       "    </tr>\n",
       "    <tr>\n",
       "      <th>total_day_minutes</th>\n",
       "      <td>-0.006737</td>\n",
       "      <td>0.006216</td>\n",
       "      <td>0.049396</td>\n",
       "      <td>-0.001684</td>\n",
       "      <td>0.000778</td>\n",
       "      <td>1.000000</td>\n",
       "      <td>0.006750</td>\n",
       "      <td>1.000000</td>\n",
       "      <td>0.007043</td>\n",
       "      <td>0.015769</td>\n",
       "      <td>0.007029</td>\n",
       "      <td>0.004323</td>\n",
       "      <td>0.022972</td>\n",
       "      <td>0.004300</td>\n",
       "      <td>-0.010155</td>\n",
       "      <td>0.008033</td>\n",
       "      <td>-0.010092</td>\n",
       "      <td>-0.013423</td>\n",
       "      <td>0.205151</td>\n",
       "    </tr>\n",
       "    <tr>\n",
       "      <th>total_day_calls</th>\n",
       "      <td>-0.000764</td>\n",
       "      <td>0.038470</td>\n",
       "      <td>0.003755</td>\n",
       "      <td>-0.011086</td>\n",
       "      <td>-0.009548</td>\n",
       "      <td>0.006750</td>\n",
       "      <td>1.000000</td>\n",
       "      <td>0.006753</td>\n",
       "      <td>-0.021451</td>\n",
       "      <td>0.006462</td>\n",
       "      <td>-0.021449</td>\n",
       "      <td>0.022938</td>\n",
       "      <td>-0.019557</td>\n",
       "      <td>0.022927</td>\n",
       "      <td>0.021565</td>\n",
       "      <td>0.004574</td>\n",
       "      <td>0.021666</td>\n",
       "      <td>-0.018942</td>\n",
       "      <td>0.018459</td>\n",
       "    </tr>\n",
       "    <tr>\n",
       "      <th>total_day_charge</th>\n",
       "      <td>-0.006736</td>\n",
       "      <td>0.006214</td>\n",
       "      <td>0.049398</td>\n",
       "      <td>-0.001686</td>\n",
       "      <td>0.000776</td>\n",
       "      <td>1.000000</td>\n",
       "      <td>0.006753</td>\n",
       "      <td>1.000000</td>\n",
       "      <td>0.007050</td>\n",
       "      <td>0.015769</td>\n",
       "      <td>0.007036</td>\n",
       "      <td>0.004324</td>\n",
       "      <td>0.022972</td>\n",
       "      <td>0.004301</td>\n",
       "      <td>-0.010157</td>\n",
       "      <td>0.008032</td>\n",
       "      <td>-0.010094</td>\n",
       "      <td>-0.013427</td>\n",
       "      <td>0.205151</td>\n",
       "    </tr>\n",
       "    <tr>\n",
       "      <th>total_eve_minutes</th>\n",
       "      <td>0.013682</td>\n",
       "      <td>-0.006757</td>\n",
       "      <td>0.019100</td>\n",
       "      <td>0.021545</td>\n",
       "      <td>0.017562</td>\n",
       "      <td>0.007043</td>\n",
       "      <td>-0.021451</td>\n",
       "      <td>0.007050</td>\n",
       "      <td>1.000000</td>\n",
       "      <td>-0.011430</td>\n",
       "      <td>1.000000</td>\n",
       "      <td>-0.012584</td>\n",
       "      <td>0.007586</td>\n",
       "      <td>-0.012593</td>\n",
       "      <td>-0.011035</td>\n",
       "      <td>0.002541</td>\n",
       "      <td>-0.011067</td>\n",
       "      <td>-0.012985</td>\n",
       "      <td>0.092796</td>\n",
       "    </tr>\n",
       "    <tr>\n",
       "      <th>total_eve_calls</th>\n",
       "      <td>-0.016268</td>\n",
       "      <td>0.019260</td>\n",
       "      <td>0.006114</td>\n",
       "      <td>-0.006444</td>\n",
       "      <td>-0.005864</td>\n",
       "      <td>0.015769</td>\n",
       "      <td>0.006462</td>\n",
       "      <td>0.015769</td>\n",
       "      <td>-0.011430</td>\n",
       "      <td>1.000000</td>\n",
       "      <td>-0.011423</td>\n",
       "      <td>-0.002093</td>\n",
       "      <td>0.007710</td>\n",
       "      <td>-0.002056</td>\n",
       "      <td>0.008703</td>\n",
       "      <td>0.017434</td>\n",
       "      <td>0.008674</td>\n",
       "      <td>0.002423</td>\n",
       "      <td>0.009233</td>\n",
       "    </tr>\n",
       "    <tr>\n",
       "      <th>total_eve_charge</th>\n",
       "      <td>0.013674</td>\n",
       "      <td>-0.006745</td>\n",
       "      <td>0.019106</td>\n",
       "      <td>0.021559</td>\n",
       "      <td>0.017578</td>\n",
       "      <td>0.007029</td>\n",
       "      <td>-0.021449</td>\n",
       "      <td>0.007036</td>\n",
       "      <td>1.000000</td>\n",
       "      <td>-0.011423</td>\n",
       "      <td>1.000000</td>\n",
       "      <td>-0.012592</td>\n",
       "      <td>0.007596</td>\n",
       "      <td>-0.012601</td>\n",
       "      <td>-0.011043</td>\n",
       "      <td>0.002541</td>\n",
       "      <td>-0.011074</td>\n",
       "      <td>-0.012987</td>\n",
       "      <td>0.092786</td>\n",
       "    </tr>\n",
       "    <tr>\n",
       "      <th>total_night_minutes</th>\n",
       "      <td>0.024576</td>\n",
       "      <td>-0.008955</td>\n",
       "      <td>-0.028905</td>\n",
       "      <td>0.006079</td>\n",
       "      <td>0.007681</td>\n",
       "      <td>0.004323</td>\n",
       "      <td>0.022938</td>\n",
       "      <td>0.004324</td>\n",
       "      <td>-0.012584</td>\n",
       "      <td>-0.002093</td>\n",
       "      <td>-0.012592</td>\n",
       "      <td>1.000000</td>\n",
       "      <td>0.011204</td>\n",
       "      <td>0.999999</td>\n",
       "      <td>-0.015207</td>\n",
       "      <td>-0.012353</td>\n",
       "      <td>-0.015180</td>\n",
       "      <td>-0.009288</td>\n",
       "      <td>0.035493</td>\n",
       "    </tr>\n",
       "    <tr>\n",
       "      <th>total_night_calls</th>\n",
       "      <td>0.007458</td>\n",
       "      <td>-0.013176</td>\n",
       "      <td>0.012451</td>\n",
       "      <td>0.015553</td>\n",
       "      <td>0.007123</td>\n",
       "      <td>0.022972</td>\n",
       "      <td>-0.019557</td>\n",
       "      <td>0.022972</td>\n",
       "      <td>0.007586</td>\n",
       "      <td>0.007710</td>\n",
       "      <td>0.007596</td>\n",
       "      <td>0.011204</td>\n",
       "      <td>1.000000</td>\n",
       "      <td>0.011188</td>\n",
       "      <td>-0.013605</td>\n",
       "      <td>0.000305</td>\n",
       "      <td>-0.013630</td>\n",
       "      <td>-0.012802</td>\n",
       "      <td>0.006141</td>\n",
       "    </tr>\n",
       "    <tr>\n",
       "      <th>total_night_charge</th>\n",
       "      <td>0.024572</td>\n",
       "      <td>-0.008960</td>\n",
       "      <td>-0.028913</td>\n",
       "      <td>0.006064</td>\n",
       "      <td>0.007663</td>\n",
       "      <td>0.004300</td>\n",
       "      <td>0.022927</td>\n",
       "      <td>0.004301</td>\n",
       "      <td>-0.012593</td>\n",
       "      <td>-0.002056</td>\n",
       "      <td>-0.012601</td>\n",
       "      <td>0.999999</td>\n",
       "      <td>0.011188</td>\n",
       "      <td>1.000000</td>\n",
       "      <td>-0.015214</td>\n",
       "      <td>-0.012329</td>\n",
       "      <td>-0.015186</td>\n",
       "      <td>-0.009277</td>\n",
       "      <td>0.035496</td>\n",
       "    </tr>\n",
       "    <tr>\n",
       "      <th>total_intl_minutes</th>\n",
       "      <td>-0.007834</td>\n",
       "      <td>0.009514</td>\n",
       "      <td>0.045871</td>\n",
       "      <td>-0.001318</td>\n",
       "      <td>0.002856</td>\n",
       "      <td>-0.010155</td>\n",
       "      <td>0.021565</td>\n",
       "      <td>-0.010157</td>\n",
       "      <td>-0.011035</td>\n",
       "      <td>0.008703</td>\n",
       "      <td>-0.011043</td>\n",
       "      <td>-0.015207</td>\n",
       "      <td>-0.013605</td>\n",
       "      <td>-0.015214</td>\n",
       "      <td>1.000000</td>\n",
       "      <td>0.032304</td>\n",
       "      <td>0.999993</td>\n",
       "      <td>-0.009640</td>\n",
       "      <td>0.068239</td>\n",
       "    </tr>\n",
       "    <tr>\n",
       "      <th>total_intl_calls</th>\n",
       "      <td>0.013967</td>\n",
       "      <td>0.020661</td>\n",
       "      <td>0.017366</td>\n",
       "      <td>0.007618</td>\n",
       "      <td>0.013957</td>\n",
       "      <td>0.008033</td>\n",
       "      <td>0.004574</td>\n",
       "      <td>0.008032</td>\n",
       "      <td>0.002541</td>\n",
       "      <td>0.017434</td>\n",
       "      <td>0.002541</td>\n",
       "      <td>-0.012353</td>\n",
       "      <td>0.000305</td>\n",
       "      <td>-0.012329</td>\n",
       "      <td>0.032304</td>\n",
       "      <td>1.000000</td>\n",
       "      <td>0.032372</td>\n",
       "      <td>-0.017561</td>\n",
       "      <td>-0.052844</td>\n",
       "    </tr>\n",
       "    <tr>\n",
       "      <th>total_intl_charge</th>\n",
       "      <td>-0.007819</td>\n",
       "      <td>0.009546</td>\n",
       "      <td>0.045780</td>\n",
       "      <td>-0.001276</td>\n",
       "      <td>0.002884</td>\n",
       "      <td>-0.010092</td>\n",
       "      <td>0.021666</td>\n",
       "      <td>-0.010094</td>\n",
       "      <td>-0.011067</td>\n",
       "      <td>0.008674</td>\n",
       "      <td>-0.011074</td>\n",
       "      <td>-0.015180</td>\n",
       "      <td>-0.013630</td>\n",
       "      <td>-0.015186</td>\n",
       "      <td>0.999993</td>\n",
       "      <td>0.032372</td>\n",
       "      <td>1.000000</td>\n",
       "      <td>-0.009675</td>\n",
       "      <td>0.068259</td>\n",
       "    </tr>\n",
       "    <tr>\n",
       "      <th>number_customer_service_calls</th>\n",
       "      <td>-0.025861</td>\n",
       "      <td>-0.003796</td>\n",
       "      <td>-0.024522</td>\n",
       "      <td>-0.017824</td>\n",
       "      <td>-0.013263</td>\n",
       "      <td>-0.013423</td>\n",
       "      <td>-0.018942</td>\n",
       "      <td>-0.013427</td>\n",
       "      <td>-0.012985</td>\n",
       "      <td>0.002423</td>\n",
       "      <td>-0.012987</td>\n",
       "      <td>-0.009288</td>\n",
       "      <td>-0.012802</td>\n",
       "      <td>-0.009277</td>\n",
       "      <td>-0.009640</td>\n",
       "      <td>-0.017561</td>\n",
       "      <td>-0.009675</td>\n",
       "      <td>1.000000</td>\n",
       "      <td>0.208750</td>\n",
       "    </tr>\n",
       "    <tr>\n",
       "      <th>churn</th>\n",
       "      <td>0.007780</td>\n",
       "      <td>0.016541</td>\n",
       "      <td>0.259852</td>\n",
       "      <td>-0.102148</td>\n",
       "      <td>-0.089728</td>\n",
       "      <td>0.205151</td>\n",
       "      <td>0.018459</td>\n",
       "      <td>0.205151</td>\n",
       "      <td>0.092796</td>\n",
       "      <td>0.009233</td>\n",
       "      <td>0.092786</td>\n",
       "      <td>0.035493</td>\n",
       "      <td>0.006141</td>\n",
       "      <td>0.035496</td>\n",
       "      <td>0.068239</td>\n",
       "      <td>-0.052844</td>\n",
       "      <td>0.068259</td>\n",
       "      <td>0.208750</td>\n",
       "      <td>1.000000</td>\n",
       "    </tr>\n",
       "  </tbody>\n",
       "</table>\n",
       "</div>"
      ],
      "text/plain": [
       "                                  state  account_length  international_plan  \\\n",
       "state                          1.000000        0.003678           -0.004597   \n",
       "account_length                 0.003678        1.000000            0.024735   \n",
       "international_plan            -0.004597        0.024735            1.000000   \n",
       "voice_mail_plan               -0.031664        0.002918            0.006006   \n",
       "number_vmail_messages         -0.027762       -0.004628            0.008745   \n",
       "total_day_minutes             -0.006737        0.006216            0.049396   \n",
       "total_day_calls               -0.000764        0.038470            0.003755   \n",
       "total_day_charge              -0.006736        0.006214            0.049398   \n",
       "total_eve_minutes              0.013682       -0.006757            0.019100   \n",
       "total_eve_calls               -0.016268        0.019260            0.006114   \n",
       "total_eve_charge               0.013674       -0.006745            0.019106   \n",
       "total_night_minutes            0.024576       -0.008955           -0.028905   \n",
       "total_night_calls              0.007458       -0.013176            0.012451   \n",
       "total_night_charge             0.024572       -0.008960           -0.028913   \n",
       "total_intl_minutes            -0.007834        0.009514            0.045871   \n",
       "total_intl_calls               0.013967        0.020661            0.017366   \n",
       "total_intl_charge             -0.007819        0.009546            0.045780   \n",
       "number_customer_service_calls -0.025861       -0.003796           -0.024522   \n",
       "churn                          0.007780        0.016541            0.259852   \n",
       "\n",
       "                               voice_mail_plan  number_vmail_messages  \\\n",
       "state                                -0.031664              -0.027762   \n",
       "account_length                        0.002918              -0.004628   \n",
       "international_plan                    0.006006               0.008745   \n",
       "voice_mail_plan                       1.000000               0.956927   \n",
       "number_vmail_messages                 0.956927               1.000000   \n",
       "total_day_minutes                    -0.001684               0.000778   \n",
       "total_day_calls                      -0.011086              -0.009548   \n",
       "total_day_charge                     -0.001686               0.000776   \n",
       "total_eve_minutes                     0.021545               0.017562   \n",
       "total_eve_calls                      -0.006444              -0.005864   \n",
       "total_eve_charge                      0.021559               0.017578   \n",
       "total_night_minutes                   0.006079               0.007681   \n",
       "total_night_calls                     0.015553               0.007123   \n",
       "total_night_charge                    0.006064               0.007663   \n",
       "total_intl_minutes                   -0.001318               0.002856   \n",
       "total_intl_calls                      0.007618               0.013957   \n",
       "total_intl_charge                    -0.001276               0.002884   \n",
       "number_customer_service_calls        -0.017824              -0.013263   \n",
       "churn                                -0.102148              -0.089728   \n",
       "\n",
       "                               total_day_minutes  total_day_calls  \\\n",
       "state                                  -0.006737        -0.000764   \n",
       "account_length                          0.006216         0.038470   \n",
       "international_plan                      0.049396         0.003755   \n",
       "voice_mail_plan                        -0.001684        -0.011086   \n",
       "number_vmail_messages                   0.000778        -0.009548   \n",
       "total_day_minutes                       1.000000         0.006750   \n",
       "total_day_calls                         0.006750         1.000000   \n",
       "total_day_charge                        1.000000         0.006753   \n",
       "total_eve_minutes                       0.007043        -0.021451   \n",
       "total_eve_calls                         0.015769         0.006462   \n",
       "total_eve_charge                        0.007029        -0.021449   \n",
       "total_night_minutes                     0.004323         0.022938   \n",
       "total_night_calls                       0.022972        -0.019557   \n",
       "total_night_charge                      0.004300         0.022927   \n",
       "total_intl_minutes                     -0.010155         0.021565   \n",
       "total_intl_calls                        0.008033         0.004574   \n",
       "total_intl_charge                      -0.010092         0.021666   \n",
       "number_customer_service_calls          -0.013423        -0.018942   \n",
       "churn                                   0.205151         0.018459   \n",
       "\n",
       "                               total_day_charge  total_eve_minutes  \\\n",
       "state                                 -0.006736           0.013682   \n",
       "account_length                         0.006214          -0.006757   \n",
       "international_plan                     0.049398           0.019100   \n",
       "voice_mail_plan                       -0.001686           0.021545   \n",
       "number_vmail_messages                  0.000776           0.017562   \n",
       "total_day_minutes                      1.000000           0.007043   \n",
       "total_day_calls                        0.006753          -0.021451   \n",
       "total_day_charge                       1.000000           0.007050   \n",
       "total_eve_minutes                      0.007050           1.000000   \n",
       "total_eve_calls                        0.015769          -0.011430   \n",
       "total_eve_charge                       0.007036           1.000000   \n",
       "total_night_minutes                    0.004324          -0.012584   \n",
       "total_night_calls                      0.022972           0.007586   \n",
       "total_night_charge                     0.004301          -0.012593   \n",
       "total_intl_minutes                    -0.010157          -0.011035   \n",
       "total_intl_calls                       0.008032           0.002541   \n",
       "total_intl_charge                     -0.010094          -0.011067   \n",
       "number_customer_service_calls         -0.013427          -0.012985   \n",
       "churn                                  0.205151           0.092796   \n",
       "\n",
       "                               total_eve_calls  total_eve_charge  \\\n",
       "state                                -0.016268          0.013674   \n",
       "account_length                        0.019260         -0.006745   \n",
       "international_plan                    0.006114          0.019106   \n",
       "voice_mail_plan                      -0.006444          0.021559   \n",
       "number_vmail_messages                -0.005864          0.017578   \n",
       "total_day_minutes                     0.015769          0.007029   \n",
       "total_day_calls                       0.006462         -0.021449   \n",
       "total_day_charge                      0.015769          0.007036   \n",
       "total_eve_minutes                    -0.011430          1.000000   \n",
       "total_eve_calls                       1.000000         -0.011423   \n",
       "total_eve_charge                     -0.011423          1.000000   \n",
       "total_night_minutes                  -0.002093         -0.012592   \n",
       "total_night_calls                     0.007710          0.007596   \n",
       "total_night_charge                   -0.002056         -0.012601   \n",
       "total_intl_minutes                    0.008703         -0.011043   \n",
       "total_intl_calls                      0.017434          0.002541   \n",
       "total_intl_charge                     0.008674         -0.011074   \n",
       "number_customer_service_calls         0.002423         -0.012987   \n",
       "churn                                 0.009233          0.092786   \n",
       "\n",
       "                               total_night_minutes  total_night_calls  \\\n",
       "state                                     0.024576           0.007458   \n",
       "account_length                           -0.008955          -0.013176   \n",
       "international_plan                       -0.028905           0.012451   \n",
       "voice_mail_plan                           0.006079           0.015553   \n",
       "number_vmail_messages                     0.007681           0.007123   \n",
       "total_day_minutes                         0.004323           0.022972   \n",
       "total_day_calls                           0.022938          -0.019557   \n",
       "total_day_charge                          0.004324           0.022972   \n",
       "total_eve_minutes                        -0.012584           0.007586   \n",
       "total_eve_calls                          -0.002093           0.007710   \n",
       "total_eve_charge                         -0.012592           0.007596   \n",
       "total_night_minutes                       1.000000           0.011204   \n",
       "total_night_calls                         0.011204           1.000000   \n",
       "total_night_charge                        0.999999           0.011188   \n",
       "total_intl_minutes                       -0.015207          -0.013605   \n",
       "total_intl_calls                         -0.012353           0.000305   \n",
       "total_intl_charge                        -0.015180          -0.013630   \n",
       "number_customer_service_calls            -0.009288          -0.012802   \n",
       "churn                                     0.035493           0.006141   \n",
       "\n",
       "                               total_night_charge  total_intl_minutes  \\\n",
       "state                                    0.024572           -0.007834   \n",
       "account_length                          -0.008960            0.009514   \n",
       "international_plan                      -0.028913            0.045871   \n",
       "voice_mail_plan                          0.006064           -0.001318   \n",
       "number_vmail_messages                    0.007663            0.002856   \n",
       "total_day_minutes                        0.004300           -0.010155   \n",
       "total_day_calls                          0.022927            0.021565   \n",
       "total_day_charge                         0.004301           -0.010157   \n",
       "total_eve_minutes                       -0.012593           -0.011035   \n",
       "total_eve_calls                         -0.002056            0.008703   \n",
       "total_eve_charge                        -0.012601           -0.011043   \n",
       "total_night_minutes                      0.999999           -0.015207   \n",
       "total_night_calls                        0.011188           -0.013605   \n",
       "total_night_charge                       1.000000           -0.015214   \n",
       "total_intl_minutes                      -0.015214            1.000000   \n",
       "total_intl_calls                        -0.012329            0.032304   \n",
       "total_intl_charge                       -0.015186            0.999993   \n",
       "number_customer_service_calls           -0.009277           -0.009640   \n",
       "churn                                    0.035496            0.068239   \n",
       "\n",
       "                               total_intl_calls  total_intl_charge  \\\n",
       "state                                  0.013967          -0.007819   \n",
       "account_length                         0.020661           0.009546   \n",
       "international_plan                     0.017366           0.045780   \n",
       "voice_mail_plan                        0.007618          -0.001276   \n",
       "number_vmail_messages                  0.013957           0.002884   \n",
       "total_day_minutes                      0.008033          -0.010092   \n",
       "total_day_calls                        0.004574           0.021666   \n",
       "total_day_charge                       0.008032          -0.010094   \n",
       "total_eve_minutes                      0.002541          -0.011067   \n",
       "total_eve_calls                        0.017434           0.008674   \n",
       "total_eve_charge                       0.002541          -0.011074   \n",
       "total_night_minutes                   -0.012353          -0.015180   \n",
       "total_night_calls                      0.000305          -0.013630   \n",
       "total_night_charge                    -0.012329          -0.015186   \n",
       "total_intl_minutes                     0.032304           0.999993   \n",
       "total_intl_calls                       1.000000           0.032372   \n",
       "total_intl_charge                      0.032372           1.000000   \n",
       "number_customer_service_calls         -0.017561          -0.009675   \n",
       "churn                                 -0.052844           0.068259   \n",
       "\n",
       "                               number_customer_service_calls     churn  \n",
       "state                                              -0.025861  0.007780  \n",
       "account_length                                     -0.003796  0.016541  \n",
       "international_plan                                 -0.024522  0.259852  \n",
       "voice_mail_plan                                    -0.017824 -0.102148  \n",
       "number_vmail_messages                              -0.013263 -0.089728  \n",
       "total_day_minutes                                  -0.013423  0.205151  \n",
       "total_day_calls                                    -0.018942  0.018459  \n",
       "total_day_charge                                   -0.013427  0.205151  \n",
       "total_eve_minutes                                  -0.012985  0.092796  \n",
       "total_eve_calls                                     0.002423  0.009233  \n",
       "total_eve_charge                                   -0.012987  0.092786  \n",
       "total_night_minutes                                -0.009288  0.035493  \n",
       "total_night_calls                                  -0.012802  0.006141  \n",
       "total_night_charge                                 -0.009277  0.035496  \n",
       "total_intl_minutes                                 -0.009640  0.068239  \n",
       "total_intl_calls                                   -0.017561 -0.052844  \n",
       "total_intl_charge                                  -0.009675  0.068259  \n",
       "number_customer_service_calls                       1.000000  0.208750  \n",
       "churn                                               0.208750  1.000000  "
      ]
     },
     "execution_count": 35,
     "metadata": {},
     "output_type": "execute_result"
    }
   ],
   "source": [
    "# gerando matrix com as correlações\n",
    "train_corr = train_trans.corr()\n",
    "train_corr"
   ]
  },
  {
   "cell_type": "code",
   "execution_count": 36,
   "metadata": {},
   "outputs": [
    {
     "data": {
      "image/png": "[encoded data removed]",
      "text/plain": [
       "<Figure size 864x720 with 2 Axes>"
      ]
     },
     "metadata": {
      "needs_background": "light"
     },
     "output_type": "display_data"
    }
   ],
   "source": [
    "# imprimindo visualmente o resultado\n",
    "plt.figure(figsize = (12, 10))\n",
    "sns.heatmap(train_corr)\n",
    "plt.show()"
   ]
  },
  {
   "cell_type": "markdown",
   "metadata": {},
   "source": [
    "Existe uma correlação perfeitamente positiva entre o total de minutos gasto por período e recarga para aquele mesmo período."
   ]
  },
  {
   "cell_type": "markdown",
   "metadata": {},
   "source": [
    "# 5.0 Features Extraction"
   ]
  },
  {
   "cell_type": "markdown",
   "metadata": {},
   "source": [
    "Como visto no item anterior, existem em nosso dataset variáveis colineares, isso significa que, essas variáveis possuem relações lineares exatas ou aproximadamente exatas."
   ]
  },
  {
   "cell_type": "markdown",
   "metadata": {},
   "source": [
    "Pontanto, uma das variáveis que possuirem correlação superior a |0.95| será eliminada. Isso é feito pois são variáveis que apresentaram a mesma informação para o modelo posteriormente."
   ]
  },
  {
   "cell_type": "code",
   "execution_count": 37,
   "metadata": {},
   "outputs": [
    {
     "name": "stdout",
     "output_type": "stream",
     "text": [
      "(3333, 15) (1667, 15)\n"
     ]
    }
   ],
   "source": [
    "# pegando a porção superior da matrix de correlação\n",
    "train_corr        = train_corr.where(np.triu(np.ones(train_corr.shape), k = 1).astype('bool'))\n",
    "\n",
    "# selecionando as variáveis que possuem correlação superior a 0.95\n",
    "colinear_features = [col for col in train_corr.columns if any(train_corr[col] > 0.95)]\n",
    "\n",
    "# eliminando essas variáveis dos datasets\n",
    "train_trans = train_trans.drop(colinear_features, axis = 1)\n",
    "test_trans  = test_trans.drop(colinear_features,  axis = 1)\n",
    "print(train_trans.shape, test_trans.shape)"
   ]
  },
  {
   "cell_type": "markdown",
   "metadata": {},
   "source": [
    "O dataset possuia **20 colunas**, com a eliminação das variáveis colineares o dataset passa a possuir **15 colunas**."
   ]
  },
  {
   "cell_type": "markdown",
   "metadata": {},
   "source": [
    "# 6.0 Feature Selection"
   ]
  },
  {
   "cell_type": "markdown",
   "metadata": {},
   "source": [
    "A feature selection (seleção de variáveis) é o processo de selecionar um subconjunto de variáveis relevantes para uso na construção de modelo. As técnicas de seleção de recursos são usadas por vários motivos:"
   ]
  },
  {
   "cell_type": "markdown",
   "metadata": {},
   "source": [
    "* Simplificação dos modelos para torná-los mais fáceis de serem interpretados\n",
    "\n",
    "* Menor tempo de treinamento\n",
    "\n",
    "* Evitar a maldição da dimensionalidade\n",
    "\n",
    "* Tornar o modelo o mais generalizável possível, evitando o overfitting\n",
    "\n",
    "* De múltiplas explicações adequadas e possíveis para o mesmo conjunto de fatos, deve-se optar pela mais simples daquelas (princípio de Occam's Razor)"
   ]
  },
  {
   "cell_type": "markdown",
   "metadata": {},
   "source": [
    "Para essa seleção, será utilizado as pontuações de importância que o algoritmo Random Forest atribui as variáveis."
   ]
  },
  {
   "cell_type": "code",
   "execution_count": 38,
   "metadata": {},
   "outputs": [],
   "source": [
    "# separando o dataset em variáveis preditoras e variável target\n",
    "x = train_trans.iloc[:, :14]\n",
    "y = train_trans.churn"
   ]
  },
  {
   "cell_type": "code",
   "execution_count": 39,
   "metadata": {},
   "outputs": [
    {
     "data": {
      "image/png": "[encoded data removed]",
      "text/plain": [
       "<Figure size 720x432 with 1 Axes>"
      ]
     },
     "metadata": {
      "needs_background": "light"
     },
     "output_type": "display_data"
    }
   ],
   "source": [
    "# contruindo o modelo\n",
    "modelo_rf = RandomForestClassifier()\n",
    "\n",
    "# treinando o modelo\n",
    "modelo_rf.fit(x, y)\n",
    "\n",
    "# extraindo a pontuação de cada feature e montando um dataframe com os resultados\n",
    "features_rf = pd.DataFrame({'features'   : x.columns,\n",
    "                            'pontuation' : modelo_rf.feature_importances_}).sort_values('pontuation', ascending = False).reset_index(drop = True)\n",
    "\n",
    "# plotando os resultados\n",
    "plt.figure(figsize = (10,6))\n",
    "sns.barplot(y = 'features', x = 'pontuation', data = features_rf, palette = 'rocket', orient = 'h')\n",
    "plt.title('Ranking de Pontuação')\n",
    "plt.ylabel('')\n",
    "plt.xlabel('')\n",
    "plt.show()"
   ]
  },
  {
   "cell_type": "markdown",
   "metadata": {},
   "source": [
    "A seguir será realizado vários treinamentos do modelo, e para cada treinamento será utilizado um subconjunto de variáveis de acordo com o ranking de pontuação obtido na célula logo atrás. "
   ]
  },
  {
   "cell_type": "markdown",
   "metadata": {},
   "source": [
    "O primeiro treinamento utilizará apenas a variável mais bem colocada, o segundo treinamento usará as duas variáveis mais bem colocadas, o terceiro usará as três variáveis mais bem colocadas, e assim por diante."
   ]
  },
  {
   "cell_type": "markdown",
   "metadata": {},
   "source": [
    "Esse processo será realizado para determinar o melhor conjunto de variáveis para a construção dos modelos posteriormente."
   ]
  },
  {
   "cell_type": "code",
   "execution_count": 40,
   "metadata": {
    "scrolled": false
   },
   "outputs": [
    {
     "data": {
      "image/png": "[encoded data removed]",
      "text/plain": [
       "<Figure size 1080x576 with 1 Axes>"
      ]
     },
     "metadata": {
      "needs_background": "light"
     },
     "output_type": "display_data"
    }
   ],
   "source": [
    "# lista vazia para adicionar os nomes das colunas\n",
    "cols   = []\n",
    "\n",
    "# dataframe para adicionar os resultados dos treinamentos\n",
    "result = pd.DataFrame()\n",
    "\n",
    "# loop for para realizar os treinamentos e salvar os resultados\n",
    "for col in features_rf.features:\n",
    "    cols.append(col)\n",
    "    \n",
    "    modelo = RandomForestClassifier(random_state = 0)\n",
    "    modelo.fit(x[cols], y)\n",
    "    \n",
    "    kfold = KFold(n_splits = 5, shuffle = True, random_state = 0)\n",
    "        \n",
    "    acc = cross_val_score(modelo, x[cols], y, cv = kfold, scoring = 'accuracy')\n",
    "    \n",
    "    result[str(len(cols)) + ' feature(s)'] = acc\n",
    "\n",
    "# boxplot com os resultados\n",
    "result.plot(kind = 'box', figsize = (15,8))\n",
    "plt.xticks(rotation = 45)\n",
    "plt.show()"
   ]
  },
  {
   "cell_type": "markdown",
   "metadata": {},
   "source": [
    "O subconjunto com **13 features** apresentou a maior acurácia entre todos os subconjuntos, porém o subconjunto com **14 features** apresentou a maior média de acurária entre todos."
   ]
  },
  {
   "cell_type": "markdown",
   "metadata": {},
   "source": [
    "# 7.0 Construção do Modelo Preditivo"
   ]
  },
  {
   "cell_type": "markdown",
   "metadata": {},
   "source": [
    "Nessa estapa, o modelo será treinado, para que, seja possível prever se um cliente vai ou não deixar a operadora. Para isso, será utilizado vários algoritmos de classificação, sendo possível assim, escolher o melhor entre todos."
   ]
  },
  {
   "cell_type": "markdown",
   "metadata": {},
   "source": [
    "O modelo que apresentar maior acurácia com os dados de treino receberá uma otimização, objetivando o maior acréscimo para essa métrica."
   ]
  },
  {
   "cell_type": "markdown",
   "metadata": {},
   "source": [
    "## 7.1 Algoritmos"
   ]
  },
  {
   "cell_type": "code",
   "execution_count": 41,
   "metadata": {},
   "outputs": [],
   "source": [
    "# lista com os modelos utilizados\n",
    "models = []\n",
    "\n",
    "models.append(('RF',  RandomForestClassifier()))\n",
    "models.append(('LR',  LogisticRegression()))\n",
    "models.append(('KNN', KNeighborsClassifier()))\n",
    "models.append(('LDA', LinearDiscriminantAnalysis()))\n",
    "models.append(('NB',  GaussianNB()))\n",
    "models.append(('SVM', SVC()))\n",
    "models.append(('XGB', XGBClassifier()))"
   ]
  },
  {
   "cell_type": "markdown",
   "metadata": {},
   "source": [
    "## 7.2 Treinamento"
   ]
  },
  {
   "cell_type": "markdown",
   "metadata": {},
   "source": [
    "O treinamento será realizado com os dados sem transformação, com os dados normalizados (MinMaxScaler e Normalizer) e com os dados padronizados (StandardScaler)."
   ]
  },
  {
   "cell_type": "markdown",
   "metadata": {},
   "source": [
    "### 7.2.1 Com Dados sem Transformação"
   ]
  },
  {
   "cell_type": "code",
   "execution_count": 42,
   "metadata": {},
   "outputs": [
    {
     "data": {
      "image/png": "[encoded data removed]",
      "text/plain": [
       "<Figure size 1080x576 with 1 Axes>"
      ]
     },
     "metadata": {
      "needs_background": "light"
     },
     "output_type": "display_data"
    },
    {
     "data": {
      "text/html": [
       "<div>\n",
       "<style scoped>\n",
       "    .dataframe tbody tr th:only-of-type {\n",
       "        vertical-align: middle;\n",
       "    }\n",
       "\n",
       "    .dataframe tbody tr th {\n",
       "        vertical-align: top;\n",
       "    }\n",
       "\n",
       "    .dataframe thead th {\n",
       "        text-align: right;\n",
       "    }\n",
       "</style>\n",
       "<table border=\"1\" class=\"dataframe\">\n",
       "  <thead>\n",
       "    <tr style=\"text-align: right;\">\n",
       "      <th></th>\n",
       "      <th>RF</th>\n",
       "      <th>LR</th>\n",
       "      <th>KNN</th>\n",
       "      <th>LDA</th>\n",
       "      <th>NB</th>\n",
       "      <th>SVM</th>\n",
       "      <th>XGB</th>\n",
       "    </tr>\n",
       "  </thead>\n",
       "  <tbody>\n",
       "    <tr>\n",
       "      <th>mean</th>\n",
       "      <td>94.68900</td>\n",
       "      <td>85.23800</td>\n",
       "      <td>86.46900</td>\n",
       "      <td>85.41900</td>\n",
       "      <td>84.81800</td>\n",
       "      <td>85.5080</td>\n",
       "      <td>NaN</td>\n",
       "    </tr>\n",
       "    <tr>\n",
       "      <th>std</th>\n",
       "      <td>0.00863</td>\n",
       "      <td>0.00879</td>\n",
       "      <td>0.00737</td>\n",
       "      <td>0.01418</td>\n",
       "      <td>0.01374</td>\n",
       "      <td>0.0113</td>\n",
       "      <td>NaN</td>\n",
       "    </tr>\n",
       "  </tbody>\n",
       "</table>\n",
       "</div>"
      ],
      "text/plain": [
       "            RF        LR       KNN       LDA        NB      SVM  XGB\n",
       "mean  94.68900  85.23800  86.46900  85.41900  84.81800  85.5080  NaN\n",
       "std    0.00863   0.00879   0.00737   0.01418   0.01374   0.0113  NaN"
      ]
     },
     "execution_count": 42,
     "metadata": {},
     "output_type": "execute_result"
    }
   ],
   "source": [
    "fitting(models, x, y)"
   ]
  },
  {
   "cell_type": "markdown",
   "metadata": {},
   "source": [
    "* O **Random Forest** apresentou a melhor performance entre todos.\n",
    "\n",
    "* O **KNN** apresentou a menor variação de acurácia em relação a média.\n",
    "\n",
    "* O **XGboost** não apresentou nenhum resultado pois o mesmo esperava os dados de uma forma diferente da que foi apresentado a ele."
   ]
  },
  {
   "cell_type": "markdown",
   "metadata": {},
   "source": [
    "### 7.2.2 Dados com Normalização (MinMaxScaler)"
   ]
  },
  {
   "cell_type": "markdown",
   "metadata": {},
   "source": [
    "Essa normalização coloca os valores de cada coluna em uma escala que vai de 0 a 1."
   ]
  },
  {
   "cell_type": "code",
   "execution_count": 43,
   "metadata": {},
   "outputs": [
    {
     "data": {
      "image/png": "[encoded data removed]",
      "text/plain": [
       "<Figure size 1080x576 with 1 Axes>"
      ]
     },
     "metadata": {
      "needs_background": "light"
     },
     "output_type": "display_data"
    },
    {
     "data": {
      "text/html": [
       "<div>\n",
       "<style scoped>\n",
       "    .dataframe tbody tr th:only-of-type {\n",
       "        vertical-align: middle;\n",
       "    }\n",
       "\n",
       "    .dataframe tbody tr th {\n",
       "        vertical-align: top;\n",
       "    }\n",
       "\n",
       "    .dataframe thead th {\n",
       "        text-align: right;\n",
       "    }\n",
       "</style>\n",
       "<table border=\"1\" class=\"dataframe\">\n",
       "  <thead>\n",
       "    <tr style=\"text-align: right;\">\n",
       "      <th></th>\n",
       "      <th>RF</th>\n",
       "      <th>LR</th>\n",
       "      <th>KNN</th>\n",
       "      <th>LDA</th>\n",
       "      <th>NB</th>\n",
       "      <th>SVM</th>\n",
       "      <th>XGB</th>\n",
       "    </tr>\n",
       "  </thead>\n",
       "  <tbody>\n",
       "    <tr>\n",
       "      <th>mean</th>\n",
       "      <td>94.36000</td>\n",
       "      <td>86.0780</td>\n",
       "      <td>87.99800</td>\n",
       "      <td>85.41900</td>\n",
       "      <td>84.81800</td>\n",
       "      <td>88.539</td>\n",
       "      <td>95.59000</td>\n",
       "    </tr>\n",
       "    <tr>\n",
       "      <th>std</th>\n",
       "      <td>0.01041</td>\n",
       "      <td>0.0134</td>\n",
       "      <td>0.01463</td>\n",
       "      <td>0.01418</td>\n",
       "      <td>0.01374</td>\n",
       "      <td>0.016</td>\n",
       "      <td>0.00565</td>\n",
       "    </tr>\n",
       "  </tbody>\n",
       "</table>\n",
       "</div>"
      ],
      "text/plain": [
       "            RF       LR       KNN       LDA        NB     SVM       XGB\n",
       "mean  94.36000  86.0780  87.99800  85.41900  84.81800  88.539  95.59000\n",
       "std    0.01041   0.0134   0.01463   0.01418   0.01374   0.016   0.00565"
      ]
     },
     "execution_count": 43,
     "metadata": {},
     "output_type": "execute_result"
    }
   ],
   "source": [
    "fitting(models, min_max_scaler(x), y)"
   ]
  },
  {
   "cell_type": "markdown",
   "metadata": {},
   "source": [
    "* O **XGboost** apresentou a maior acurácia média e o menor desvio em relação a sua média.\n",
    "\n",
    "* Os resultados foram superior aos resultados obtidos com os dados sem transformação."
   ]
  },
  {
   "cell_type": "markdown",
   "metadata": {},
   "source": [
    "### 7.2.3 Dados com Normalização (Normalizer)"
   ]
  },
  {
   "cell_type": "markdown",
   "metadata": {},
   "source": [
    "Essa normalização coloca todos os valores de todas as colunas em uma escala de 0 a 1."
   ]
  },
  {
   "cell_type": "code",
   "execution_count": 44,
   "metadata": {},
   "outputs": [
    {
     "data": {
      "image/png": "[encoded data removed]",
      "text/plain": [
       "<Figure size 1080x576 with 1 Axes>"
      ]
     },
     "metadata": {
      "needs_background": "light"
     },
     "output_type": "display_data"
    },
    {
     "data": {
      "text/html": [
       "<div>\n",
       "<style scoped>\n",
       "    .dataframe tbody tr th:only-of-type {\n",
       "        vertical-align: middle;\n",
       "    }\n",
       "\n",
       "    .dataframe tbody tr th {\n",
       "        vertical-align: top;\n",
       "    }\n",
       "\n",
       "    .dataframe thead th {\n",
       "        text-align: right;\n",
       "    }\n",
       "</style>\n",
       "<table border=\"1\" class=\"dataframe\">\n",
       "  <thead>\n",
       "    <tr style=\"text-align: right;\">\n",
       "      <th></th>\n",
       "      <th>RF</th>\n",
       "      <th>LR</th>\n",
       "      <th>KNN</th>\n",
       "      <th>LDA</th>\n",
       "      <th>NB</th>\n",
       "      <th>SVM</th>\n",
       "      <th>XGB</th>\n",
       "    </tr>\n",
       "  </thead>\n",
       "  <tbody>\n",
       "    <tr>\n",
       "      <th>mean</th>\n",
       "      <td>92.67900</td>\n",
       "      <td>85.5080</td>\n",
       "      <td>85.53900</td>\n",
       "      <td>85.29900</td>\n",
       "      <td>84.87900</td>\n",
       "      <td>85.5080</td>\n",
       "      <td>93.54900</td>\n",
       "    </tr>\n",
       "    <tr>\n",
       "      <th>std</th>\n",
       "      <td>0.01229</td>\n",
       "      <td>0.0113</td>\n",
       "      <td>0.00741</td>\n",
       "      <td>0.01343</td>\n",
       "      <td>0.01095</td>\n",
       "      <td>0.0113</td>\n",
       "      <td>0.00724</td>\n",
       "    </tr>\n",
       "  </tbody>\n",
       "</table>\n",
       "</div>"
      ],
      "text/plain": [
       "            RF       LR       KNN       LDA        NB      SVM       XGB\n",
       "mean  92.67900  85.5080  85.53900  85.29900  84.87900  85.5080  93.54900\n",
       "std    0.01229   0.0113   0.00741   0.01343   0.01095   0.0113   0.00724"
      ]
     },
     "execution_count": 44,
     "metadata": {},
     "output_type": "execute_result"
    }
   ],
   "source": [
    "fitting(models, normalizer(x), y)"
   ]
  },
  {
   "cell_type": "markdown",
   "metadata": {},
   "source": [
    "* O **XGboost** apresentou a maior acurácia média e o menor desvio em relação a sua média.\n",
    "\n",
    "* Os resultados obtidos com a normalização de todo o dataset é inferior aos resultados obtidos com a normalização por variável."
   ]
  },
  {
   "cell_type": "markdown",
   "metadata": {},
   "source": [
    "### 7.2.4 Dados Padronizados (StandardScaler)"
   ]
  },
  {
   "cell_type": "markdown",
   "metadata": {},
   "source": [
    "Essa padronização aproxima os valores de cada coluna para uma distribuição normal, isto é, com média igual a 0. Os valores são transformados em uma escala de -1 a 1."
   ]
  },
  {
   "cell_type": "code",
   "execution_count": 45,
   "metadata": {},
   "outputs": [
    {
     "data": {
      "image/png": "[encoded data removed]",
      "text/plain": [
       "<Figure size 1080x576 with 1 Axes>"
      ]
     },
     "metadata": {
      "needs_background": "light"
     },
     "output_type": "display_data"
    },
    {
     "data": {
      "text/html": [
       "<div>\n",
       "<style scoped>\n",
       "    .dataframe tbody tr th:only-of-type {\n",
       "        vertical-align: middle;\n",
       "    }\n",
       "\n",
       "    .dataframe tbody tr th {\n",
       "        vertical-align: top;\n",
       "    }\n",
       "\n",
       "    .dataframe thead th {\n",
       "        text-align: right;\n",
       "    }\n",
       "</style>\n",
       "<table border=\"1\" class=\"dataframe\">\n",
       "  <thead>\n",
       "    <tr style=\"text-align: right;\">\n",
       "      <th></th>\n",
       "      <th>RF</th>\n",
       "      <th>LR</th>\n",
       "      <th>KNN</th>\n",
       "      <th>LDA</th>\n",
       "      <th>NB</th>\n",
       "      <th>SVM</th>\n",
       "      <th>XGB</th>\n",
       "    </tr>\n",
       "  </thead>\n",
       "  <tbody>\n",
       "    <tr>\n",
       "      <th>mean</th>\n",
       "      <td>94.23900</td>\n",
       "      <td>85.98800</td>\n",
       "      <td>88.68800</td>\n",
       "      <td>85.41900</td>\n",
       "      <td>84.81800</td>\n",
       "      <td>91.44900</td>\n",
       "      <td>95.62000</td>\n",
       "    </tr>\n",
       "    <tr>\n",
       "      <th>std</th>\n",
       "      <td>0.01113</td>\n",
       "      <td>0.01638</td>\n",
       "      <td>0.01384</td>\n",
       "      <td>0.01418</td>\n",
       "      <td>0.01374</td>\n",
       "      <td>0.01484</td>\n",
       "      <td>0.00579</td>\n",
       "    </tr>\n",
       "  </tbody>\n",
       "</table>\n",
       "</div>"
      ],
      "text/plain": [
       "            RF        LR       KNN       LDA        NB       SVM       XGB\n",
       "mean  94.23900  85.98800  88.68800  85.41900  84.81800  91.44900  95.62000\n",
       "std    0.01113   0.01638   0.01384   0.01418   0.01374   0.01484   0.00579"
      ]
     },
     "execution_count": 45,
     "metadata": {},
     "output_type": "execute_result"
    }
   ],
   "source": [
    "fitting(models, standard_scaler(x), y)"
   ]
  },
  {
   "cell_type": "markdown",
   "metadata": {},
   "source": [
    "* O **XGboost** apresentou a maior acurácia média e o menor desvio em relação a sua média.\n",
    "\n",
    "* **Logistic Regression** e **SVM** obtiveram melhores resultados com os dados padronizados em relação aos outros tipos de normalização."
   ]
  },
  {
   "cell_type": "markdown",
   "metadata": {},
   "source": [
    "### 7.5 Otimização do Modelo"
   ]
  },
  {
   "cell_type": "markdown",
   "metadata": {},
   "source": [
    "Por ter obtido a maior acurácia com os dados de treino, irei utilizar o algoritmo XGBoost para realizar o ajuste fino."
   ]
  },
  {
   "cell_type": "code",
   "execution_count": 46,
   "metadata": {},
   "outputs": [
    {
     "name": "stdout",
     "output_type": "stream",
     "text": [
      "Fitting 10 folds for each of 10 candidates, totalling 100 fits\n"
     ]
    },
    {
     "name": "stderr",
     "output_type": "stream",
     "text": [
      "[Parallel(n_jobs=-1)]: Using backend LokyBackend with 12 concurrent workers.\n",
      "[Parallel(n_jobs=-1)]: Done  26 tasks      | elapsed:    4.6s\n",
      "[Parallel(n_jobs=-1)]: Done 100 out of 100 | elapsed:    6.0s finished\n"
     ]
    },
    {
     "data": {
      "text/plain": [
       "XGBClassifier(base_score=0.5, booster='gbtree', colsample_bylevel=1,\n",
       "              colsample_bynode=1, colsample_bytree=0.7, gamma=0.2, gpu_id=-1,\n",
       "              importance_type='gain', interaction_constraints='',\n",
       "              learning_rate=0.3, max_delta_step=0, max_depth=4,\n",
       "              min_child_weight=7, missing=nan, monotone_constraints='()',\n",
       "              n_estimators=100, n_jobs=0, num_parallel_tree=1, random_state=0,\n",
       "              reg_alpha=0, reg_lambda=1, scale_pos_weight=1, subsample=1,\n",
       "              tree_method='exact', validate_parameters=1, verbosity=None)"
      ]
     },
     "execution_count": 46,
     "metadata": {},
     "output_type": "execute_result"
    }
   ],
   "source": [
    "# parâmetros serem utilizados no treinamento\n",
    "hyper_xgb = {\"learning_rate\"    : [0.05, 0.10, 0.15, 0.20, 0.25, 0.30] ,\n",
    "             \"max_depth\"        : [3, 4, 5, 6, 8, 10, 12, 15],\n",
    "             \"min_child_weight\" : [1, 3, 5, 7],\n",
    "             \"gamma\"            : [0.0, 0.1, 0.2 , 0.3, 0.4],\n",
    "             \"colsample_bytree\" : [0.3, 0.4, 0.5 , 0.7]}\n",
    "\n",
    "# modelo\n",
    "model = XGBClassifier()\n",
    "\n",
    "# otmizador\n",
    "tuning = RandomizedSearchCV(estimator = model, param_distributions = hyper_xgb,\n",
    "                            cv = 10, verbose = True, n_jobs = -1, scoring = 'accuracy',\n",
    "                            random_state = 0)\n",
    "\n",
    "# treinamento\n",
    "tuning.fit(standard_scaler(x), y)\n",
    "\n",
    "# melhores parâmetros\n",
    "tuned_model = tuning.best_estimator_\n",
    "\n",
    "# treinando o modelo para posteriormente fazer as previsões com os dados de teste\n",
    "tuned_model.fit(standard_scaler(x), y)"
   ]
  },
  {
   "cell_type": "markdown",
   "metadata": {},
   "source": [
    "# 8.0 Previsões Para os Dados de Teste"
   ]
  },
  {
   "cell_type": "markdown",
   "metadata": {},
   "source": [
    "Agora, o modelo otimizado será submetido a realizar previsões com os dados de teste."
   ]
  },
  {
   "cell_type": "markdown",
   "metadata": {},
   "source": [
    "## 8.1 Dados"
   ]
  },
  {
   "cell_type": "code",
   "execution_count": 47,
   "metadata": {},
   "outputs": [],
   "source": [
    "# separando os dados em variáveis preditoras e variável target.\n",
    "# padronizando os valores.\n",
    "x_test = standard_scaler(test_trans.iloc[:, 0:14])\n",
    "y_test = test_trans.churn"
   ]
  },
  {
   "cell_type": "markdown",
   "metadata": {},
   "source": [
    "## 8.2 Previsões"
   ]
  },
  {
   "cell_type": "code",
   "execution_count": 48,
   "metadata": {
    "scrolled": true
   },
   "outputs": [
    {
     "data": {
      "text/html": [
       "<div>\n",
       "<style scoped>\n",
       "    .dataframe tbody tr th:only-of-type {\n",
       "        vertical-align: middle;\n",
       "    }\n",
       "\n",
       "    .dataframe tbody tr th {\n",
       "        vertical-align: top;\n",
       "    }\n",
       "\n",
       "    .dataframe thead th {\n",
       "        text-align: right;\n",
       "    }\n",
       "</style>\n",
       "<table border=\"1\" class=\"dataframe\">\n",
       "  <thead>\n",
       "    <tr style=\"text-align: right;\">\n",
       "      <th></th>\n",
       "      <th>state</th>\n",
       "      <th>account_length</th>\n",
       "      <th>area_code</th>\n",
       "      <th>international_plan</th>\n",
       "      <th>voice_mail_plan</th>\n",
       "      <th>total_day_minutes</th>\n",
       "      <th>total_day_calls</th>\n",
       "      <th>total_eve_minutes</th>\n",
       "      <th>total_eve_calls</th>\n",
       "      <th>total_night_minutes</th>\n",
       "      <th>total_night_calls</th>\n",
       "      <th>total_intl_minutes</th>\n",
       "      <th>total_intl_calls</th>\n",
       "      <th>number_customer_service_calls</th>\n",
       "      <th>Predictions</th>\n",
       "      <th>Probability</th>\n",
       "    </tr>\n",
       "  </thead>\n",
       "  <tbody>\n",
       "    <tr>\n",
       "      <th>0</th>\n",
       "      <td>11</td>\n",
       "      <td>101</td>\n",
       "      <td>510</td>\n",
       "      <td>0</td>\n",
       "      <td>0</td>\n",
       "      <td>70.9</td>\n",
       "      <td>123</td>\n",
       "      <td>211.9</td>\n",
       "      <td>73</td>\n",
       "      <td>236.0</td>\n",
       "      <td>73</td>\n",
       "      <td>10.6</td>\n",
       "      <td>3</td>\n",
       "      <td>3</td>\n",
       "      <td>0</td>\n",
       "      <td>2.954413</td>\n",
       "    </tr>\n",
       "    <tr>\n",
       "      <th>1</th>\n",
       "      <td>26</td>\n",
       "      <td>137</td>\n",
       "      <td>510</td>\n",
       "      <td>0</td>\n",
       "      <td>0</td>\n",
       "      <td>223.6</td>\n",
       "      <td>86</td>\n",
       "      <td>244.8</td>\n",
       "      <td>139</td>\n",
       "      <td>94.2</td>\n",
       "      <td>81</td>\n",
       "      <td>9.5</td>\n",
       "      <td>7</td>\n",
       "      <td>0</td>\n",
       "      <td>0</td>\n",
       "      <td>3.529191</td>\n",
       "    </tr>\n",
       "    <tr>\n",
       "      <th>2</th>\n",
       "      <td>35</td>\n",
       "      <td>103</td>\n",
       "      <td>408</td>\n",
       "      <td>0</td>\n",
       "      <td>1</td>\n",
       "      <td>294.7</td>\n",
       "      <td>95</td>\n",
       "      <td>237.3</td>\n",
       "      <td>105</td>\n",
       "      <td>300.3</td>\n",
       "      <td>127</td>\n",
       "      <td>13.7</td>\n",
       "      <td>6</td>\n",
       "      <td>1</td>\n",
       "      <td>1</td>\n",
       "      <td>61.867310</td>\n",
       "    </tr>\n",
       "    <tr>\n",
       "      <th>3</th>\n",
       "      <td>32</td>\n",
       "      <td>99</td>\n",
       "      <td>415</td>\n",
       "      <td>0</td>\n",
       "      <td>0</td>\n",
       "      <td>216.8</td>\n",
       "      <td>123</td>\n",
       "      <td>126.4</td>\n",
       "      <td>88</td>\n",
       "      <td>220.6</td>\n",
       "      <td>82</td>\n",
       "      <td>15.7</td>\n",
       "      <td>2</td>\n",
       "      <td>1</td>\n",
       "      <td>0</td>\n",
       "      <td>3.474869</td>\n",
       "    </tr>\n",
       "    <tr>\n",
       "      <th>4</th>\n",
       "      <td>40</td>\n",
       "      <td>108</td>\n",
       "      <td>415</td>\n",
       "      <td>0</td>\n",
       "      <td>0</td>\n",
       "      <td>197.4</td>\n",
       "      <td>78</td>\n",
       "      <td>124.0</td>\n",
       "      <td>101</td>\n",
       "      <td>204.5</td>\n",
       "      <td>107</td>\n",
       "      <td>7.7</td>\n",
       "      <td>4</td>\n",
       "      <td>2</td>\n",
       "      <td>0</td>\n",
       "      <td>0.888293</td>\n",
       "    </tr>\n",
       "  </tbody>\n",
       "</table>\n",
       "</div>"
      ],
      "text/plain": [
       "   state  account_length area_code  international_plan  voice_mail_plan  \\\n",
       "0     11             101       510                   0                0   \n",
       "1     26             137       510                   0                0   \n",
       "2     35             103       408                   0                1   \n",
       "3     32              99       415                   0                0   \n",
       "4     40             108       415                   0                0   \n",
       "\n",
       "   total_day_minutes  total_day_calls  total_eve_minutes  total_eve_calls  \\\n",
       "0               70.9              123              211.9               73   \n",
       "1              223.6               86              244.8              139   \n",
       "2              294.7               95              237.3              105   \n",
       "3              216.8              123              126.4               88   \n",
       "4              197.4               78              124.0              101   \n",
       "\n",
       "   total_night_minutes  total_night_calls  total_intl_minutes  \\\n",
       "0                236.0                 73                10.6   \n",
       "1                 94.2                 81                 9.5   \n",
       "2                300.3                127                13.7   \n",
       "3                220.6                 82                15.7   \n",
       "4                204.5                107                 7.7   \n",
       "\n",
       "   total_intl_calls  number_customer_service_calls  Predictions  Probability  \n",
       "0                 3                              3            0     2.954413  \n",
       "1                 7                              0            0     3.529191  \n",
       "2                 6                              1            1    61.867310  \n",
       "3                 2                              1            0     3.474869  \n",
       "4                 4                              2            0     0.888293  "
      ]
     },
     "execution_count": 48,
     "metadata": {},
     "output_type": "execute_result"
    }
   ],
   "source": [
    "# fazendo as previsões com os dados de teste\n",
    "predictions = tuned_model.predict(x_test)\n",
    "\n",
    "\n",
    "# calculando a probabilidade do cliente sair da operadora\n",
    "prob_churn  = tuned_model.predict_proba(x_test)\n",
    "probability = pd.DataFrame(100 * prob_churn)[1]\n",
    "\n",
    "# criando um dataframe com as variáveis preditoras, as previsões e as probabilidades.\n",
    "predictions_df = pd.DataFrame({'Predictions' : predictions,\n",
    "                               'Probability' : probability})\n",
    "\n",
    "predictions_df = pd.concat([test_trans.iloc[:, :14], predictions_df], axis = 1)\n",
    "\n",
    "# imprimindo o dataset\n",
    "predictions_df.head()"
   ]
  },
  {
   "cell_type": "markdown",
   "metadata": {},
   "source": [
    "A seguir plot com o churn rate previsto com os dados de teste."
   ]
  },
  {
   "cell_type": "code",
   "execution_count": 49,
   "metadata": {},
   "outputs": [
    {
     "data": {
      "image/png": "[encoded data removed]",
      "text/plain": [
       "<Figure size 504x504 with 1 Axes>"
      ]
     },
     "metadata": {},
     "output_type": "display_data"
    }
   ],
   "source": [
    "# dataset com as taxas\n",
    "churn_pred = pd.DataFrame(predictions_df['Predictions'].value_counts()).reset_index()\n",
    "churn_pred.columns = ['churn', 'total']\n",
    "churn_pred['percentage'] = round(  (100 * churn_pred.total / churn_pred.total.sum())  , 3)\n",
    "churn_pred\n",
    "\n",
    "# piechart\n",
    "plt.figure(figsize = (7, 7))\n",
    "plt.pie(churn_pred.percentage, labels = churn_pred.churn, autopct='%1.1f%%', shadow = True, startangle = 90)\n",
    "plt.title('Proporção Churn Dataset')\n",
    "plt.show()"
   ]
  },
  {
   "cell_type": "markdown",
   "metadata": {},
   "source": [
    "O **churn rate** previsto é de 10.8%."
   ]
  },
  {
   "cell_type": "markdown",
   "metadata": {},
   "source": [
    "## 8.3 Avaliação"
   ]
  },
  {
   "cell_type": "code",
   "execution_count": 50,
   "metadata": {},
   "outputs": [
    {
     "name": "stdout",
     "output_type": "stream",
     "text": [
      "A acurácia para os dados de teste é de 95.32%. \n",
      "\n"
     ]
    },
    {
     "data": {
      "image/png": "[encoded data removed]",
      "text/plain": [
       "<Figure size 432x288 with 1 Axes>"
      ]
     },
     "metadata": {
      "needs_background": "light"
     },
     "output_type": "display_data"
    },
    {
     "name": "stdout",
     "output_type": "stream",
     "text": [
      "Relatório de classificação: \n",
      "\n",
      "               precision    recall  f1-score   support\n",
      "\n",
      "           0       0.96      0.99      0.97      1443\n",
      "           1       0.91      0.73      0.81       224\n",
      "\n",
      "    accuracy                           0.95      1667\n",
      "   macro avg       0.93      0.86      0.89      1667\n",
      "weighted avg       0.95      0.95      0.95      1667\n",
      "\n"
     ]
    },
    {
     "data": {
      "image/png": "[encoded data removed]",
      "text/plain": [
       "<Figure size 432x288 with 2 Axes>"
      ]
     },
     "metadata": {
      "needs_background": "light"
     },
     "output_type": "display_data"
    }
   ],
   "source": [
    "# acurácia do modelo\n",
    "print('A acurácia para os dados de teste é de {}%. \\n'.format(round(100 * tuned_model.score(x_test, y_test), 2)))\n",
    "\n",
    "# roc auc curve\n",
    "fpr, tpr, _ = roc_curve(y_test, prob_churn[:, 1])\n",
    "roc_auc     = round(auc(fpr, tpr), 5)\n",
    "    \n",
    "# plot da auc\n",
    "plt.title('AUC = {}'.format(roc_auc))\n",
    "plt.plot(fpr, tpr, 'b')\n",
    "plt.plot([0, 1], [0, 1],'r--')\n",
    "plt.show()\n",
    "\n",
    "# classification report\n",
    "print('Relatório de classificação: \\n\\n', classification_report(y_test, predictions))\n",
    "\n",
    "# confusion matrix\n",
    "plot_confusion_matrix(tuned_model, x_test, y_test)\n",
    "plt.title('Confusion Matrix')\n",
    "plt.show()"
   ]
  }
 ],
 "metadata": {
  "kernelspec": {
   "display_name": "Python 3",
   "language": "python",
   "name": "python3"
  },
  "language_info": {
   "codemirror_mode": {
    "name": "ipython",
    "version": 3
   },
   "file_extension": ".py",
   "mimetype": "text/x-python",
   "name": "python",
   "nbconvert_exporter": "python",
   "pygments_lexer": "ipython3",
   "version": "3.8.3"
  }
 },
 "nbformat": 4,
 "nbformat_minor": 4
}
