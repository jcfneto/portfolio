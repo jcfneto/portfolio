{
 "cells": [
  {
   "cell_type": "markdown",
   "metadata": {},
   "source": [
    "# 1.0 Modelo para Detecção de Diabetes"
   ]
  },
  {
   "cell_type": "markdown",
   "metadata": {},
   "source": [
    "O objetivo desse é a elaboração de um modelo capaz de prever se um paciente possui ou não diabetes, baseado em certas medições. Ou seja, temos um problema de classificação binária.\n",
    "\n",
    "O modelo será baseado em DADOS históricos, sendo que esses dados originalmente pertence ao National Institute of Diabetes and Digestive and Kidney Diseases. Podem ser baixados através do link: https://www.kaggle.com/uciml/pima-indians-diabetes-database."
   ]
  },
  {
   "cell_type": "markdown",
   "metadata": {},
   "source": [
    "Significado de cada feature no dataset:\n",
    "\n",
    "1. Pregnancies:              Number of times pregnant\n",
    "2. Glucose:                  Plasma glucose concentration a 2 hours in an oral glucose tolerance test\n",
    "3. BloodPressure:            Diastolic blood pressure (mmHg)\n",
    "4. SkinThickness:            Triceps skin fold thickness (mm)\n",
    "5. Insulin:                  2-Hour serum insulin (mu U/ml)\n",
    "6. BMI:                      Body mass index (weight in kg/(height in m)²)\n",
    "7. DiabetesPedigreeFunction: Diabetes pedigree function\n",
    "8. Age:                      Age (years)\n",
    "9. Outcome:                 Class variable (0 or 1)"
   ]
  },
  {
   "cell_type": "markdown",
   "metadata": {},
   "source": [
    "# 2.0 Módulos"
   ]
  },
  {
   "cell_type": "code",
   "execution_count": 1,
   "metadata": {},
   "outputs": [],
   "source": [
    "# módulos utilizados:\n",
    "\n",
    "# ignorar warnings.\n",
    "import warnings\n",
    "warnings.filterwarnings('ignore')\n",
    "\n",
    "# manipulação de dados:\n",
    "import pandas as pd\n",
    "import numpy as np\n",
    "\n",
    "# visualização:\n",
    "import matplotlib.pyplot as plt\n",
    "import seaborn as sns\n",
    "from IPython.display import Image\n",
    "\n",
    "# split do dataset em dados de treino e teste:\n",
    "from sklearn.model_selection import train_test_split\n",
    "\n",
    "# pré processamento dos dados:\n",
    "from sklearn.preprocessing import MinMaxScaler\n",
    "from sklearn.preprocessing import Normalizer\n",
    "from sklearn.preprocessing import StandardScaler\n",
    "\n",
    "# algoritmos de machine learning:\n",
    "from sklearn.ensemble import ExtraTreesClassifier\n",
    "from sklearn.ensemble import RandomForestClassifier\n",
    "from sklearn.linear_model import LogisticRegression\n",
    "from sklearn.neighbors import KNeighborsClassifier\n",
    "from sklearn.discriminant_analysis import LinearDiscriminantAnalysis\n",
    "from sklearn.naive_bayes import GaussianNB\n",
    "from sklearn.svm import SVC\n",
    "from xgboost import XGBClassifier\n",
    "\n",
    "# otimização\n",
    "from sklearn.model_selection import RandomizedSearchCV\n",
    "\n",
    "# metricas\n",
    "from sklearn.metrics import classification_report\n",
    "from sklearn.metrics import confusion_matrix\n",
    "from sklearn.metrics import roc_auc_score\n",
    "from sklearn.metrics import roc_curve\n",
    "from sklearn.metrics import auc"
   ]
  },
  {
   "cell_type": "markdown",
   "metadata": {},
   "source": [
    "# 3.0 Funções\n",
    "\n",
    "Funções que serão utilizadas ao decorrer da criação do modelo."
   ]
  },
  {
   "cell_type": "code",
   "execution_count": 2,
   "metadata": {},
   "outputs": [],
   "source": [
    "# criar e imprimir displot.    \n",
    "def displot_stats(df, nome):\n",
    "    # criar um novo dataset.\n",
    "    stats = df[df[nome] > 0][[nome, 'Outcome']]\n",
    "    \n",
    "    # recolher estatísticas para os pacientes com diabetes.\n",
    "    stats_true = stats[stats.Outcome == 1][nome].describe()\n",
    "    \n",
    "    # recolher estatísticas para os pacientes sem diabetes.\n",
    "    stats_false = stats[stats.Outcome == 0][nome].describe()\n",
    "    \n",
    "    # agrupar em um dataset.\n",
    "    stats_concat = pd.concat([stats_true, stats_false], axis = 1)\n",
    "    stats_concat.columns = ['Com Diabetes', 'Sem Diabetes']\n",
    "    \n",
    "    # gráfico da distribuição.\n",
    "    sns.displot(stats, x = nome, hue = 'Outcome', kind = 'kde', fill = True, height = 6)\n",
    "    plt.show()\n",
    "    \n",
    "    # imprimir as estatísticas.\n",
    "    print(stats_concat)\n",
    "    \n",
    "# imputar as médias nos zeros.    \n",
    "def medias(df):\n",
    "    mean_true1 = df[(df.Glucose > 0) & (df.Outcome == 1)]['Glucose'].mean()\n",
    "    mean_false1 = df[(df.Glucose > 0) & (df.Outcome == 0)]['Glucose'].mean()\n",
    "    df.loc[(df.Glucose == 0) & (df.Outcome == 1), 'Glucose'] = mean_true1\n",
    "    df.loc[(df.Glucose == 0) & (df.Outcome == 0), 'Glucose'] = mean_false1\n",
    "\n",
    "    mean_true2 = df[(df.BloodPressure > 0) & (df.Outcome == 1)]['BloodPressure'].mean()\n",
    "    mean_false2 = df[(df.BloodPressure > 0) & (df.Outcome == 0)]['BloodPressure'].mean()\n",
    "    df.loc[(df.BloodPressure == 0) & (df.Outcome == 1), 'BloodPressure'] = mean_true2\n",
    "    df.loc[(df.BloodPressure == 0) & (df.Outcome == 0), 'BloodPressure'] = mean_false2\n",
    "\n",
    "    mean_true3 = df[(df.SkinThickness > 0) & (df.Outcome == 1)]['SkinThickness'].mean()\n",
    "    mean_false3 = df[(df.SkinThickness > 0) & (df.Outcome == 0)]['SkinThickness'].mean()\n",
    "    df.loc[(df.SkinThickness == 0) & (df.Outcome == 1), 'SkinThickness'] = mean_true3\n",
    "    df.loc[(df.SkinThickness == 0) & (df.Outcome == 0), 'SkinThickness'] = mean_false3\n",
    "\n",
    "    mean_true4 = df[(df.Insulin > 0) & (df.Outcome == 1)]['Insulin'].mean()\n",
    "    mean_false4 = df[(df.Insulin > 0) & (df.Outcome == 0)]['Insulin'].mean()\n",
    "    df.loc[(df.Insulin == 0) & (df.Outcome == 1), 'Insulin'] = mean_true4\n",
    "    df.loc[(df.Insulin == 0) & (df.Outcome == 0), 'Insulin'] = mean_false4\n",
    "\n",
    "    mean_true4 = df[(df.BMI > 0) & (df.Outcome == 1)]['BMI'].mean()\n",
    "    mean_false4 = df[(df.BMI > 0) & (df.Outcome == 0)]['BMI'].mean()\n",
    "    df.loc[(df.BMI == 0) & (df.Outcome == 1), 'BMI'] = mean_true4\n",
    "    df.loc[(df.BMI == 0) & (df.Outcome == 0), 'BMI'] = mean_false4\n",
    "    \n",
    "    return df    \n",
    "\n",
    "# treinamento dos modelos.\n",
    "def fit_modelos(modelos, x_treino, y_treino, x_teste, y_teste):\n",
    "    # treinamento\n",
    "    acuracia = []\n",
    "\n",
    "    for nome, modelo in modelos:\n",
    "        modelo.fit(x_treino, y_treino)\n",
    "        acc = round(100 * modelo.score(x_teste, y_teste), 2)\n",
    "        acuracia.append((nome, acc))    \n",
    "\n",
    "    data = pd.DataFrame(acuracia).T\n",
    "\n",
    "    new_header = data.iloc[0]\n",
    "    data = data[1:]\n",
    "    data.columns = new_header\n",
    "    \n",
    "    return data\n",
    "\n",
    "# concatenar os resultados do módelo e calculas as médias\n",
    "def concat_results(result_bruto, result_sem_zeros, result_medias):\n",
    "    data = pd.concat([result_bruto, result_sem_zeros, result_medias])\n",
    "    data['MEDIAS'] = round(data.mean(axis = 1), 2)\n",
    "    data = data.append({'RF'    : round(data['RF'].mean(),     2),\n",
    "                        'LR'    : round(data['LR'].mean(),     2),\n",
    "                        'LDA'   : round(data['LDA'].mean(),    2),\n",
    "                        'NB'    : round(data['NB'].mean(),     2),\n",
    "                        'KNN'   : round(data['KNN'].mean(),    2),\n",
    "                        'SVM'   : round(data['SVM'].mean(),    2),\n",
    "                        'XGB'   : round(data['XGB'].mean(),    2),\n",
    "                        'MEDIAS': round(data['MEDIAS'].mean(), 2)}, ignore_index=True)\n",
    "    \n",
    "    data.index = ['Dados Bruto', 'Sem Zeros', 'Com Médias', 'Médias']\n",
    "    \n",
    "    return data\n",
    "\n",
    "# aplicando normalização com MinMaxScaler\n",
    "def min_max_scaler(x):\n",
    "    norm = MinMaxScaler(feature_range = (0, 1))\n",
    "    x = norm.fit_transform(x)\n",
    "    return x\n",
    "\n",
    "# aplicar a normalização com normalizer\n",
    "def normalizer(x):\n",
    "    norm = Normalizer().fit(x_treino)\n",
    "    x = norm.transform(x)\n",
    "    return x\n",
    "\n",
    "# aplicar padronização\n",
    "def standarization(x):\n",
    "    norm = StandardScaler().fit(x)\n",
    "    x = norm.transform(x)\n",
    "    return x"
   ]
  },
  {
   "cell_type": "markdown",
   "metadata": {},
   "source": [
    "# 4.0 Análise Exploratória dos Dados"
   ]
  },
  {
   "cell_type": "code",
   "execution_count": 3,
   "metadata": {},
   "outputs": [
    {
     "data": {
      "text/html": [
       "<div>\n",
       "<style scoped>\n",
       "    .dataframe tbody tr th:only-of-type {\n",
       "        vertical-align: middle;\n",
       "    }\n",
       "\n",
       "    .dataframe tbody tr th {\n",
       "        vertical-align: top;\n",
       "    }\n",
       "\n",
       "    .dataframe thead th {\n",
       "        text-align: right;\n",
       "    }\n",
       "</style>\n",
       "<table border=\"1\" class=\"dataframe\">\n",
       "  <thead>\n",
       "    <tr style=\"text-align: right;\">\n",
       "      <th></th>\n",
       "      <th>Pregnancies</th>\n",
       "      <th>Glucose</th>\n",
       "      <th>BloodPressure</th>\n",
       "      <th>SkinThickness</th>\n",
       "      <th>Insulin</th>\n",
       "      <th>BMI</th>\n",
       "      <th>DiabetesPedigreeFunction</th>\n",
       "      <th>Age</th>\n",
       "      <th>Outcome</th>\n",
       "    </tr>\n",
       "  </thead>\n",
       "  <tbody>\n",
       "    <tr>\n",
       "      <th>0</th>\n",
       "      <td>6</td>\n",
       "      <td>148</td>\n",
       "      <td>72</td>\n",
       "      <td>35</td>\n",
       "      <td>0</td>\n",
       "      <td>33.6</td>\n",
       "      <td>0.627</td>\n",
       "      <td>50</td>\n",
       "      <td>1</td>\n",
       "    </tr>\n",
       "    <tr>\n",
       "      <th>1</th>\n",
       "      <td>1</td>\n",
       "      <td>85</td>\n",
       "      <td>66</td>\n",
       "      <td>29</td>\n",
       "      <td>0</td>\n",
       "      <td>26.6</td>\n",
       "      <td>0.351</td>\n",
       "      <td>31</td>\n",
       "      <td>0</td>\n",
       "    </tr>\n",
       "    <tr>\n",
       "      <th>2</th>\n",
       "      <td>8</td>\n",
       "      <td>183</td>\n",
       "      <td>64</td>\n",
       "      <td>0</td>\n",
       "      <td>0</td>\n",
       "      <td>23.3</td>\n",
       "      <td>0.672</td>\n",
       "      <td>32</td>\n",
       "      <td>1</td>\n",
       "    </tr>\n",
       "    <tr>\n",
       "      <th>3</th>\n",
       "      <td>1</td>\n",
       "      <td>89</td>\n",
       "      <td>66</td>\n",
       "      <td>23</td>\n",
       "      <td>94</td>\n",
       "      <td>28.1</td>\n",
       "      <td>0.167</td>\n",
       "      <td>21</td>\n",
       "      <td>0</td>\n",
       "    </tr>\n",
       "    <tr>\n",
       "      <th>4</th>\n",
       "      <td>0</td>\n",
       "      <td>137</td>\n",
       "      <td>40</td>\n",
       "      <td>35</td>\n",
       "      <td>168</td>\n",
       "      <td>43.1</td>\n",
       "      <td>2.288</td>\n",
       "      <td>33</td>\n",
       "      <td>1</td>\n",
       "    </tr>\n",
       "    <tr>\n",
       "      <th>5</th>\n",
       "      <td>5</td>\n",
       "      <td>116</td>\n",
       "      <td>74</td>\n",
       "      <td>0</td>\n",
       "      <td>0</td>\n",
       "      <td>25.6</td>\n",
       "      <td>0.201</td>\n",
       "      <td>30</td>\n",
       "      <td>0</td>\n",
       "    </tr>\n",
       "    <tr>\n",
       "      <th>6</th>\n",
       "      <td>3</td>\n",
       "      <td>78</td>\n",
       "      <td>50</td>\n",
       "      <td>32</td>\n",
       "      <td>88</td>\n",
       "      <td>31.0</td>\n",
       "      <td>0.248</td>\n",
       "      <td>26</td>\n",
       "      <td>1</td>\n",
       "    </tr>\n",
       "    <tr>\n",
       "      <th>7</th>\n",
       "      <td>10</td>\n",
       "      <td>115</td>\n",
       "      <td>0</td>\n",
       "      <td>0</td>\n",
       "      <td>0</td>\n",
       "      <td>35.3</td>\n",
       "      <td>0.134</td>\n",
       "      <td>29</td>\n",
       "      <td>0</td>\n",
       "    </tr>\n",
       "    <tr>\n",
       "      <th>8</th>\n",
       "      <td>2</td>\n",
       "      <td>197</td>\n",
       "      <td>70</td>\n",
       "      <td>45</td>\n",
       "      <td>543</td>\n",
       "      <td>30.5</td>\n",
       "      <td>0.158</td>\n",
       "      <td>53</td>\n",
       "      <td>1</td>\n",
       "    </tr>\n",
       "    <tr>\n",
       "      <th>9</th>\n",
       "      <td>8</td>\n",
       "      <td>125</td>\n",
       "      <td>96</td>\n",
       "      <td>0</td>\n",
       "      <td>0</td>\n",
       "      <td>0.0</td>\n",
       "      <td>0.232</td>\n",
       "      <td>54</td>\n",
       "      <td>1</td>\n",
       "    </tr>\n",
       "  </tbody>\n",
       "</table>\n",
       "</div>"
      ],
      "text/plain": [
       "   Pregnancies  Glucose  BloodPressure  SkinThickness  Insulin   BMI  \\\n",
       "0            6      148             72             35        0  33.6   \n",
       "1            1       85             66             29        0  26.6   \n",
       "2            8      183             64              0        0  23.3   \n",
       "3            1       89             66             23       94  28.1   \n",
       "4            0      137             40             35      168  43.1   \n",
       "5            5      116             74              0        0  25.6   \n",
       "6            3       78             50             32       88  31.0   \n",
       "7           10      115              0              0        0  35.3   \n",
       "8            2      197             70             45      543  30.5   \n",
       "9            8      125             96              0        0   0.0   \n",
       "\n",
       "   DiabetesPedigreeFunction  Age  Outcome  \n",
       "0                     0.627   50        1  \n",
       "1                     0.351   31        0  \n",
       "2                     0.672   32        1  \n",
       "3                     0.167   21        0  \n",
       "4                     2.288   33        1  \n",
       "5                     0.201   30        0  \n",
       "6                     0.248   26        1  \n",
       "7                     0.134   29        0  \n",
       "8                     0.158   53        1  \n",
       "9                     0.232   54        1  "
      ]
     },
     "execution_count": 3,
     "metadata": {},
     "output_type": "execute_result"
    }
   ],
   "source": [
    "# importando o dataset.\n",
    "df = pd.read_csv('pima-data.csv')\n",
    "df.head(10)"
   ]
  },
  {
   "cell_type": "code",
   "execution_count": 4,
   "metadata": {},
   "outputs": [
    {
     "name": "stdout",
     "output_type": "stream",
     "text": [
      "<class 'pandas.core.frame.DataFrame'>\n",
      "RangeIndex: 768 entries, 0 to 767\n",
      "Data columns (total 9 columns):\n",
      " #   Column                    Non-Null Count  Dtype  \n",
      "---  ------                    --------------  -----  \n",
      " 0   Pregnancies               768 non-null    int64  \n",
      " 1   Glucose                   768 non-null    int64  \n",
      " 2   BloodPressure             768 non-null    int64  \n",
      " 3   SkinThickness             768 non-null    int64  \n",
      " 4   Insulin                   768 non-null    int64  \n",
      " 5   BMI                       768 non-null    float64\n",
      " 6   DiabetesPedigreeFunction  768 non-null    float64\n",
      " 7   Age                       768 non-null    int64  \n",
      " 8   Outcome                   768 non-null    int64  \n",
      "dtypes: float64(2), int64(7)\n",
      "memory usage: 54.1 KB\n"
     ]
    }
   ],
   "source": [
    "# procurando por missing values no dataset e checando os tipos de cada feature.\n",
    "df.info()"
   ]
  },
  {
   "cell_type": "code",
   "execution_count": 5,
   "metadata": {},
   "outputs": [
    {
     "data": {
      "text/html": [
       "<div>\n",
       "<style scoped>\n",
       "    .dataframe tbody tr th:only-of-type {\n",
       "        vertical-align: middle;\n",
       "    }\n",
       "\n",
       "    .dataframe tbody tr th {\n",
       "        vertical-align: top;\n",
       "    }\n",
       "\n",
       "    .dataframe thead th {\n",
       "        text-align: right;\n",
       "    }\n",
       "</style>\n",
       "<table border=\"1\" class=\"dataframe\">\n",
       "  <thead>\n",
       "    <tr style=\"text-align: right;\">\n",
       "      <th></th>\n",
       "      <th>Pregnancies</th>\n",
       "      <th>Glucose</th>\n",
       "      <th>BloodPressure</th>\n",
       "      <th>SkinThickness</th>\n",
       "      <th>Insulin</th>\n",
       "      <th>BMI</th>\n",
       "      <th>DiabetesPedigreeFunction</th>\n",
       "      <th>Age</th>\n",
       "      <th>Outcome</th>\n",
       "    </tr>\n",
       "  </thead>\n",
       "  <tbody>\n",
       "    <tr>\n",
       "      <th>count</th>\n",
       "      <td>768.000000</td>\n",
       "      <td>768.000000</td>\n",
       "      <td>768.000000</td>\n",
       "      <td>768.000000</td>\n",
       "      <td>768.000000</td>\n",
       "      <td>768.000000</td>\n",
       "      <td>768.000000</td>\n",
       "      <td>768.000000</td>\n",
       "      <td>768.000000</td>\n",
       "    </tr>\n",
       "    <tr>\n",
       "      <th>mean</th>\n",
       "      <td>3.845052</td>\n",
       "      <td>120.894531</td>\n",
       "      <td>69.105469</td>\n",
       "      <td>20.536458</td>\n",
       "      <td>79.799479</td>\n",
       "      <td>31.992578</td>\n",
       "      <td>0.471876</td>\n",
       "      <td>33.240885</td>\n",
       "      <td>0.348958</td>\n",
       "    </tr>\n",
       "    <tr>\n",
       "      <th>std</th>\n",
       "      <td>3.369578</td>\n",
       "      <td>31.972618</td>\n",
       "      <td>19.355807</td>\n",
       "      <td>15.952218</td>\n",
       "      <td>115.244002</td>\n",
       "      <td>7.884160</td>\n",
       "      <td>0.331329</td>\n",
       "      <td>11.760232</td>\n",
       "      <td>0.476951</td>\n",
       "    </tr>\n",
       "    <tr>\n",
       "      <th>min</th>\n",
       "      <td>0.000000</td>\n",
       "      <td>0.000000</td>\n",
       "      <td>0.000000</td>\n",
       "      <td>0.000000</td>\n",
       "      <td>0.000000</td>\n",
       "      <td>0.000000</td>\n",
       "      <td>0.078000</td>\n",
       "      <td>21.000000</td>\n",
       "      <td>0.000000</td>\n",
       "    </tr>\n",
       "    <tr>\n",
       "      <th>25%</th>\n",
       "      <td>1.000000</td>\n",
       "      <td>99.000000</td>\n",
       "      <td>62.000000</td>\n",
       "      <td>0.000000</td>\n",
       "      <td>0.000000</td>\n",
       "      <td>27.300000</td>\n",
       "      <td>0.243750</td>\n",
       "      <td>24.000000</td>\n",
       "      <td>0.000000</td>\n",
       "    </tr>\n",
       "    <tr>\n",
       "      <th>50%</th>\n",
       "      <td>3.000000</td>\n",
       "      <td>117.000000</td>\n",
       "      <td>72.000000</td>\n",
       "      <td>23.000000</td>\n",
       "      <td>30.500000</td>\n",
       "      <td>32.000000</td>\n",
       "      <td>0.372500</td>\n",
       "      <td>29.000000</td>\n",
       "      <td>0.000000</td>\n",
       "    </tr>\n",
       "    <tr>\n",
       "      <th>75%</th>\n",
       "      <td>6.000000</td>\n",
       "      <td>140.250000</td>\n",
       "      <td>80.000000</td>\n",
       "      <td>32.000000</td>\n",
       "      <td>127.250000</td>\n",
       "      <td>36.600000</td>\n",
       "      <td>0.626250</td>\n",
       "      <td>41.000000</td>\n",
       "      <td>1.000000</td>\n",
       "    </tr>\n",
       "    <tr>\n",
       "      <th>max</th>\n",
       "      <td>17.000000</td>\n",
       "      <td>199.000000</td>\n",
       "      <td>122.000000</td>\n",
       "      <td>99.000000</td>\n",
       "      <td>846.000000</td>\n",
       "      <td>67.100000</td>\n",
       "      <td>2.420000</td>\n",
       "      <td>81.000000</td>\n",
       "      <td>1.000000</td>\n",
       "    </tr>\n",
       "  </tbody>\n",
       "</table>\n",
       "</div>"
      ],
      "text/plain": [
       "       Pregnancies     Glucose  BloodPressure  SkinThickness     Insulin  \\\n",
       "count   768.000000  768.000000     768.000000     768.000000  768.000000   \n",
       "mean      3.845052  120.894531      69.105469      20.536458   79.799479   \n",
       "std       3.369578   31.972618      19.355807      15.952218  115.244002   \n",
       "min       0.000000    0.000000       0.000000       0.000000    0.000000   \n",
       "25%       1.000000   99.000000      62.000000       0.000000    0.000000   \n",
       "50%       3.000000  117.000000      72.000000      23.000000   30.500000   \n",
       "75%       6.000000  140.250000      80.000000      32.000000  127.250000   \n",
       "max      17.000000  199.000000     122.000000      99.000000  846.000000   \n",
       "\n",
       "              BMI  DiabetesPedigreeFunction         Age     Outcome  \n",
       "count  768.000000                768.000000  768.000000  768.000000  \n",
       "mean    31.992578                  0.471876   33.240885    0.348958  \n",
       "std      7.884160                  0.331329   11.760232    0.476951  \n",
       "min      0.000000                  0.078000   21.000000    0.000000  \n",
       "25%     27.300000                  0.243750   24.000000    0.000000  \n",
       "50%     32.000000                  0.372500   29.000000    0.000000  \n",
       "75%     36.600000                  0.626250   41.000000    1.000000  \n",
       "max     67.100000                  2.420000   81.000000    1.000000  "
      ]
     },
     "execution_count": 5,
     "metadata": {},
     "output_type": "execute_result"
    }
   ],
   "source": [
    "# pricipais estatísticas das features.\n",
    "df.describe()"
   ]
  },
  {
   "cell_type": "code",
   "execution_count": 6,
   "metadata": {},
   "outputs": [
    {
     "name": "stdout",
     "output_type": "stream",
     "text": [
      "Quantidade de zeros em \"Glucose\": 5.\n",
      "Quantidade de zeros em \"BloodPressure\": 35.\n",
      "Quantidade de zeros em \"SkinThickness\": 227.\n",
      "Quantidade de zeros em \"Insulin\": 374.\n",
      "Quantidade de zeros em \"BMI\": 11.\n",
      "Quantidade de zeros em \"DiabetesPedigreeFunction\": 0.\n",
      "Quantidade de zeros em \"Age\": 0.\n"
     ]
    }
   ],
   "source": [
    "nomes = list(df.columns[1:8])\n",
    "for nome in nomes:\n",
    "    size = df[df[nome] == 0][nome].size\n",
    "    print('Quantidade de zeros em \"{}\": {}.'.format(nome, size))"
   ]
  },
  {
   "cell_type": "markdown",
   "metadata": {},
   "source": [
    "O dataset possui 768 observações e 9 colunas, sendo 8 colunas preditoras e uma coluna target. Os tipos dos dados foram importados corretamente, conforme as informações que cada coluna se prestou a indicar.\n",
    "\n",
    "Entretanto, passando pelas linhas e colunas, foi possível encontrar features que apresentam alguns valores zerados. Podemos levantar algumas hipóteses para isso ter acontecido: esses dados não foram recolhidos ou não foram repassados corretamente para o dataset.\n",
    "\n",
    "Para resolver esse problema irei imputar alguns valores com base em alguns critérios. Mas vou fazer esse procedimento previamente a seleção de variáveis."
   ]
  },
  {
   "cell_type": "code",
   "execution_count": 7,
   "metadata": {},
   "outputs": [
    {
     "data": {
      "text/html": [
       "<div>\n",
       "<style scoped>\n",
       "    .dataframe tbody tr th:only-of-type {\n",
       "        vertical-align: middle;\n",
       "    }\n",
       "\n",
       "    .dataframe tbody tr th {\n",
       "        vertical-align: top;\n",
       "    }\n",
       "\n",
       "    .dataframe thead th {\n",
       "        text-align: right;\n",
       "    }\n",
       "</style>\n",
       "<table border=\"1\" class=\"dataframe\">\n",
       "  <thead>\n",
       "    <tr style=\"text-align: right;\">\n",
       "      <th></th>\n",
       "      <th>Pregnancies</th>\n",
       "      <th>Glucose</th>\n",
       "      <th>BloodPressure</th>\n",
       "      <th>SkinThickness</th>\n",
       "      <th>Insulin</th>\n",
       "      <th>BMI</th>\n",
       "      <th>DiabetesPedigreeFunction</th>\n",
       "      <th>Age</th>\n",
       "      <th>Outcome</th>\n",
       "    </tr>\n",
       "  </thead>\n",
       "  <tbody>\n",
       "    <tr>\n",
       "      <th>Pregnancies</th>\n",
       "      <td>1.000000</td>\n",
       "      <td>0.129459</td>\n",
       "      <td>0.141282</td>\n",
       "      <td>-0.081672</td>\n",
       "      <td>-0.073535</td>\n",
       "      <td>0.017683</td>\n",
       "      <td>-0.033523</td>\n",
       "      <td>0.544341</td>\n",
       "      <td>0.221898</td>\n",
       "    </tr>\n",
       "    <tr>\n",
       "      <th>Glucose</th>\n",
       "      <td>0.129459</td>\n",
       "      <td>1.000000</td>\n",
       "      <td>0.152590</td>\n",
       "      <td>0.057328</td>\n",
       "      <td>0.331357</td>\n",
       "      <td>0.221071</td>\n",
       "      <td>0.137337</td>\n",
       "      <td>0.263514</td>\n",
       "      <td>0.466581</td>\n",
       "    </tr>\n",
       "    <tr>\n",
       "      <th>BloodPressure</th>\n",
       "      <td>0.141282</td>\n",
       "      <td>0.152590</td>\n",
       "      <td>1.000000</td>\n",
       "      <td>0.207371</td>\n",
       "      <td>0.088933</td>\n",
       "      <td>0.281805</td>\n",
       "      <td>0.041265</td>\n",
       "      <td>0.239528</td>\n",
       "      <td>0.065068</td>\n",
       "    </tr>\n",
       "    <tr>\n",
       "      <th>SkinThickness</th>\n",
       "      <td>-0.081672</td>\n",
       "      <td>0.057328</td>\n",
       "      <td>0.207371</td>\n",
       "      <td>1.000000</td>\n",
       "      <td>0.436783</td>\n",
       "      <td>0.392573</td>\n",
       "      <td>0.183928</td>\n",
       "      <td>-0.113970</td>\n",
       "      <td>0.074752</td>\n",
       "    </tr>\n",
       "    <tr>\n",
       "      <th>Insulin</th>\n",
       "      <td>-0.073535</td>\n",
       "      <td>0.331357</td>\n",
       "      <td>0.088933</td>\n",
       "      <td>0.436783</td>\n",
       "      <td>1.000000</td>\n",
       "      <td>0.197859</td>\n",
       "      <td>0.185071</td>\n",
       "      <td>-0.042163</td>\n",
       "      <td>0.130548</td>\n",
       "    </tr>\n",
       "    <tr>\n",
       "      <th>BMI</th>\n",
       "      <td>0.017683</td>\n",
       "      <td>0.221071</td>\n",
       "      <td>0.281805</td>\n",
       "      <td>0.392573</td>\n",
       "      <td>0.197859</td>\n",
       "      <td>1.000000</td>\n",
       "      <td>0.140647</td>\n",
       "      <td>0.036242</td>\n",
       "      <td>0.292695</td>\n",
       "    </tr>\n",
       "    <tr>\n",
       "      <th>DiabetesPedigreeFunction</th>\n",
       "      <td>-0.033523</td>\n",
       "      <td>0.137337</td>\n",
       "      <td>0.041265</td>\n",
       "      <td>0.183928</td>\n",
       "      <td>0.185071</td>\n",
       "      <td>0.140647</td>\n",
       "      <td>1.000000</td>\n",
       "      <td>0.033561</td>\n",
       "      <td>0.173844</td>\n",
       "    </tr>\n",
       "    <tr>\n",
       "      <th>Age</th>\n",
       "      <td>0.544341</td>\n",
       "      <td>0.263514</td>\n",
       "      <td>0.239528</td>\n",
       "      <td>-0.113970</td>\n",
       "      <td>-0.042163</td>\n",
       "      <td>0.036242</td>\n",
       "      <td>0.033561</td>\n",
       "      <td>1.000000</td>\n",
       "      <td>0.238356</td>\n",
       "    </tr>\n",
       "    <tr>\n",
       "      <th>Outcome</th>\n",
       "      <td>0.221898</td>\n",
       "      <td>0.466581</td>\n",
       "      <td>0.065068</td>\n",
       "      <td>0.074752</td>\n",
       "      <td>0.130548</td>\n",
       "      <td>0.292695</td>\n",
       "      <td>0.173844</td>\n",
       "      <td>0.238356</td>\n",
       "      <td>1.000000</td>\n",
       "    </tr>\n",
       "  </tbody>\n",
       "</table>\n",
       "</div>"
      ],
      "text/plain": [
       "                          Pregnancies   Glucose  BloodPressure  SkinThickness  \\\n",
       "Pregnancies                  1.000000  0.129459       0.141282      -0.081672   \n",
       "Glucose                      0.129459  1.000000       0.152590       0.057328   \n",
       "BloodPressure                0.141282  0.152590       1.000000       0.207371   \n",
       "SkinThickness               -0.081672  0.057328       0.207371       1.000000   \n",
       "Insulin                     -0.073535  0.331357       0.088933       0.436783   \n",
       "BMI                          0.017683  0.221071       0.281805       0.392573   \n",
       "DiabetesPedigreeFunction    -0.033523  0.137337       0.041265       0.183928   \n",
       "Age                          0.544341  0.263514       0.239528      -0.113970   \n",
       "Outcome                      0.221898  0.466581       0.065068       0.074752   \n",
       "\n",
       "                           Insulin       BMI  DiabetesPedigreeFunction  \\\n",
       "Pregnancies              -0.073535  0.017683                 -0.033523   \n",
       "Glucose                   0.331357  0.221071                  0.137337   \n",
       "BloodPressure             0.088933  0.281805                  0.041265   \n",
       "SkinThickness             0.436783  0.392573                  0.183928   \n",
       "Insulin                   1.000000  0.197859                  0.185071   \n",
       "BMI                       0.197859  1.000000                  0.140647   \n",
       "DiabetesPedigreeFunction  0.185071  0.140647                  1.000000   \n",
       "Age                      -0.042163  0.036242                  0.033561   \n",
       "Outcome                   0.130548  0.292695                  0.173844   \n",
       "\n",
       "                               Age   Outcome  \n",
       "Pregnancies               0.544341  0.221898  \n",
       "Glucose                   0.263514  0.466581  \n",
       "BloodPressure             0.239528  0.065068  \n",
       "SkinThickness            -0.113970  0.074752  \n",
       "Insulin                  -0.042163  0.130548  \n",
       "BMI                       0.036242  0.292695  \n",
       "DiabetesPedigreeFunction  0.033561  0.173844  \n",
       "Age                       1.000000  0.238356  \n",
       "Outcome                   0.238356  1.000000  "
      ]
     },
     "execution_count": 7,
     "metadata": {},
     "output_type": "execute_result"
    }
   ],
   "source": [
    "# correlação entre as features.\n",
    "cor = df.corr()\n",
    "cor"
   ]
  },
  {
   "cell_type": "code",
   "execution_count": 8,
   "metadata": {
    "scrolled": false
   },
   "outputs": [
    {
     "data": {
      "image/png": "[encoded data removed]",
      "text/plain": [
       "<Figure size 864x576 with 2 Axes>"
      ]
     },
     "metadata": {
      "needs_background": "light"
     },
     "output_type": "display_data"
    }
   ],
   "source": [
    "# heatmap da correlação.\n",
    "plt.figure(figsize = (12, 8))\n",
    "sns.heatmap(cor, cmap = 'rocket_r', linewidths = 0.3, annot = True)\n",
    "plt.show()"
   ]
  },
  {
   "cell_type": "markdown",
   "metadata": {},
   "source": [
    "O dataset possui correlações fracas entre as variáveis. Dentre as correlações encontradas, as que possuem maior grau de correlação é: número de gravidez e idade, glicemia e insulina, Dobra Cutânea Triciptal e insulina e Dobra Cutânea Triciptal e IMC.\n",
    "\n",
    "Apesar da correlação indicar o grau entre o relacionamento entre duas variáveis, esta não implica em causalidade."
   ]
  },
  {
   "cell_type": "markdown",
   "metadata": {},
   "source": [
    "## 4.1 Glicemia"
   ]
  },
  {
   "cell_type": "markdown",
   "metadata": {},
   "source": [
    "A glicemia é a concentração de glicose no sangue ou mais precisamente no plasma.\n",
    "\n",
    "O nosso corpo transforma alguns dos hidratos de carbono ingeridos em glicose e a glicemia é o nível de glicose presente no nosso sangue. Ou seja, quando comemos muito, a glicemia aumenta, ao passo que quando comemos pouco, esta mantém-se baixa. \n",
    "\n",
    "Mede-se a glicemia através da confirmação dos sinais e sintomas clássicos da glicemia em jejum (exame de sangue onde são verificadas as taxas de glicose no sangue) e do teste padronizado de tolerância à glicose (TTG).\n",
    "\n",
    "Estes critérios diagnosticados estão baseados nas recomendações da comunidade médico-científica atual:\n",
    "\n",
    "* Normal: Abaixo de 100 mg/dL;\n",
    "* Intolerância à glicose: jejum de 111 a 125 mg/dL; 2 horas após 75g de glicose: de 141 a 199 mg/dL;\n",
    "* Diabetes melitus: jejum maior que 126 mg/dL; 2 horas após 75g de glicose: maior que 200 mg/dL.\n",
    "\n",
    "Tanto a média quanto a mediana para os sem diabetes é ligeiramente inferior aos pacientes que possuem diabetes. A correlação entre glicemia e diabetes é moderada fraca (0.47)."
   ]
  },
  {
   "cell_type": "code",
   "execution_count": 9,
   "metadata": {},
   "outputs": [
    {
     "data": {
      "image/png": "[encoded data removed]",
      "text/plain": [
       "<Figure size 485.25x432 with 1 Axes>"
      ]
     },
     "metadata": {
      "needs_background": "light"
     },
     "output_type": "display_data"
    },
    {
     "name": "stdout",
     "output_type": "stream",
     "text": [
      "       Com Diabetes  Sem Diabetes\n",
      "count    266.000000    497.000000\n",
      "mean     142.319549    110.643863\n",
      "std       29.599199     24.776906\n",
      "min       78.000000     44.000000\n",
      "25%      119.000000     93.000000\n",
      "50%      140.000000    107.000000\n",
      "75%      167.000000    125.000000\n",
      "max      199.000000    197.000000\n"
     ]
    }
   ],
   "source": [
    "displot_stats(df, 'Glucose')"
   ]
  },
  {
   "cell_type": "markdown",
   "metadata": {},
   "source": [
    "## 4.2 Pressão Sanguínea Diastólica"
   ]
  },
  {
   "cell_type": "markdown",
   "metadata": {},
   "source": [
    "Pressão arterial diastólica (PAD) é o menor valor verificado durante a aferição de pressão arterial. Exemplo: 120x80; em que 120 refere-se à pressão arterial sistólica e 80 refere-se à pressão arterial diastólica, ambas medidas em milímetros de mercúrio (mmHg). Esta aferição refere-se à pressão exercida pelo sangue nas paredes da aorta durante a Diástole ventricular (Diástole Ventricular é o movimento de \"relaxamento\" dos ventrículos, em que eles se expandem (relaxam), permitindo que o Sangue que foi impulsionado pelos Átrios encha os Ventrículos.). \n",
    "\n",
    "A pressão diastólica recomendada para um adulto normal é de 80 mmHg.\n",
    "\n",
    "* Hipotensão se a leitura sistólica for < 90 mmHg e a leitura diastólica for < 60 mmHg;\n",
    "* Pré-hipertensão se a leitura sistólica for de 121 a 139 mmHg e a leitura diastólica for de 81 a 89 mmHg;\n",
    "* Hipertensão estágio 1 se a leitura sistólica for 140 a 159 mmHg e a leitura diastólica for 90 a 99 mmHg;\n",
    "* Hipertensão estágio 2 se a leitura sistólica é de 160 mmHg e a leitura diastólica é de 100 mmHg."
   ]
  },
  {
   "cell_type": "code",
   "execution_count": 10,
   "metadata": {},
   "outputs": [
    {
     "data": {
      "image/png": "[encoded data removed]",
      "text/plain": [
       "<Figure size 485.25x432 with 1 Axes>"
      ]
     },
     "metadata": {
      "needs_background": "light"
     },
     "output_type": "display_data"
    },
    {
     "name": "stdout",
     "output_type": "stream",
     "text": [
      "       Com Diabetes  Sem Diabetes\n",
      "count    252.000000    481.000000\n",
      "mean      75.321429     70.877339\n",
      "std       12.299866     12.161223\n",
      "min       30.000000     24.000000\n",
      "25%       68.000000     62.000000\n",
      "50%       74.500000     70.000000\n",
      "75%       84.000000     78.000000\n",
      "max      114.000000    122.000000\n"
     ]
    }
   ],
   "source": [
    "displot_stats(df, 'BloodPressure')"
   ]
  },
  {
   "cell_type": "markdown",
   "metadata": {},
   "source": [
    "## 4.3 Dobra Cutânea Triciptal"
   ]
  },
  {
   "cell_type": "markdown",
   "metadata": {},
   "source": [
    "É medida na face posterior do braço, paralelamente ao eixo longitudinal, no ponto que compreende a metade da distância entre a borda súpero-lateral do acrômio e o olécrano.\n",
    "\n",
    "A espessura da dobra cutânea tricipal e de um diagnóstico positivo para diabetes apresenta uma correlação positiva fraca. Os valores, já no primeiro quartil para os pacientes com e sem diabetes já distoam bastante."
   ]
  },
  {
   "cell_type": "code",
   "execution_count": 11,
   "metadata": {},
   "outputs": [
    {
     "data": {
      "image/png": "[encoded data removed]",
      "text/plain": [
       "<Figure size 485.25x432 with 1 Axes>"
      ]
     },
     "metadata": {
      "needs_background": "light"
     },
     "output_type": "display_data"
    },
    {
     "name": "stdout",
     "output_type": "stream",
     "text": [
      "       Com Diabetes  Sem Diabetes\n",
      "count    180.000000    361.000000\n",
      "mean      33.000000     27.235457\n",
      "std       10.327595     10.026491\n",
      "min        7.000000      7.000000\n",
      "25%       27.000000     19.000000\n",
      "50%       32.000000     27.000000\n",
      "75%       39.000000     33.000000\n",
      "max       99.000000     60.000000\n"
     ]
    }
   ],
   "source": [
    "displot_stats(df, 'SkinThickness')"
   ]
  },
  {
   "cell_type": "markdown",
   "metadata": {},
   "source": [
    "## 4.4 IMC"
   ]
  },
  {
   "cell_type": "markdown",
   "metadata": {},
   "source": [
    "O índice de massa corporal (IMC) é uma medida internacional usada para calcular se uma pessoa está no peso ideal. Em adultos:\n",
    "\n",
    "* Abaixo de 17:\tmuito abaixo do peso\n",
    "* Entre 17 e 18.49:\tabaixo do peso\n",
    "* Entre 18.50 e 24.99:\tpeso normal\n",
    "* Entre 25 e 29.99:\tacima do peso\n",
    "* Entre 30 e 34.99:\tobesidade I\n",
    "* Entre 35 e 39.99:\tobesidade II (severa)\n",
    "* Acima de 40:\tobesidade III (mórbida)"
   ]
  },
  {
   "cell_type": "code",
   "execution_count": 12,
   "metadata": {},
   "outputs": [
    {
     "data": {
      "image/png": "[encoded data removed]",
      "text/plain": [
       "<Figure size 485.25x432 with 1 Axes>"
      ]
     },
     "metadata": {
      "needs_background": "light"
     },
     "output_type": "display_data"
    },
    {
     "name": "stdout",
     "output_type": "stream",
     "text": [
      "       Com Diabetes  Sem Diabetes\n",
      "count    266.000000    491.000000\n",
      "mean      35.406767     30.859674\n",
      "std        6.614982      6.560737\n",
      "min       22.900000     18.200000\n",
      "25%       30.900000     25.600000\n",
      "50%       34.300000     30.100000\n",
      "75%       38.925000     35.300000\n",
      "max       67.100000     57.300000\n"
     ]
    }
   ],
   "source": [
    "displot_stats(df, 'BMI')"
   ]
  },
  {
   "cell_type": "markdown",
   "metadata": {},
   "source": [
    "## 4.5 Diabetes Pedigree Function (DPF)"
   ]
  },
  {
   "cell_type": "markdown",
   "metadata": {},
   "source": [
    "Esse índice fornece uma síntese histórica de diabetes em parentes e a relação genética desses parentes com o sujeito investigado. Este utiliza informações de pais, avós, irmãos, tias, tios e primos de primeiro grau. Ele fornece uma medida da influência genética esperada de parentes afetados e não afetados no eventual risco de diabetes do sujeito."
   ]
  },
  {
   "cell_type": "code",
   "execution_count": 13,
   "metadata": {},
   "outputs": [
    {
     "data": {
      "image/png": "[encoded data removed]",
      "text/plain": [
       "<Figure size 485.25x432 with 1 Axes>"
      ]
     },
     "metadata": {
      "needs_background": "light"
     },
     "output_type": "display_data"
    },
    {
     "name": "stdout",
     "output_type": "stream",
     "text": [
      "       Com Diabetes  Sem Diabetes\n",
      "count    268.000000    500.000000\n",
      "mean       0.550500      0.429734\n",
      "std        0.372354      0.299085\n",
      "min        0.088000      0.078000\n",
      "25%        0.262500      0.229750\n",
      "50%        0.449000      0.336000\n",
      "75%        0.728000      0.561750\n",
      "max        2.420000      2.329000\n"
     ]
    }
   ],
   "source": [
    "displot_stats(df, 'DiabetesPedigreeFunction')"
   ]
  },
  {
   "cell_type": "markdown",
   "metadata": {},
   "source": [
    "## 4.6 Idade"
   ]
  },
  {
   "cell_type": "code",
   "execution_count": 14,
   "metadata": {},
   "outputs": [
    {
     "data": {
      "image/png": "[encoded data removed]",
      "text/plain": [
       "<Figure size 485.25x432 with 1 Axes>"
      ]
     },
     "metadata": {
      "needs_background": "light"
     },
     "output_type": "display_data"
    },
    {
     "name": "stdout",
     "output_type": "stream",
     "text": [
      "       Com Diabetes  Sem Diabetes\n",
      "count    268.000000    500.000000\n",
      "mean      37.067164     31.190000\n",
      "std       10.968254     11.667655\n",
      "min       21.000000     21.000000\n",
      "25%       28.000000     23.000000\n",
      "50%       36.000000     27.000000\n",
      "75%       44.000000     37.000000\n",
      "max       70.000000     81.000000\n"
     ]
    }
   ],
   "source": [
    "displot_stats(df, 'Age')"
   ]
  },
  {
   "cell_type": "markdown",
   "metadata": {},
   "source": [
    "## 4.7 Insulina"
   ]
  },
  {
   "cell_type": "markdown",
   "metadata": {},
   "source": [
    "A insulina é um hormônio produzido pelo pâncreas. Esse hormônio avisa as células do organismo para que absorvam a glicose"
   ]
  },
  {
   "cell_type": "code",
   "execution_count": 15,
   "metadata": {},
   "outputs": [
    {
     "data": {
      "image/png": "[encoded data removed]",
      "text/plain": [
       "<Figure size 485.25x432 with 1 Axes>"
      ]
     },
     "metadata": {
      "needs_background": "light"
     },
     "output_type": "display_data"
    },
    {
     "name": "stdout",
     "output_type": "stream",
     "text": [
      "       Com Diabetes  Sem Diabetes\n",
      "count    130.000000    264.000000\n",
      "mean     206.846154    130.287879\n",
      "std      132.699898    102.482237\n",
      "min       14.000000     15.000000\n",
      "25%      127.500000     66.000000\n",
      "50%      169.500000    102.500000\n",
      "75%      239.250000    161.250000\n",
      "max      846.000000    744.000000\n"
     ]
    }
   ],
   "source": [
    "displot_stats(df, 'Insulin')"
   ]
  },
  {
   "cell_type": "markdown",
   "metadata": {},
   "source": [
    "# 5.0 Seleção de Variáveis"
   ]
  },
  {
   "cell_type": "markdown",
   "metadata": {},
   "source": [
    "Antes de selecionar as variáveis para o modelo. Chegou a hora de inputar valores para substituir os valores zerados no nosso dataset."
   ]
  },
  {
   "cell_type": "markdown",
   "metadata": {},
   "source": [
    "* Quantidade de zeros em \"Glucose\": 5.\n",
    "* Quantidade de zeros em \"BloodPressure\": 35.\n",
    "* Quantidade de zeros em \"SkinThickness\": 227.\n",
    "* Quantidade de zeros em \"Insulin\": 374.\n",
    "* Quantidade de zeros em \"BMI\": 11.\n",
    "* Quantidade de zeros em \"DiabetesPedigreeFunction\": 0.\n",
    "* Quantidade de zeros em \"Age\": 0."
   ]
  },
  {
   "cell_type": "markdown",
   "metadata": {},
   "source": [
    "Para isso, vou utilizar um critério. Irei separar as variáveis em dois grupos, com diabetes e sem diabetes, e a partir desses dois grupos irei tirar a média. Essa média será utilizada para substituir os valores zerados para cada variável e cada grupo."
   ]
  },
  {
   "cell_type": "code",
   "execution_count": 16,
   "metadata": {},
   "outputs": [
    {
     "data": {
      "text/html": [
       "<div>\n",
       "<style scoped>\n",
       "    .dataframe tbody tr th:only-of-type {\n",
       "        vertical-align: middle;\n",
       "    }\n",
       "\n",
       "    .dataframe tbody tr th {\n",
       "        vertical-align: top;\n",
       "    }\n",
       "\n",
       "    .dataframe thead th {\n",
       "        text-align: right;\n",
       "    }\n",
       "</style>\n",
       "<table border=\"1\" class=\"dataframe\">\n",
       "  <thead>\n",
       "    <tr style=\"text-align: right;\">\n",
       "      <th></th>\n",
       "      <th>Pregnancies</th>\n",
       "      <th>Glucose</th>\n",
       "      <th>BloodPressure</th>\n",
       "      <th>SkinThickness</th>\n",
       "      <th>Insulin</th>\n",
       "      <th>BMI</th>\n",
       "      <th>DiabetesPedigreeFunction</th>\n",
       "      <th>Age</th>\n",
       "      <th>Outcome</th>\n",
       "    </tr>\n",
       "  </thead>\n",
       "  <tbody>\n",
       "    <tr>\n",
       "      <th>0</th>\n",
       "      <td>6</td>\n",
       "      <td>148.0</td>\n",
       "      <td>72.0</td>\n",
       "      <td>35.0</td>\n",
       "      <td>206.846154</td>\n",
       "      <td>33.6</td>\n",
       "      <td>0.627</td>\n",
       "      <td>50</td>\n",
       "      <td>1</td>\n",
       "    </tr>\n",
       "    <tr>\n",
       "      <th>1</th>\n",
       "      <td>1</td>\n",
       "      <td>85.0</td>\n",
       "      <td>66.0</td>\n",
       "      <td>29.0</td>\n",
       "      <td>130.287879</td>\n",
       "      <td>26.6</td>\n",
       "      <td>0.351</td>\n",
       "      <td>31</td>\n",
       "      <td>0</td>\n",
       "    </tr>\n",
       "    <tr>\n",
       "      <th>2</th>\n",
       "      <td>8</td>\n",
       "      <td>183.0</td>\n",
       "      <td>64.0</td>\n",
       "      <td>33.0</td>\n",
       "      <td>206.846154</td>\n",
       "      <td>23.3</td>\n",
       "      <td>0.672</td>\n",
       "      <td>32</td>\n",
       "      <td>1</td>\n",
       "    </tr>\n",
       "    <tr>\n",
       "      <th>3</th>\n",
       "      <td>1</td>\n",
       "      <td>89.0</td>\n",
       "      <td>66.0</td>\n",
       "      <td>23.0</td>\n",
       "      <td>94.000000</td>\n",
       "      <td>28.1</td>\n",
       "      <td>0.167</td>\n",
       "      <td>21</td>\n",
       "      <td>0</td>\n",
       "    </tr>\n",
       "    <tr>\n",
       "      <th>4</th>\n",
       "      <td>0</td>\n",
       "      <td>137.0</td>\n",
       "      <td>40.0</td>\n",
       "      <td>35.0</td>\n",
       "      <td>168.000000</td>\n",
       "      <td>43.1</td>\n",
       "      <td>2.288</td>\n",
       "      <td>33</td>\n",
       "      <td>1</td>\n",
       "    </tr>\n",
       "  </tbody>\n",
       "</table>\n",
       "</div>"
      ],
      "text/plain": [
       "   Pregnancies  Glucose  BloodPressure  SkinThickness     Insulin   BMI  \\\n",
       "0            6    148.0           72.0           35.0  206.846154  33.6   \n",
       "1            1     85.0           66.0           29.0  130.287879  26.6   \n",
       "2            8    183.0           64.0           33.0  206.846154  23.3   \n",
       "3            1     89.0           66.0           23.0   94.000000  28.1   \n",
       "4            0    137.0           40.0           35.0  168.000000  43.1   \n",
       "\n",
       "   DiabetesPedigreeFunction  Age  Outcome  \n",
       "0                     0.627   50        1  \n",
       "1                     0.351   31        0  \n",
       "2                     0.672   32        1  \n",
       "3                     0.167   21        0  \n",
       "4                     2.288   33        1  "
      ]
     },
     "execution_count": 16,
     "metadata": {},
     "output_type": "execute_result"
    }
   ],
   "source": [
    "# novo dataframe\n",
    "newdf = df.copy()\n",
    "newdf = medias(newdf)\n",
    "newdf.head()"
   ]
  },
  {
   "cell_type": "code",
   "execution_count": 17,
   "metadata": {},
   "outputs": [
    {
     "name": "stdout",
     "output_type": "stream",
     "text": [
      "Quantidade de zeros em \"Glucose\": 0.\n",
      "Quantidade de zeros em \"BloodPressure\": 0.\n",
      "Quantidade de zeros em \"SkinThickness\": 0.\n",
      "Quantidade de zeros em \"Insulin\": 0.\n",
      "Quantidade de zeros em \"BMI\": 0.\n",
      "Quantidade de zeros em \"DiabetesPedigreeFunction\": 0.\n",
      "Quantidade de zeros em \"Age\": 0.\n"
     ]
    }
   ],
   "source": [
    "nomes = list(newdf.columns[1:8])\n",
    "for nome in nomes:\n",
    "    size = newdf[newdf[nome] == 0][nome].size\n",
    "    print('Quantidade de zeros em \"{}\": {}.'.format(nome, size))"
   ]
  },
  {
   "cell_type": "markdown",
   "metadata": {},
   "source": [
    "Zeros removidos com sucesso."
   ]
  },
  {
   "cell_type": "markdown",
   "metadata": {},
   "source": [
    "Respeitando o princípio de Occam's razor, que diz que explicações mais simples sobre um fenômeno observado devem se sobressair sobre explicações mais complexas, vamos selecionar nossas variáveis. Com isso, iremos evitar a maldição da dimensonalidade e tornar nosso modelo o mais generalizado possível, evitando overfitting."
   ]
  },
  {
   "cell_type": "markdown",
   "metadata": {},
   "source": [
    "Existem várias técnicas para a seleção de variáveis, tais como: seleção univariada, eliminação recursiva de atributos, random forest e entre outros. Para esse caso, será utilizado o algoritmo Random Forest. Esse algoritmo atribui uma pontuação de acordo com o grau de importância da variável para a predição do modelo."
   ]
  },
  {
   "cell_type": "code",
   "execution_count": 18,
   "metadata": {},
   "outputs": [
    {
     "data": {
      "text/html": [
       "<div>\n",
       "<style scoped>\n",
       "    .dataframe tbody tr th:only-of-type {\n",
       "        vertical-align: middle;\n",
       "    }\n",
       "\n",
       "    .dataframe tbody tr th {\n",
       "        vertical-align: top;\n",
       "    }\n",
       "\n",
       "    .dataframe thead th {\n",
       "        text-align: right;\n",
       "    }\n",
       "</style>\n",
       "<table border=\"1\" class=\"dataframe\">\n",
       "  <thead>\n",
       "    <tr style=\"text-align: right;\">\n",
       "      <th></th>\n",
       "      <th>Colunas</th>\n",
       "      <th>Pontuacao</th>\n",
       "    </tr>\n",
       "  </thead>\n",
       "  <tbody>\n",
       "    <tr>\n",
       "      <th>0</th>\n",
       "      <td>Insulin</td>\n",
       "      <td>0.258454</td>\n",
       "    </tr>\n",
       "    <tr>\n",
       "      <th>1</th>\n",
       "      <td>Glucose</td>\n",
       "      <td>0.191197</td>\n",
       "    </tr>\n",
       "    <tr>\n",
       "      <th>2</th>\n",
       "      <td>SkinThickness</td>\n",
       "      <td>0.136050</td>\n",
       "    </tr>\n",
       "    <tr>\n",
       "      <th>3</th>\n",
       "      <td>BMI</td>\n",
       "      <td>0.100216</td>\n",
       "    </tr>\n",
       "    <tr>\n",
       "      <th>4</th>\n",
       "      <td>Age</td>\n",
       "      <td>0.091994</td>\n",
       "    </tr>\n",
       "    <tr>\n",
       "      <th>5</th>\n",
       "      <td>DiabetesPedigreeFunction</td>\n",
       "      <td>0.081491</td>\n",
       "    </tr>\n",
       "    <tr>\n",
       "      <th>6</th>\n",
       "      <td>Pregnancies</td>\n",
       "      <td>0.075902</td>\n",
       "    </tr>\n",
       "    <tr>\n",
       "      <th>7</th>\n",
       "      <td>BloodPressure</td>\n",
       "      <td>0.064696</td>\n",
       "    </tr>\n",
       "  </tbody>\n",
       "</table>\n",
       "</div>"
      ],
      "text/plain": [
       "                    Colunas  Pontuacao\n",
       "0                   Insulin   0.258454\n",
       "1                   Glucose   0.191197\n",
       "2             SkinThickness   0.136050\n",
       "3                       BMI   0.100216\n",
       "4                       Age   0.091994\n",
       "5  DiabetesPedigreeFunction   0.081491\n",
       "6               Pregnancies   0.075902\n",
       "7             BloodPressure   0.064696"
      ]
     },
     "execution_count": 18,
     "metadata": {},
     "output_type": "execute_result"
    }
   ],
   "source": [
    "# seleção de variáveis.\n",
    "# split dar features preditoras e targe.\n",
    "x = newdf.iloc[:, 0:8]\n",
    "y = newdf.iloc[:, 8]\n",
    "\n",
    "# criação do modelo.\n",
    "modelo_selec_var = ExtraTreesClassifier(random_state = 123)\n",
    "modelo_selec_var.fit(x, y)\n",
    "\n",
    "# resultados.\n",
    "resultado_media = pd.DataFrame({'Colunas' : newdf.columns[0:8], \n",
    "              'Pontuacao' : modelo_selec_var.feature_importances_}).sort_values('Pontuacao', ascending = False).reset_index(drop = True)\n",
    "\n",
    "# caputurando as 5 maiores pontuações.\n",
    "features_media = list(resultado_media.iloc[0:5, 0])\n",
    "\n",
    "# imprindo as pontuações.\n",
    "resultado_media"
   ]
  },
  {
   "cell_type": "markdown",
   "metadata": {},
   "source": [
    "Note que a 'Insulin' recebeu a maior pontuação dentre as variáveis. Sendo que, ela também recebeu a maior carga de substituição de valores ausentes (quase 50%). \n",
    "\n",
    "Da mesma forma a variável 'SkinThickness' também recebeu uma carga bastante considerável de substituições (quase 30%).\n",
    "\n",
    "Por conta disso, vou refazer o processo e testar a hipótese de que a imputação de valores para essas duas variáveis específicas, possa ter enviesado o cálculo de importância das features."
   ]
  },
  {
   "cell_type": "code",
   "execution_count": 19,
   "metadata": {},
   "outputs": [
    {
     "name": "stdout",
     "output_type": "stream",
     "text": [
      "Número de linhas no dataset removendo os valores diferente de 0 para \"Insulin\" e \"SkinThickness\": 394.\n",
      "Ou seja, uma redução de 51.3% do dataset original.\n"
     ]
    },
    {
     "data": {
      "text/html": [
       "<div>\n",
       "<style scoped>\n",
       "    .dataframe tbody tr th:only-of-type {\n",
       "        vertical-align: middle;\n",
       "    }\n",
       "\n",
       "    .dataframe tbody tr th {\n",
       "        vertical-align: top;\n",
       "    }\n",
       "\n",
       "    .dataframe thead th {\n",
       "        text-align: right;\n",
       "    }\n",
       "</style>\n",
       "<table border=\"1\" class=\"dataframe\">\n",
       "  <thead>\n",
       "    <tr style=\"text-align: right;\">\n",
       "      <th></th>\n",
       "      <th>Colunas</th>\n",
       "      <th>Pontuacao</th>\n",
       "    </tr>\n",
       "  </thead>\n",
       "  <tbody>\n",
       "    <tr>\n",
       "      <th>0</th>\n",
       "      <td>Glucose</td>\n",
       "      <td>0.222655</td>\n",
       "    </tr>\n",
       "    <tr>\n",
       "      <th>1</th>\n",
       "      <td>Age</td>\n",
       "      <td>0.139190</td>\n",
       "    </tr>\n",
       "    <tr>\n",
       "      <th>2</th>\n",
       "      <td>Insulin</td>\n",
       "      <td>0.128039</td>\n",
       "    </tr>\n",
       "    <tr>\n",
       "      <th>3</th>\n",
       "      <td>BMI</td>\n",
       "      <td>0.108681</td>\n",
       "    </tr>\n",
       "    <tr>\n",
       "      <th>4</th>\n",
       "      <td>DiabetesPedigreeFunction</td>\n",
       "      <td>0.107325</td>\n",
       "    </tr>\n",
       "    <tr>\n",
       "      <th>5</th>\n",
       "      <td>Pregnancies</td>\n",
       "      <td>0.106448</td>\n",
       "    </tr>\n",
       "    <tr>\n",
       "      <th>6</th>\n",
       "      <td>SkinThickness</td>\n",
       "      <td>0.098042</td>\n",
       "    </tr>\n",
       "    <tr>\n",
       "      <th>7</th>\n",
       "      <td>BloodPressure</td>\n",
       "      <td>0.089619</td>\n",
       "    </tr>\n",
       "  </tbody>\n",
       "</table>\n",
       "</div>"
      ],
      "text/plain": [
       "                    Colunas  Pontuacao\n",
       "0                   Glucose   0.222655\n",
       "1                       Age   0.139190\n",
       "2                   Insulin   0.128039\n",
       "3                       BMI   0.108681\n",
       "4  DiabetesPedigreeFunction   0.107325\n",
       "5               Pregnancies   0.106448\n",
       "6             SkinThickness   0.098042\n",
       "7             BloodPressure   0.089619"
      ]
     },
     "execution_count": 19,
     "metadata": {},
     "output_type": "execute_result"
    }
   ],
   "source": [
    "# Dataset com valores de insulina diferente de 0.\n",
    "df_sem_zeros = df[df.Insulin > 0]\n",
    "df_sem_zeros = df_sem_zeros[df_sem_zeros.SkinThickness > 0]\n",
    "print('Número de linhas no dataset removendo os valores diferente de 0 para \"Insulin\" e \"SkinThickness\": {}.'.format(len(df_sem_zeros)))\n",
    "print('Ou seja, uma redução de {}% do dataset original.'.format(round((100 * len(df_sem_zeros) / len(df)), 2)))\n",
    "\n",
    "# split dar features preditoras e targe.\n",
    "x = df_sem_zeros.iloc[:, 0:8]\n",
    "y = df_sem_zeros.iloc[:, 8]\n",
    "\n",
    "# criação do modelo.\n",
    "modelo_selec_var = ExtraTreesClassifier(random_state = 123)\n",
    "modelo_selec_var.fit(x, y)\n",
    "\n",
    "# resultados.\n",
    "resultado_sem_zeros = pd.DataFrame({'Colunas' : df_sem_zeros.columns[0:8], \n",
    "              'Pontuacao' : modelo_selec_var.feature_importances_}).sort_values('Pontuacao', \n",
    "                                                                                ascending = False).reset_index(drop = True)\n",
    "\n",
    "# capturando as 5 maiores pontuações.\n",
    "features_sem_zeros = list(resultado_sem_zeros.iloc[0:5, 0])\n",
    "\n",
    "resultado_sem_zeros"
   ]
  },
  {
   "cell_type": "markdown",
   "metadata": {},
   "source": [
    "Para esse novo dataset, onde foi removido os valores zerados para as variáveis 'Insulin' e 'SkinThickness' a glicemia tornou-se a variável com maior pontuação. A insulina passou a ser apenas a terceira variável e 'SkinThickness' a penúltima. \n",
    "\n",
    "Agora vou refazer o processo para os dados brutos."
   ]
  },
  {
   "cell_type": "code",
   "execution_count": 20,
   "metadata": {},
   "outputs": [
    {
     "data": {
      "text/html": [
       "<div>\n",
       "<style scoped>\n",
       "    .dataframe tbody tr th:only-of-type {\n",
       "        vertical-align: middle;\n",
       "    }\n",
       "\n",
       "    .dataframe tbody tr th {\n",
       "        vertical-align: top;\n",
       "    }\n",
       "\n",
       "    .dataframe thead th {\n",
       "        text-align: right;\n",
       "    }\n",
       "</style>\n",
       "<table border=\"1\" class=\"dataframe\">\n",
       "  <thead>\n",
       "    <tr style=\"text-align: right;\">\n",
       "      <th></th>\n",
       "      <th>Colunas</th>\n",
       "      <th>Pontuacao</th>\n",
       "    </tr>\n",
       "  </thead>\n",
       "  <tbody>\n",
       "    <tr>\n",
       "      <th>0</th>\n",
       "      <td>Glucose</td>\n",
       "      <td>0.235267</td>\n",
       "    </tr>\n",
       "    <tr>\n",
       "      <th>1</th>\n",
       "      <td>BMI</td>\n",
       "      <td>0.141234</td>\n",
       "    </tr>\n",
       "    <tr>\n",
       "      <th>2</th>\n",
       "      <td>Age</td>\n",
       "      <td>0.140813</td>\n",
       "    </tr>\n",
       "    <tr>\n",
       "      <th>3</th>\n",
       "      <td>DiabetesPedigreeFunction</td>\n",
       "      <td>0.120686</td>\n",
       "    </tr>\n",
       "    <tr>\n",
       "      <th>4</th>\n",
       "      <td>Pregnancies</td>\n",
       "      <td>0.111597</td>\n",
       "    </tr>\n",
       "    <tr>\n",
       "      <th>5</th>\n",
       "      <td>BloodPressure</td>\n",
       "      <td>0.099123</td>\n",
       "    </tr>\n",
       "    <tr>\n",
       "      <th>6</th>\n",
       "      <td>SkinThickness</td>\n",
       "      <td>0.078179</td>\n",
       "    </tr>\n",
       "    <tr>\n",
       "      <th>7</th>\n",
       "      <td>Insulin</td>\n",
       "      <td>0.073101</td>\n",
       "    </tr>\n",
       "  </tbody>\n",
       "</table>\n",
       "</div>"
      ],
      "text/plain": [
       "                    Colunas  Pontuacao\n",
       "0                   Glucose   0.235267\n",
       "1                       BMI   0.141234\n",
       "2                       Age   0.140813\n",
       "3  DiabetesPedigreeFunction   0.120686\n",
       "4               Pregnancies   0.111597\n",
       "5             BloodPressure   0.099123\n",
       "6             SkinThickness   0.078179\n",
       "7                   Insulin   0.073101"
      ]
     },
     "execution_count": 20,
     "metadata": {},
     "output_type": "execute_result"
    }
   ],
   "source": [
    "# dataset bruto\n",
    "\n",
    "# split dar features preditoras e targe.\n",
    "x = df.iloc[:, 0:8]\n",
    "y = df.iloc[:, 8]\n",
    "\n",
    "# criação do modelo.\n",
    "modelo_selec_var = ExtraTreesClassifier(random_state = 123)\n",
    "modelo_selec_var.fit(x, y)\n",
    "\n",
    "# resultados.\n",
    "resultado_zeros = pd.DataFrame({'Colunas' : newdf.columns[0:8], \n",
    "              'Pontuacao' : modelo_selec_var.feature_importances_}).sort_values('Pontuacao', ascending = False).reset_index(drop = True)\n",
    "\n",
    "# capturando as 5 maiores pontuações.\n",
    "features_zeros = list(resultado_zeros.iloc[0:5, 0])\n",
    "\n",
    "resultado_zeros"
   ]
  },
  {
   "cell_type": "markdown",
   "metadata": {},
   "source": [
    "Para o dataset bruto, tanto 'Insulin' quanto 'SkinThickness' receberam potuações que sugerem que essas features, se não tratadas, possuem baixíssima significância para o modelo."
   ]
  },
  {
   "cell_type": "markdown",
   "metadata": {},
   "source": [
    "Para o modelo, vou utilizar as variáveis com as 5 maiores pontuações. Além disso, irei realizar fazer o treinamento do modelo para os três casos: dataset com as médias, dataset excluindo os zeros e com o dataset bruto."
   ]
  },
  {
   "cell_type": "markdown",
   "metadata": {},
   "source": [
    "# 6.0 Construção do Modelo"
   ]
  },
  {
   "cell_type": "markdown",
   "metadata": {},
   "source": [
    "Será construído vários modelos de classificação para comparar qual o melhor algoritmo para a execução da tarefa."
   ]
  },
  {
   "cell_type": "markdown",
   "metadata": {},
   "source": [
    "## 6.1 Separação em Dados de Treino e Teste"
   ]
  },
  {
   "cell_type": "markdown",
   "metadata": {},
   "source": [
    "Vou fazer a separação do dataset bruto."
   ]
  },
  {
   "cell_type": "code",
   "execution_count": 21,
   "metadata": {},
   "outputs": [],
   "source": [
    "# split dos dados em dados de treino e dados de teste com o dataset bruto.\n",
    "x_treino, x_teste, y_treino, y_teste = train_test_split(df.iloc[:, 0:8], df['Outcome'], test_size = 0.3, random_state = 123)\n",
    "\n",
    "# split dos dados em dados de treino e dados de teste com o dataset sem os valores zerados para 'Insulin' e 'SkinThickness'.\n",
    "\n",
    "x_treino_sem_zeros, x_teste_sem_zeros, y_treino_sem_zeros, y_teste_sem_zeros = train_test_split(df_sem_zeros.iloc[:, 0:8], \n",
    "                                                                                                df_sem_zeros['Outcome'], \n",
    "                                                                                                test_size = 0.3, \n",
    "                                                                                                random_state = 123)"
   ]
  },
  {
   "cell_type": "markdown",
   "metadata": {},
   "source": [
    "Vou novamente imputar as médias, desta vez nos dataset de treino e teste. Para evitar que informações do dataset de treino vazem para para o dataset de teste e vice-versa."
   ]
  },
  {
   "cell_type": "code",
   "execution_count": 22,
   "metadata": {},
   "outputs": [
    {
     "name": "stdout",
     "output_type": "stream",
     "text": [
      "x_treino: 537 linhas.\n",
      "y_treino: 537 linhas.\n",
      "x_teste: 231 linhas.\n",
      "y_teste: 231 linhas.\n"
     ]
    }
   ],
   "source": [
    "# substituição dos zeros pelas médias, conforme foi feito anteriormente para dataset de treino e teste.\n",
    "x_treino_concat = pd.concat([x_treino, pd.DataFrame(y_treino)], axis = 1)\n",
    "x_treino_medias = medias(x_treino_concat)\n",
    "y_treino_medias = x_treino_medias['Outcome']\n",
    "x_treino_medias = x_treino_medias.iloc[:, 0:8]\n",
    "\n",
    "x_teste_concat = pd.concat([x_teste, pd.DataFrame(y_teste)], axis = 1)\n",
    "x_teste_medias = medias(x_teste_concat)\n",
    "y_teste_medias = x_teste_medias['Outcome']\n",
    "x_teste_medias = x_teste_medias.iloc[:, 0:8]\n",
    "\n",
    "print('x_treino: {} linhas.\\ny_treino: {} linhas.'.format(len(x_treino_medias), len(y_treino_medias)))\n",
    "print('x_teste: {} linhas.\\ny_teste: {} linhas.'.format(len(x_teste_medias), len(y_teste_medias)))"
   ]
  },
  {
   "cell_type": "markdown",
   "metadata": {},
   "source": [
    "Agora temos o split de treino e teste para as três condições."
   ]
  },
  {
   "cell_type": "markdown",
   "metadata": {},
   "source": [
    "## 6.2 Aplicação da Seleção de Variáveis"
   ]
  },
  {
   "cell_type": "markdown",
   "metadata": {},
   "source": [
    "Irei aplicar a seleção de variáveis construída na seção 5.0, para os três casos mencionados (com médias, sem os zeros e para os dados brutos)."
   ]
  },
  {
   "cell_type": "code",
   "execution_count": 23,
   "metadata": {},
   "outputs": [],
   "source": [
    "# com as médias\n",
    "x_treino_medias = x_treino_medias[features_media] # y_treino_medias\n",
    "x_teste_medias = x_teste_medias[features_media]   # y_teste_medias\n",
    "\n",
    "# sem os zeros\n",
    "x_treino_sem_zeros = x_treino_sem_zeros[features_sem_zeros] # y_treino_sem_zero\n",
    "x_teste_sem_zeros = x_teste_sem_zeros[features_sem_zeros]   # y_teste_sem_zeros\n",
    "\n",
    "# dados brutos\n",
    "x_treino = x_treino[features_zeros] # y_treino\n",
    "x_teste = x_teste[features_zeros]   # y_teste"
   ]
  },
  {
   "cell_type": "markdown",
   "metadata": {},
   "source": [
    "## 6.3 Modelos (Algoritmos de Machine Learning)"
   ]
  },
  {
   "cell_type": "markdown",
   "metadata": {},
   "source": [
    "Vou criar uma lista e adicionar todos os modelos que irei utilizar."
   ]
  },
  {
   "cell_type": "code",
   "execution_count": 24,
   "metadata": {
    "scrolled": true
   },
   "outputs": [
    {
     "data": {
      "text/plain": [
       "[('RF', RandomForestClassifier()),\n",
       " ('LR', LogisticRegression()),\n",
       " ('LDA', LinearDiscriminantAnalysis()),\n",
       " ('NB', GaussianNB()),\n",
       " ('KNN', KNeighborsClassifier()),\n",
       " ('SVM', SVC()),\n",
       " ('XGB',\n",
       "  XGBClassifier(base_score=None, booster=None, colsample_bylevel=None,\n",
       "                colsample_bynode=None, colsample_bytree=None, gamma=None,\n",
       "                gpu_id=None, importance_type='gain', interaction_constraints=None,\n",
       "                learning_rate=None, max_delta_step=None, max_depth=None,\n",
       "                min_child_weight=None, missing=nan, monotone_constraints=None,\n",
       "                n_estimators=100, n_jobs=None, num_parallel_tree=None,\n",
       "                random_state=None, reg_alpha=None, reg_lambda=None,\n",
       "                scale_pos_weight=None, subsample=None, tree_method=None,\n",
       "                validate_parameters=None, verbosity=None))]"
      ]
     },
     "execution_count": 24,
     "metadata": {},
     "output_type": "execute_result"
    }
   ],
   "source": [
    "# lista com todos os modelos.\n",
    "modelos = []\n",
    "\n",
    "modelos.append(('RF', RandomForestClassifier()))\n",
    "modelos.append(('LR', LogisticRegression()))\n",
    "modelos.append(('LDA', LinearDiscriminantAnalysis()))\n",
    "modelos.append(('NB', GaussianNB()))\n",
    "modelos.append(('KNN', KNeighborsClassifier()))\n",
    "modelos.append(('SVM', SVC()))\n",
    "modelos.append(('XGB', XGBClassifier()))\n",
    "\n",
    "modelos"
   ]
  },
  {
   "cell_type": "markdown",
   "metadata": {},
   "source": [
    "## 6.4 Treinamento"
   ]
  },
  {
   "cell_type": "markdown",
   "metadata": {},
   "source": [
    "Agora irei treinar o modelo com os dados de treino e medir a acurácia do modelo com os dados de teste, para as três situações já mencionadas anteriormente. Para isso, irei treinar o modelo com e sem nenhuma transformação nos dados."
   ]
  },
  {
   "cell_type": "markdown",
   "metadata": {},
   "source": [
    "O ato de transformação dos dados serve para que o algoritmo não fique enviesado devidos a diferença de escala entre os valores das variáveis. Além disso, alguns algoritmos esperam receber os dados em uma mesma escala ou em distribuição normal."
   ]
  },
  {
   "cell_type": "markdown",
   "metadata": {},
   "source": [
    "Vou fazer três tipos de transformação nos dados: normalização com MinMaxScaler() e Normalizer() e padronização com StandardScale(). No final irei comparar e escolher o com maior acuária."
   ]
  },
  {
   "cell_type": "markdown",
   "metadata": {},
   "source": [
    "A normalização transforma os dados para que eles fiquem dentro de um range, que nesse caso será de 0 à 1. A padronização transforma nossos dados para uma distribuição Gaussiana (normal) com média = 0 e desvio padrão = 1."
   ]
  },
  {
   "cell_type": "markdown",
   "metadata": {},
   "source": [
    "### 6.4.1 Sem Transformação"
   ]
  },
  {
   "cell_type": "code",
   "execution_count": 25,
   "metadata": {
    "scrolled": true
   },
   "outputs": [
    {
     "data": {
      "text/html": [
       "<div>\n",
       "<style scoped>\n",
       "    .dataframe tbody tr th:only-of-type {\n",
       "        vertical-align: middle;\n",
       "    }\n",
       "\n",
       "    .dataframe tbody tr th {\n",
       "        vertical-align: top;\n",
       "    }\n",
       "\n",
       "    .dataframe thead th {\n",
       "        text-align: right;\n",
       "    }\n",
       "</style>\n",
       "<table border=\"1\" class=\"dataframe\">\n",
       "  <thead>\n",
       "    <tr style=\"text-align: right;\">\n",
       "      <th></th>\n",
       "      <th>RF</th>\n",
       "      <th>LR</th>\n",
       "      <th>LDA</th>\n",
       "      <th>NB</th>\n",
       "      <th>KNN</th>\n",
       "      <th>SVM</th>\n",
       "      <th>XGB</th>\n",
       "      <th>MEDIAS</th>\n",
       "    </tr>\n",
       "  </thead>\n",
       "  <tbody>\n",
       "    <tr>\n",
       "      <th>Dados Bruto</th>\n",
       "      <td>77.06</td>\n",
       "      <td>79.65</td>\n",
       "      <td>80.09</td>\n",
       "      <td>77.06</td>\n",
       "      <td>74.46</td>\n",
       "      <td>77.92</td>\n",
       "      <td>75.76</td>\n",
       "      <td>77.43</td>\n",
       "    </tr>\n",
       "    <tr>\n",
       "      <th>Sem Zeros</th>\n",
       "      <td>81.51</td>\n",
       "      <td>79.83</td>\n",
       "      <td>80.67</td>\n",
       "      <td>76.47</td>\n",
       "      <td>70.59</td>\n",
       "      <td>78.99</td>\n",
       "      <td>78.15</td>\n",
       "      <td>78.03</td>\n",
       "    </tr>\n",
       "    <tr>\n",
       "      <th>Com Médias</th>\n",
       "      <td>82.68</td>\n",
       "      <td>80.09</td>\n",
       "      <td>81.39</td>\n",
       "      <td>83.98</td>\n",
       "      <td>70.13</td>\n",
       "      <td>86.15</td>\n",
       "      <td>78.35</td>\n",
       "      <td>80.40</td>\n",
       "    </tr>\n",
       "    <tr>\n",
       "      <th>Médias</th>\n",
       "      <td>80.42</td>\n",
       "      <td>79.86</td>\n",
       "      <td>80.72</td>\n",
       "      <td>79.17</td>\n",
       "      <td>71.73</td>\n",
       "      <td>81.02</td>\n",
       "      <td>77.42</td>\n",
       "      <td>78.62</td>\n",
       "    </tr>\n",
       "  </tbody>\n",
       "</table>\n",
       "</div>"
      ],
      "text/plain": [
       "0               RF     LR    LDA     NB    KNN    SVM    XGB  MEDIAS\n",
       "Dados Bruto  77.06  79.65  80.09  77.06  74.46  77.92  75.76   77.43\n",
       "Sem Zeros    81.51  79.83  80.67  76.47  70.59  78.99  78.15   78.03\n",
       "Com Médias   82.68  80.09  81.39  83.98  70.13  86.15  78.35   80.40\n",
       "Médias       80.42  79.86  80.72  79.17  71.73  81.02  77.42   78.62"
      ]
     },
     "execution_count": 25,
     "metadata": {},
     "output_type": "execute_result"
    }
   ],
   "source": [
    "# dados bruto\n",
    "result_bruto = fit_modelos(modelos, x_treino, y_treino, x_teste, y_teste)\n",
    "\n",
    "# dados sem os zeros\n",
    "result_sem_zeros = fit_modelos(modelos, x_treino_sem_zeros, y_treino_sem_zeros, \n",
    "                                 x_teste_sem_zeros, y_teste_sem_zeros)\n",
    "\n",
    "# dados com as médias\n",
    "result_medias = fit_modelos(modelos, x_treino_medias, y_treino_medias, x_teste_medias, y_teste_medias)\n",
    "\n",
    "# unindo os resultados\n",
    "resultados_sem_trans = concat_results(result_bruto, result_sem_zeros, result_medias)\n",
    "resultados_sem_trans"
   ]
  },
  {
   "cell_type": "markdown",
   "metadata": {},
   "source": [
    "### 6.4.2 Com Normalização (MinMaxScaler)"
   ]
  },
  {
   "cell_type": "code",
   "execution_count": 26,
   "metadata": {},
   "outputs": [
    {
     "data": {
      "text/html": [
       "<div>\n",
       "<style scoped>\n",
       "    .dataframe tbody tr th:only-of-type {\n",
       "        vertical-align: middle;\n",
       "    }\n",
       "\n",
       "    .dataframe tbody tr th {\n",
       "        vertical-align: top;\n",
       "    }\n",
       "\n",
       "    .dataframe thead th {\n",
       "        text-align: right;\n",
       "    }\n",
       "</style>\n",
       "<table border=\"1\" class=\"dataframe\">\n",
       "  <thead>\n",
       "    <tr style=\"text-align: right;\">\n",
       "      <th></th>\n",
       "      <th>RF</th>\n",
       "      <th>LR</th>\n",
       "      <th>LDA</th>\n",
       "      <th>NB</th>\n",
       "      <th>KNN</th>\n",
       "      <th>SVM</th>\n",
       "      <th>XGB</th>\n",
       "      <th>MEDIAS</th>\n",
       "    </tr>\n",
       "  </thead>\n",
       "  <tbody>\n",
       "    <tr>\n",
       "      <th>Dados Bruto</th>\n",
       "      <td>77.06</td>\n",
       "      <td>76.19</td>\n",
       "      <td>79.22</td>\n",
       "      <td>77.49</td>\n",
       "      <td>74.89</td>\n",
       "      <td>77.92</td>\n",
       "      <td>75.76</td>\n",
       "      <td>76.93</td>\n",
       "    </tr>\n",
       "    <tr>\n",
       "      <th>Sem Zeros</th>\n",
       "      <td>73.95</td>\n",
       "      <td>81.51</td>\n",
       "      <td>81.51</td>\n",
       "      <td>78.15</td>\n",
       "      <td>73.11</td>\n",
       "      <td>75.63</td>\n",
       "      <td>71.43</td>\n",
       "      <td>76.47</td>\n",
       "    </tr>\n",
       "    <tr>\n",
       "      <th>Com Médias</th>\n",
       "      <td>83.55</td>\n",
       "      <td>74.46</td>\n",
       "      <td>76.62</td>\n",
       "      <td>76.19</td>\n",
       "      <td>72.29</td>\n",
       "      <td>75.76</td>\n",
       "      <td>83.12</td>\n",
       "      <td>77.43</td>\n",
       "    </tr>\n",
       "    <tr>\n",
       "      <th>Médias</th>\n",
       "      <td>78.19</td>\n",
       "      <td>77.39</td>\n",
       "      <td>79.12</td>\n",
       "      <td>77.28</td>\n",
       "      <td>73.43</td>\n",
       "      <td>76.44</td>\n",
       "      <td>76.77</td>\n",
       "      <td>76.94</td>\n",
       "    </tr>\n",
       "  </tbody>\n",
       "</table>\n",
       "</div>"
      ],
      "text/plain": [
       "0               RF     LR    LDA     NB    KNN    SVM    XGB  MEDIAS\n",
       "Dados Bruto  77.06  76.19  79.22  77.49  74.89  77.92  75.76   76.93\n",
       "Sem Zeros    73.95  81.51  81.51  78.15  73.11  75.63  71.43   76.47\n",
       "Com Médias   83.55  74.46  76.62  76.19  72.29  75.76  83.12   77.43\n",
       "Médias       78.19  77.39  79.12  77.28  73.43  76.44  76.77   76.94"
      ]
     },
     "execution_count": 26,
     "metadata": {},
     "output_type": "execute_result"
    }
   ],
   "source": [
    "# dados bruto\n",
    "x_treino_norm1_bruto = min_max_scaler(x_treino)\n",
    "x_teste_norm1_bruto  = min_max_scaler(x_teste)\n",
    "result_bruto_norm1   = fit_modelos(modelos, x_treino_norm1_bruto, y_treino, x_teste_norm1_bruto, y_teste)\n",
    "\n",
    "# dados sem os zeros\n",
    "x_treino_norm1_sem_zeros = min_max_scaler(x_treino_sem_zeros)\n",
    "x_teste_norm1_sem_zeros  = min_max_scaler(x_teste_sem_zeros)\n",
    "result_sem_zeros_norm1   = fit_modelos(modelos, x_treino_norm1_sem_zeros, y_treino_sem_zeros, \n",
    "                                       x_teste_norm1_sem_zeros, y_teste_sem_zeros)\n",
    "\n",
    "# dados com as médias\n",
    "x_treino_norm1_medias = min_max_scaler(x_treino_medias)\n",
    "x_teste_norm1_medias  = min_max_scaler(x_teste_medias)\n",
    "result_medias_norm1   = fit_modelos(modelos, x_treino_norm1_medias, y_treino_medias, \n",
    "                                    x_teste_norm1_medias, y_teste_medias)\n",
    "\n",
    "# unindo os resultados\n",
    "resultados_norm1 = concat_results(result_bruto_norm1, result_sem_zeros_norm1, result_medias_norm1)\n",
    "resultados_norm1"
   ]
  },
  {
   "cell_type": "markdown",
   "metadata": {},
   "source": [
    "### 6.4.3 Com Normalização (Normalizer)"
   ]
  },
  {
   "cell_type": "code",
   "execution_count": 27,
   "metadata": {},
   "outputs": [
    {
     "data": {
      "text/html": [
       "<div>\n",
       "<style scoped>\n",
       "    .dataframe tbody tr th:only-of-type {\n",
       "        vertical-align: middle;\n",
       "    }\n",
       "\n",
       "    .dataframe tbody tr th {\n",
       "        vertical-align: top;\n",
       "    }\n",
       "\n",
       "    .dataframe thead th {\n",
       "        text-align: right;\n",
       "    }\n",
       "</style>\n",
       "<table border=\"1\" class=\"dataframe\">\n",
       "  <thead>\n",
       "    <tr style=\"text-align: right;\">\n",
       "      <th></th>\n",
       "      <th>RF</th>\n",
       "      <th>LR</th>\n",
       "      <th>LDA</th>\n",
       "      <th>NB</th>\n",
       "      <th>KNN</th>\n",
       "      <th>SVM</th>\n",
       "      <th>XGB</th>\n",
       "      <th>MEDIAS</th>\n",
       "    </tr>\n",
       "  </thead>\n",
       "  <tbody>\n",
       "    <tr>\n",
       "      <th>Dados Bruto</th>\n",
       "      <td>68.83</td>\n",
       "      <td>61.9</td>\n",
       "      <td>65.8</td>\n",
       "      <td>63.2</td>\n",
       "      <td>61.04</td>\n",
       "      <td>61.9</td>\n",
       "      <td>64.94</td>\n",
       "      <td>63.94</td>\n",
       "    </tr>\n",
       "    <tr>\n",
       "      <th>Sem Zeros</th>\n",
       "      <td>64.71</td>\n",
       "      <td>67.23</td>\n",
       "      <td>63.87</td>\n",
       "      <td>58.82</td>\n",
       "      <td>66.39</td>\n",
       "      <td>71.43</td>\n",
       "      <td>65.55</td>\n",
       "      <td>65.43</td>\n",
       "    </tr>\n",
       "    <tr>\n",
       "      <th>Com Médias</th>\n",
       "      <td>78.79</td>\n",
       "      <td>62.77</td>\n",
       "      <td>64.94</td>\n",
       "      <td>78.79</td>\n",
       "      <td>76.62</td>\n",
       "      <td>61.9</td>\n",
       "      <td>74.46</td>\n",
       "      <td>71.18</td>\n",
       "    </tr>\n",
       "    <tr>\n",
       "      <th>Médias</th>\n",
       "      <td>70.78</td>\n",
       "      <td>63.97</td>\n",
       "      <td>64.87</td>\n",
       "      <td>66.94</td>\n",
       "      <td>68.02</td>\n",
       "      <td>65.08</td>\n",
       "      <td>68.32</td>\n",
       "      <td>66.85</td>\n",
       "    </tr>\n",
       "  </tbody>\n",
       "</table>\n",
       "</div>"
      ],
      "text/plain": [
       "0               RF     LR    LDA     NB    KNN    SVM    XGB  MEDIAS\n",
       "Dados Bruto  68.83   61.9   65.8   63.2  61.04   61.9  64.94   63.94\n",
       "Sem Zeros    64.71  67.23  63.87  58.82  66.39  71.43  65.55   65.43\n",
       "Com Médias   78.79  62.77  64.94  78.79  76.62   61.9  74.46   71.18\n",
       "Médias       70.78  63.97  64.87  66.94  68.02  65.08  68.32   66.85"
      ]
     },
     "execution_count": 27,
     "metadata": {},
     "output_type": "execute_result"
    }
   ],
   "source": [
    "# dados bruto\n",
    "x_treino_norm2_bruto = normalizer(x_treino)\n",
    "x_teste_norm2_bruto  = normalizer(x_teste)\n",
    "result_bruto_norm2   = fit_modelos(modelos, x_treino_norm2_bruto, y_treino, x_teste_norm2_bruto, y_teste)\n",
    "\n",
    "# dados sem os zeros\n",
    "x_treino_norm2_sem_zeros = normalizer(x_treino_sem_zeros)\n",
    "x_teste_norm2_sem_zeros  = normalizer(x_teste_sem_zeros)\n",
    "result_sem_zeros_norm2   = fit_modelos(modelos, x_treino_norm2_sem_zeros, y_treino_sem_zeros, \n",
    "                                       x_teste_norm2_sem_zeros, y_teste_sem_zeros)\n",
    "\n",
    "# dados com as médias\n",
    "tipo_dado = 'Com Médias'\n",
    "x_treino_norm2_medias = normalizer(x_treino_medias)\n",
    "x_teste_norm2_medias  = normalizer(x_teste_medias)\n",
    "result_medias_norm2   = fit_modelos(modelos, x_treino_norm2_medias, y_treino_medias, \n",
    "                                    x_teste_norm2_medias, y_teste_medias)\n",
    "\n",
    "# unindo os resultados\n",
    "resultados_norm2 = concat_results(result_bruto_norm2, result_sem_zeros_norm2, result_medias_norm2)\n",
    "resultados_norm2"
   ]
  },
  {
   "cell_type": "markdown",
   "metadata": {},
   "source": [
    "### 6.4.4 Padronização (StandardScale)"
   ]
  },
  {
   "cell_type": "code",
   "execution_count": 28,
   "metadata": {},
   "outputs": [
    {
     "data": {
      "text/html": [
       "<div>\n",
       "<style scoped>\n",
       "    .dataframe tbody tr th:only-of-type {\n",
       "        vertical-align: middle;\n",
       "    }\n",
       "\n",
       "    .dataframe tbody tr th {\n",
       "        vertical-align: top;\n",
       "    }\n",
       "\n",
       "    .dataframe thead th {\n",
       "        text-align: right;\n",
       "    }\n",
       "</style>\n",
       "<table border=\"1\" class=\"dataframe\">\n",
       "  <thead>\n",
       "    <tr style=\"text-align: right;\">\n",
       "      <th></th>\n",
       "      <th>RF</th>\n",
       "      <th>LR</th>\n",
       "      <th>LDA</th>\n",
       "      <th>NB</th>\n",
       "      <th>KNN</th>\n",
       "      <th>SVM</th>\n",
       "      <th>XGB</th>\n",
       "      <th>MEDIAS</th>\n",
       "    </tr>\n",
       "  </thead>\n",
       "  <tbody>\n",
       "    <tr>\n",
       "      <th>Dados Bruto</th>\n",
       "      <td>75.32</td>\n",
       "      <td>79.65</td>\n",
       "      <td>80.09</td>\n",
       "      <td>77.49</td>\n",
       "      <td>74.03</td>\n",
       "      <td>76.19</td>\n",
       "      <td>74.03</td>\n",
       "      <td>76.69</td>\n",
       "    </tr>\n",
       "    <tr>\n",
       "      <th>Sem Zeros</th>\n",
       "      <td>80.67</td>\n",
       "      <td>79.83</td>\n",
       "      <td>81.51</td>\n",
       "      <td>77.31</td>\n",
       "      <td>70.59</td>\n",
       "      <td>77.31</td>\n",
       "      <td>77.31</td>\n",
       "      <td>77.79</td>\n",
       "    </tr>\n",
       "    <tr>\n",
       "      <th>Com Médias</th>\n",
       "      <td>85.71</td>\n",
       "      <td>81.82</td>\n",
       "      <td>81.82</td>\n",
       "      <td>82.68</td>\n",
       "      <td>88.31</td>\n",
       "      <td>87.01</td>\n",
       "      <td>82.68</td>\n",
       "      <td>84.29</td>\n",
       "    </tr>\n",
       "    <tr>\n",
       "      <th>Médias</th>\n",
       "      <td>80.57</td>\n",
       "      <td>80.43</td>\n",
       "      <td>81.14</td>\n",
       "      <td>79.16</td>\n",
       "      <td>77.64</td>\n",
       "      <td>80.17</td>\n",
       "      <td>78.01</td>\n",
       "      <td>79.59</td>\n",
       "    </tr>\n",
       "  </tbody>\n",
       "</table>\n",
       "</div>"
      ],
      "text/plain": [
       "0               RF     LR    LDA     NB    KNN    SVM    XGB  MEDIAS\n",
       "Dados Bruto  75.32  79.65  80.09  77.49  74.03  76.19  74.03   76.69\n",
       "Sem Zeros    80.67  79.83  81.51  77.31  70.59  77.31  77.31   77.79\n",
       "Com Médias   85.71  81.82  81.82  82.68  88.31  87.01  82.68   84.29\n",
       "Médias       80.57  80.43  81.14  79.16  77.64  80.17  78.01   79.59"
      ]
     },
     "execution_count": 28,
     "metadata": {},
     "output_type": "execute_result"
    }
   ],
   "source": [
    "# dados bruto\n",
    "x_treino_std_bruto = standarization(x_treino)\n",
    "x_teste_std_bruto  = standarization(x_teste)\n",
    "result_bruto_std   = fit_modelos(modelos, x_treino_std_bruto, y_treino, x_teste_std_bruto, y_teste)\n",
    "\n",
    "# dados sem os zeros\n",
    "x_treino_std_sem_zeros = standarization(x_treino_sem_zeros)\n",
    "x_teste_std_sem_zeros  = standarization(x_teste_sem_zeros)\n",
    "result_sem_zeros_std   = fit_modelos(modelos, x_treino_std_sem_zeros, y_treino_sem_zeros, \n",
    "                                     x_teste_std_sem_zeros, y_teste_sem_zeros)\n",
    "\n",
    "# dados com as médias\n",
    "x_treino_std_medias = standarization(x_treino_medias)\n",
    "x_teste_std_medias  = standarization(x_teste_medias)\n",
    "result_medias_std   = fit_modelos(modelos, x_treino_std_medias, y_treino_medias, \n",
    "                                  x_teste_std_medias, y_teste_medias)\n",
    "\n",
    "# unindo os resultados\n",
    "resultados_std = concat_results(result_bruto_std, result_sem_zeros_std, result_medias_std)\n",
    "resultados_std"
   ]
  },
  {
   "cell_type": "markdown",
   "metadata": {},
   "source": [
    "### 6.4.5 Destaques"
   ]
  },
  {
   "cell_type": "markdown",
   "metadata": {},
   "source": [
    "#### Dados sem transformação"
   ]
  },
  {
   "cell_type": "markdown",
   "metadata": {},
   "source": [
    "* Os dados que receberam as médias apresentaram as melhores acurácias em relação aos demais.\n",
    "* Os dados brutos apresentaram as piores acurácias em relação aos demais.\n",
    "* SVM apresentou a melhor acurácia dentre os modelos.\n",
    "* KNN apresentou a pior acurácia dentro os modelos."
   ]
  },
  {
   "cell_type": "markdown",
   "metadata": {},
   "source": [
    "#### Transformação com MinMaxScaler()"
   ]
  },
  {
   "cell_type": "markdown",
   "metadata": {},
   "source": [
    "* No geral as acurácias apresentaram uma piora em relação aos dados sem transformação.\n",
    "* RF e XGBoost obteve um ganho considerável de acurácia para os dados com as médias."
   ]
  },
  {
   "cell_type": "markdown",
   "metadata": {},
   "source": [
    "#### Transformação com Normalizer()"
   ]
  },
  {
   "cell_type": "markdown",
   "metadata": {},
   "source": [
    "* No geral houve uma redução muito significativa da acuária dos modelos.\n",
    "* Apenas NB e KNN, com as médias, conseguiram melhorar a acurácia em relação a normalização com MinMaxScaler."
   ]
  },
  {
   "cell_type": "markdown",
   "metadata": {},
   "source": [
    "#### Padronização"
   ]
  },
  {
   "cell_type": "markdown",
   "metadata": {},
   "source": [
    "* Os dados brutos e os dados sem os zeros manteram praticamente as acurácias do treinamento sem transformação.\n",
    "* Os dados com as médias apresentaram uma melhora bastante significativa em relação as outras transformações.\n",
    "* KNN e SVM com as médias obtiveram a melhor acurácia dentre todos."
   ]
  },
  {
   "cell_type": "markdown",
   "metadata": {},
   "source": [
    "# 7.0 Otimizando o Modelo"
   ]
  },
  {
   "cell_type": "markdown",
   "metadata": {},
   "source": [
    "Irei realizar um processo de otimização do algoritmo, buscando aumentar ainda mais a acurácia do modelo. Irei realizar esse procedimento nos dois algoritmos que apresentaram maior acurácia até o momento, SVM e KNN (com médias e padronização). "
   ]
  },
  {
   "cell_type": "markdown",
   "metadata": {},
   "source": [
    "## 7.1 SVM Tuning"
   ]
  },
  {
   "cell_type": "code",
   "execution_count": 29,
   "metadata": {},
   "outputs": [
    {
     "name": "stdout",
     "output_type": "stream",
     "text": [
      "Melhores Parâmetros do Modelo: \n",
      " SVC(C=10, gamma=0.1)\n"
     ]
    }
   ],
   "source": [
    "# hyperparâmetros e seus valores que serão utilizados para testar o modelo.\n",
    "hyper_svm = {'C': [0.001, 0.01, 0.1, 1, 10, 100, 1000], \n",
    "               'gamma': [1, 0.1, 0.01, 0.001], \n",
    "               'kernel': ['rbf', 'poly', 'sigmoid']}\n",
    "\n",
    "# modelo.\n",
    "modelo_svm = SVC()\n",
    "\n",
    "# otimizador.\n",
    "tuning_svm = RandomizedSearchCV(estimator           = modelo_svm, \n",
    "                                param_distributions = hyper_svm,\n",
    "                                n_iter              = 15,\n",
    "                                random_state        = 123,\n",
    "                                scoring             = 'roc_auc')\n",
    "\n",
    "# rodando o otimizador.\n",
    "tuning_svm.fit(x_treino_std_medias, y_treino)\n",
    "\n",
    "# resultados.\n",
    "print('Melhores Parâmetros do Modelo: \\n', tuning_svm.best_estimator_)"
   ]
  },
  {
   "cell_type": "code",
   "execution_count": 30,
   "metadata": {},
   "outputs": [
    {
     "name": "stdout",
     "output_type": "stream",
     "text": [
      "Acurácia do modelo otimizado: 87.45%.\n",
      "\n",
      "Confusion Matrix:\n",
      " [[130  13]\n",
      " [ 16  72]]\n",
      "\n",
      "Relatório de Classificação:\n",
      "               precision    recall  f1-score   support\n",
      "\n",
      "           0       0.89      0.91      0.90       143\n",
      "           1       0.85      0.82      0.83        88\n",
      "\n",
      "    accuracy                           0.87       231\n",
      "   macro avg       0.87      0.86      0.87       231\n",
      "weighted avg       0.87      0.87      0.87       231\n",
      "\n"
     ]
    },
    {
     "data": {
      "image/png": "[encoded data removed]",
      "text/plain": [
       "<Figure size 432x288 with 1 Axes>"
      ]
     },
     "metadata": {
      "needs_background": "light"
     },
     "output_type": "display_data"
    }
   ],
   "source": [
    "# modelo otimizado\n",
    "modelo_svm = SVC(C = 10, gamma = 0.1)\n",
    "modelo_svm.fit(x_treino_std_medias, y_treino)\n",
    "print('Acurácia do modelo otimizado: {}%.'.format(round(100 * (modelo_svm.score(x_teste_std_medias, y_teste)), 2)))\n",
    "\n",
    "# previsões\n",
    "y_hat_svm = modelo_svm.predict(x_teste_std_medias)\n",
    "\n",
    "# confusion matrix\n",
    "conf_mtx_svm = confusion_matrix(y_teste, y_hat_svm)\n",
    "class_report_svm = classification_report(y_teste, y_hat_svm)\n",
    "print('\\nConfusion Matrix:\\n', conf_mtx_svm)\n",
    "print('\\nRelatório de Classificação:\\n', class_report_svm)\n",
    "\n",
    "# curva roc\n",
    "fpr_svm, tpr_svm, x = roc_curve(y_teste, y_hat_svm)\n",
    "roc_auc_svm = auc(fpr_svm, tpr_svm)\n",
    "\n",
    "plt.title('AUC = %0.2f' % roc_auc_svm)\n",
    "plt.plot(fpr_svm, tpr_svm, 'b')\n",
    "plt.plot([0, 1], [0, 1],'r--')\n",
    "plt.show()"
   ]
  },
  {
   "cell_type": "markdown",
   "metadata": {},
   "source": [
    "## 7.2 KNN Tuning"
   ]
  },
  {
   "cell_type": "code",
   "execution_count": 31,
   "metadata": {},
   "outputs": [
    {
     "name": "stdout",
     "output_type": "stream",
     "text": [
      "Melhores Parâmetros do Modelo: \n",
      " KNeighborsClassifier(algorithm='brute', leaf_size=45, n_neighbors=22, p=1,\n",
      "                     weights='distance')\n"
     ]
    }
   ],
   "source": [
    "# hyperparâmetros e seus valores que serão utilizados para testar o modelo.\n",
    "hyper_knn = {'leaf_size'   : list(range(1,50)),\n",
    "               'n_neighbors' : list(range(1,30)),\n",
    "               'p'           : [1, 2],\n",
    "               'weights'     : ['uniform', 'distance'],\n",
    "               'algorithm'   : ['auto', 'ball_tree','kd_tree','brute']}\n",
    "\n",
    "# modelo.\n",
    "modelo_knn = KNeighborsClassifier()\n",
    "\n",
    "# otimizador.\n",
    "tuning_knn = RandomizedSearchCV(estimator           = modelo_knn, \n",
    "                                param_distributions = hyper_knn,\n",
    "                                n_iter              = 15,\n",
    "                                random_state        = 123,\n",
    "                                scoring             = 'roc_auc')\n",
    "\n",
    "# rodando o otimizador.\n",
    "tuning_knn.fit(x_treino_std_medias, y_treino)\n",
    "\n",
    "# resultado.\n",
    "print('Melhores Parâmetros do Modelo: \\n', tuning_knn.best_estimator_)"
   ]
  },
  {
   "cell_type": "code",
   "execution_count": 32,
   "metadata": {},
   "outputs": [
    {
     "name": "stdout",
     "output_type": "stream",
     "text": [
      "Acurácia do modelo otimizado: 90.04%.\n",
      "\n",
      "Confusion Matrix:\n",
      " [[133  10]\n",
      " [ 13  75]]\n",
      "\n",
      "Relatório de Classificação:\n",
      "               precision    recall  f1-score   support\n",
      "\n",
      "           0       0.91      0.93      0.92       143\n",
      "           1       0.88      0.85      0.87        88\n",
      "\n",
      "    accuracy                           0.90       231\n",
      "   macro avg       0.90      0.89      0.89       231\n",
      "weighted avg       0.90      0.90      0.90       231\n",
      "\n"
     ]
    },
    {
     "data": {
      "image/png": "[encoded data removed]",
      "text/plain": [
       "<Figure size 432x288 with 1 Axes>"
      ]
     },
     "metadata": {
      "needs_background": "light"
     },
     "output_type": "display_data"
    }
   ],
   "source": [
    "# modelo otimizado\n",
    "modelo_knn = KNeighborsClassifier(algorithm = 'brute', leaf_size = 45, n_neighbors = 22, p = 1, weights = 'distance')\n",
    "modelo_knn.fit(x_treino_std_medias, y_treino)\n",
    "print('Acurácia do modelo otimizado: {}%.'.format(round(100 * (modelo_knn.score(x_teste_std_medias, y_teste)), 2)))\n",
    "\n",
    "# previsões\n",
    "y_hat_knn = modelo_knn.predict(x_teste_std_medias)\n",
    "\n",
    "# confusion matrix\n",
    "conf_mtx_knn = confusion_matrix(y_teste, y_hat_knn)\n",
    "class_report_knn = classification_report(y_teste, y_hat_knn)\n",
    "print('\\nConfusion Matrix:\\n', conf_mtx_knn)\n",
    "print('\\nRelatório de Classificação:\\n', class_report_knn)\n",
    "\n",
    "# curva roc\n",
    "fpr_knn, tpr_knn, x = roc_curve(y_teste, y_hat_knn)\n",
    "roc_auc_knn = auc(fpr_knn, tpr_knn)\n",
    "\n",
    "plt.title('AUC = %0.2f' % roc_auc_knn)\n",
    "plt.plot(fpr_knn, tpr_knn, 'b')\n",
    "plt.plot([0, 1], [0, 1],'r--')\n",
    "plt.show()"
   ]
  },
  {
   "cell_type": "markdown",
   "metadata": {},
   "source": [
    "# 8.0 Conclusões"
   ]
  },
  {
   "cell_type": "markdown",
   "metadata": {},
   "source": [
    "* O modelo possui baixa correlação entre as variáveis preditora e a variável target. \n",
    "\n",
    "* A média das acurácias para os modelos com os dados com as médias foram melhores em todas as situações.\n",
    "\n",
    "* A padronização dos dados garantiu melhor acurácia dos modelos.\n",
    "\n",
    "* KNN apresentou uma melhora bastante significativa com a padronização, e obteve a melhor acurácia de todos os modelos treinados.\n",
    "\n",
    "* Não foi possível otimizar o modelo SVM com os parâmetros escolhidos.\n",
    "\n",
    "* O modelo KNN apresentou uma boa melhora com a otimização realizada, saindo de 88.31% para 90.04%."
   ]
  }
 ],
 "metadata": {
  "kernelspec": {
   "display_name": "Python 3",
   "language": "python",
   "name": "python3"
  },
  "language_info": {
   "codemirror_mode": {
    "name": "ipython",
    "version": 3
   },
   "file_extension": ".py",
   "mimetype": "text/x-python",
   "name": "python",
   "nbconvert_exporter": "python",
   "pygments_lexer": "ipython3",
   "version": "3.8.3"
  }
 },
 "nbformat": 4,
 "nbformat_minor": 4
}
